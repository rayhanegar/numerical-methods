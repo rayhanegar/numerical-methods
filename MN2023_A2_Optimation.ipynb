{
 "cells": [
  {
   "cell_type": "markdown",
   "metadata": {},
   "source": [
    "# MN2023_A2_Optimization\n",
    "- Golden Section Search (GSS) Optimazation\n",
    "- Newton Optimazation\n",
    "- Quadratic Interpolation\n",
    "- Steepest Ascend/Descend Optimazation"
   ]
  },
  {
   "cell_type": "code",
   "execution_count": 2,
   "metadata": {},
   "outputs": [],
   "source": [
    "import numpy as np \n",
    "import matplotlib.pyplot as plt"
   ]
  },
  {
   "cell_type": "markdown",
   "metadata": {},
   "source": [
    "## GSS Optimization"
   ]
  },
  {
   "cell_type": "code",
   "execution_count": 20,
   "metadata": {},
   "outputs": [],
   "source": [
    "def gss_optimization(fx, x_lower, x_upper, max_iter=15, threshold=1e-6):\n",
    "    x_lower = float(x_lower)\n",
    "    x_upper = float(x_upper)\n",
    "    r = 0.61803  # Golden ratio constant\n",
    "\n",
    "    print(\"iter.\\tx_lower\\tx_upper\\td\\tx1\\tx2\\tf(x1)\\t\\tf(x2)\")\n",
    "    for i in range(max_iter):\n",
    "        d = r * (x_upper - x_lower)\n",
    "        x1 = x_lower + d\n",
    "        x2 = x_upper - d\n",
    "\n",
    "        fx1 = fx(x1)\n",
    "        fx2 = fx(x2)\n",
    "        print(f\"{i}\\t{x_lower:.4f}\\t{x_upper:.4f}\\t{d:.4f}\\t{x1:.4f}\\t{x2:.4f}\\t{fx1:.6f}\\t{fx2:.6f}\")\n",
    "\n",
    "        if fx1 > fx2:\n",
    "            x_lower = x2\n",
    "        else:\n",
    "            x_upper = x1\n",
    "\n",
    "    print(f\"\\nOptimum result: x = {(x_lower + x_upper)/2:.4f}, f({(x_lower + x_upper)/2:.4f}) = {(fx1+fx2)/2:.4f}\")\n",
    "    return (x_lower + x_upper) / 2 # Average untuk hasil optimum\n",
    "\n"
   ]
  },
  {
   "cell_type": "code",
   "execution_count": 21,
   "metadata": {},
   "outputs": [
    {
     "name": "stdout",
     "output_type": "stream",
     "text": [
      "iter.\tx_lower\tx_upper\td\tx1\tx2\tf(x1)\t\tf(x2)\n",
      "0\t0.0000\t4.0000\t2.4721\t2.4721\t1.5279\t0.630007\t1.764717\n",
      "1\t0.0000\t2.4721\t1.5278\t1.5278\t0.9443\t1.764725\t1.530979\n",
      "2\t0.9443\t2.4721\t0.9443\t1.8885\t1.5279\t1.543238\t1.764720\n",
      "3\t0.9443\t1.8885\t0.5836\t1.5279\t1.3050\t1.764723\t1.759452\n",
      "4\t1.3050\t1.8885\t0.3607\t1.6656\t1.5279\t1.713586\t1.764721\n",
      "5\t1.3050\t1.6656\t0.2229\t1.5279\t1.4427\t1.764722\t1.775475\n",
      "6\t1.3050\t1.5279\t0.1378\t1.4427\t1.3901\t1.775475\t1.774199\n",
      "7\t1.3901\t1.5279\t0.0851\t1.4752\t1.4427\t1.773243\t1.775475\n",
      "8\t1.3901\t1.4752\t0.0526\t1.4427\t1.4226\t1.775475\t1.775699\n",
      "9\t1.3901\t1.4427\t0.0325\t1.4226\t1.4102\t1.775699\t1.775398\n",
      "10\t1.4102\t1.4427\t0.0201\t1.4303\t1.4226\t1.775717\t1.775699\n",
      "11\t1.4226\t1.4427\t0.0124\t1.4350\t1.4303\t1.775665\t1.775717\n",
      "12\t1.4226\t1.4350\t0.0077\t1.4303\t1.4274\t1.775717\t1.775726\n",
      "13\t1.4226\t1.4303\t0.0047\t1.4274\t1.4255\t1.775726\t1.775721\n",
      "14\t1.4255\t1.4303\t0.0029\t1.4285\t1.4274\t1.775725\t1.775726\n",
      "\n",
      "Optimum result: x = 1.4270, f(1.4270) = 1.7757\n"
     ]
    },
    {
     "data": {
      "text/plain": [
       "1.427014084158567"
      ]
     },
     "execution_count": 21,
     "metadata": {},
     "output_type": "execute_result"
    }
   ],
   "source": [
    "# GSS Contoh Soal 1\n",
    "fx_gss = lambda x : 2 * np.sin(x) - np.power(x, 2)/10\n",
    "x_lower_gss = 0\n",
    "x_upper_gss = 4\n",
    "gss_optimization(fx_gss, x_lower_gss, x_upper_gss)"
   ]
  },
  {
   "cell_type": "markdown",
   "metadata": {},
   "source": [
    "## Steepest Ascent/Descent"
   ]
  },
  {
   "cell_type": "code",
   "execution_count": 1,
   "metadata": {},
   "outputs": [],
   "source": [
    "def steepest_ascent_descent():\n",
    "    pass"
   ]
  },
  {
   "cell_type": "code",
   "execution_count": null,
   "metadata": {},
   "outputs": [],
   "source": []
  }
 ],
 "metadata": {
  "kernelspec": {
   "display_name": "myenv",
   "language": "python",
   "name": "python3"
  },
  "language_info": {
   "codemirror_mode": {
    "name": "ipython",
    "version": 3
   },
   "file_extension": ".py",
   "mimetype": "text/x-python",
   "name": "python",
   "nbconvert_exporter": "python",
   "pygments_lexer": "ipython3",
   "version": "3.10.9"
  }
 },
 "nbformat": 4,
 "nbformat_minor": 2
}
