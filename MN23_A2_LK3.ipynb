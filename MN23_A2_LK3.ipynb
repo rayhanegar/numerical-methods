{
 "cells": [
  {
   "cell_type": "markdown",
   "metadata": {},
   "source": [
    "# MN23_A2_LK3"
   ]
  },
  {
   "cell_type": "markdown",
   "metadata": {},
   "source": [
    "### Ketua Kelompok\n",
    "1. Rayhan Egar Sadtya Nugraha (225150201111014)\n",
    "\n",
    "### Anggota Kelompok \n",
    "1. Hugo Alfedo Putra (225150201111013)\n",
    "2. Arion Syemael Siahaan(225150207111060)"
   ]
  },
  {
   "cell_type": "code",
   "execution_count": 2,
   "metadata": {},
   "outputs": [],
   "source": [
    "import numpy as np\n",
    "import math"
   ]
  },
  {
   "cell_type": "markdown",
   "metadata": {},
   "source": [
    "## Forward dan Backward Substitution"
   ]
  },
  {
   "cell_type": "code",
   "execution_count": 59,
   "metadata": {},
   "outputs": [],
   "source": [
    "def forward_substitution(a, b):\n",
    "    n = len(a)\n",
    "    y = np.zeros(n).astype(float)\n",
    "\n",
    "    y[0] = b[0]\n",
    "    for i in range(1, n):\n",
    "        sum_term = np.dot(a[i, 0:n], b[0:n])\n",
    "        y[i] = (b[i] - sum_term) / a[i, i]\n",
    "    \n",
    "    return y\n",
    "\n",
    "def backward_substitution(a, y):\n",
    "    n = len(a)\n",
    "    x = np.zeros(n).astype(float)\n",
    "\n",
    "    for i in range (n-1, -1, -1):\n",
    "        sum_term = np.dot(a[i, i+1:n], x[i+1:n])\n",
    "        x[i] = (y[i] - sum_term) / a[i, i]\n",
    "\n",
    "    return x\n"
   ]
  },
  {
   "cell_type": "markdown",
   "metadata": {},
   "source": [
    "## Gauss Elimination Method"
   ]
  },
  {
   "cell_type": "code",
   "execution_count": 1,
   "metadata": {},
   "outputs": [],
   "source": [
    "def gauss_elimination(a, b):\n",
    "\n",
    "    n = len(b)\n",
    "    x = np.zeros(n).astype(float)\n",
    "\n",
    "    # Iterasi pivot row\n",
    "    for j in range(n):\n",
    "\n",
    "        # Iterasi modified row\n",
    "        # Eliminasi gaussian\n",
    "        for i in range(j+1, n):\n",
    "            ratio = a[i, j] / a[j, j]\n",
    "            a[i, j:n] = a[i, j:n] - ratio * a[j, j:n]\n",
    "            b[i] = b[i] - ratio * b[j]\n",
    "\n",
    "    # Back-substitution\n",
    "    for i in range(n-1, -1, -1):\n",
    "        sum_term = np.dot(a[i, i+1:n], x[i+1:n])\n",
    "        x[i] = (b[i] - sum_term) / a[i, i]\n",
    "\n",
    "    return x"
   ]
  },
  {
   "cell_type": "markdown",
   "metadata": {},
   "source": [
    "### Latihan Gauss Elimination"
   ]
  },
  {
   "cell_type": "code",
   "execution_count": 3,
   "metadata": {},
   "outputs": [
    {
     "name": "stdout",
     "output_type": "stream",
     "text": [
      "a = [[1, 1, 1], [1, 2, -1], [2, 1, 2]]\n",
      "b = [6, 2, 10]\n",
      "x = [1. 2. 3.]\n"
     ]
    }
   ],
   "source": [
    "# Nomor 1\n",
    "a1 = [[1, 1, 1], [1, 2, -1], [2, 1, 2]]\n",
    "b1 = [6, 2, 10]\n",
    "\n",
    "x1 = gauss_elimination(np.array(a1), np.array(b1))\n",
    "print(f\"a = {a1}\\nb = {b1}\\nx = {x1}\")"
   ]
  },
  {
   "cell_type": "code",
   "execution_count": 62,
   "metadata": {},
   "outputs": [
    {
     "name": "stdout",
     "output_type": "stream",
     "text": [
      "a = [[2.51, 1.48, 4.53], [1.48, 0.93, -1.3], [2.68, 3.04, -1.48]]\n",
      "b = [0.05, 1.03, -0.53]\n",
      "x = [ 1.4531001  -1.58919486 -0.27489467]\n"
     ]
    }
   ],
   "source": [
    "# Nomor 2\n",
    "a2 = [[2.51, 1.48, 4.53], [1.48, 0.93, -1.3], [2.68, 3.04, -1.48]]\n",
    "b2 = [0.05, 1.03, -0.53]\n",
    "\n",
    "x2 = gauss_elimination(np.array(a2), np.array(b2))\n",
    "print(f\"a = {a2}\\nb = {b2}\\nx = {x2}\")"
   ]
  },
  {
   "cell_type": "markdown",
   "metadata": {},
   "source": [
    "## LU Decomposition Method"
   ]
  },
  {
   "cell_type": "code",
   "execution_count": 4,
   "metadata": {},
   "outputs": [],
   "source": [
    "def lu_decomposition(a, b):\n",
    "    n = len(a)\n",
    "    u = np.zeros_like(a).astype(float)\n",
    "    l = np.eye(n).astype(float)\n",
    "\n",
    "    # Duplikasi array a ke array u\n",
    "    for i in range(n):\n",
    "        for j in range(n):\n",
    "            u[i, j] = a[i, j]\n",
    "\n",
    "    # Faktorisasi LU\n",
    "    for j in range(n):\n",
    "        for i in range(j+1, n):\n",
    "            l[i, j] = u[i, j] / u[j, j]\n",
    "            u[i, j:n] = u[i, j:n] - l[i, j] * u[j, j:n]\n",
    "\n",
    "    # Menyelesaikan ly = b\n",
    "    y = gauss_elimination(l, b)\n",
    "\n",
    "    # Menyelesaikan ux = y\n",
    "    x = gauss_elimination(u, y)\n",
    "\n",
    "    return x"
   ]
  },
  {
   "cell_type": "markdown",
   "metadata": {},
   "source": [
    "### Latihan LU Decomposition"
   ]
  },
  {
   "cell_type": "code",
   "execution_count": 5,
   "metadata": {},
   "outputs": [
    {
     "name": "stdout",
     "output_type": "stream",
     "text": [
      "a = [[4, 3, -1], [-2, -4, 5], [1, 2, 6]]\n",
      "b = [9, 2, 16]\n",
      "x = [1.97941176 0.98823529 1.88235294]\n"
     ]
    }
   ],
   "source": [
    "# Nomor 1\n",
    "a3 = [[4, 3, -1], [-2, -4, 5], [1, 2, 6]]\n",
    "b3 = [9, 2, 16]\n",
    "\n",
    "x3 = lu_decomposition(np.array(a3), np.array(b3))\n",
    "print(f\"a = {a3}\\nb = {b3}\\nx = {x3}\")"
   ]
  },
  {
   "cell_type": "code",
   "execution_count": 7,
   "metadata": {},
   "outputs": [
    {
     "name": "stdout",
     "output_type": "stream",
     "text": [
      "a = [[1, 1, 0, 3], [2, 1, -1, 1], [3, -1, -1, 2], [-1, -2, 3, -1]]\n",
      "b = [4, 1, -3, 4]\n",
      "x = [0.88172043 2.53763441 3.49462366 0.19354839]\n"
     ]
    }
   ],
   "source": [
    "# Nomor 2\n",
    "a4 = [[1, 1, 0, 3], [2, 1, -1, 1], [3, -1, -1, 2], [-1, -2, 3, -1]]\n",
    "b4 = [4, 1, -3, 4]\n",
    "\n",
    "x4 = lu_decomposition(np.array(a4), np.array(b4))\n",
    "print(f\"a = {a4}\\nb = {b4}\\nx = {x4}\")"
   ]
  },
  {
   "cell_type": "markdown",
   "metadata": {},
   "source": [
    "## Cholesky Decomposition"
   ]
  },
  {
   "cell_type": "code",
   "execution_count": 34,
   "metadata": {},
   "outputs": [],
   "source": [
    "def cholesky_factor(a):\n",
    "    n = len(a)\n",
    "    l = np.zeros_like(a).astype(float)\n",
    "\n",
    "    # Mengcopy isi matriks a ke matriks l\n",
    "    for i in range(n):\n",
    "        for j in range(n):\n",
    "            l[i, j] = a[i, j]\n",
    "\n",
    "    for j in range(n):\n",
    "\n",
    "        # Memastikan jika elemen matriks diagonal utama\n",
    "        try:\n",
    "            l[j, j] = math.sqrt(l[j, j] - np.dot(l[j, 0:j], l[j, 0:j]))\n",
    "        except ValueError:\n",
    "            print(\"Matriks tidak bisa diselesaikan dengan Cholesky Decomposition\")\n",
    "            return l\n",
    "        \n",
    "        # Melakukan forward-substitution matriks l\n",
    "        for i in range(j+1, n):\n",
    "            sum_term = np.dot(l[i, 0:j], l[j, 0:j])\n",
    "            l[i, j] = (l[i, j] - sum_term) / l[j, j]\n",
    "\n",
    "    # Membuat matriks l menjadi matriks segitiga bawah\n",
    "    for j in range(1, n):\n",
    "        l[0:j, j] = 0.0\n",
    "\n",
    "    return l"
   ]
  },
  {
   "cell_type": "markdown",
   "metadata": {},
   "source": [
    "Resolve Cholesky Sol!!!"
   ]
  },
  {
   "cell_type": "code",
   "execution_count": 38,
   "metadata": {},
   "outputs": [],
   "source": [
    "def cholesky_sol(l, b):\n",
    "    n = len(b)\n",
    "    y = np.zeros(n).astype(float)\n",
    "    x = np.zeros(n).astype(float)\n",
    "\n",
    "    # ly = b, dengan forward-substitution\n",
    "    y[0] = b[0]\n",
    "    for j in range(1, n):\n",
    "        sum_term = np.dot(l[j, 0:n], y[0:n])\n",
    "        # sum_term = np.dot(l[j, 0:j], y[0:j])\n",
    "        y[j] = (b[j] - sum_term)/l[j, j]\n",
    "    \n",
    "    # print(\"Y = \", y)\n",
    "    \n",
    "    # u = l_transpose\n",
    "    # (l_transpose)x = y\n",
    "    # lx = y, dengan backward-substitution\n",
    "    for j in range(n-1, -1, -1):\n",
    "        sum_term = np.dot(l[j, j+1:n], x[j+1:n])\n",
    "        # sum_term = np.dot(l[j+1:n, j], x[j+1:n])\n",
    "        x[j] = (y[j] - sum_term) / l[j, j]\n",
    "    \n",
    "    return x"
   ]
  },
  {
   "cell_type": "code",
   "execution_count": 39,
   "metadata": {},
   "outputs": [],
   "source": [
    "def cholesky(a, b):\n",
    "    l = cholesky_factor(a)\n",
    "    x = cholesky_sol(l, b)\n",
    "    return x"
   ]
  },
  {
   "cell_type": "markdown",
   "metadata": {},
   "source": [
    "### Latihan Cholesky Decomposition"
   ]
  },
  {
   "cell_type": "code",
   "execution_count": 40,
   "metadata": {},
   "outputs": [
    {
     "name": "stdout",
     "output_type": "stream",
     "text": [
      "a = [[1, 3, 5], [3, 13, 23], [5, 23, 42]]\n",
      "Faktor Cholesky = \n",
      "[[1. 0. 0.]\n",
      " [3. 2. 0.]\n",
      " [5. 4. 1.]]\n",
      "Contoh penggunaan Cholesky:\n",
      "a = [[4, 10, 8], [10, 26, 26], [8, 26, 61]]\n",
      "Solusi = \n",
      "[ 22.         -92.          65.55555556]\n"
     ]
    }
   ],
   "source": [
    "# Tentukan faktor Cholesky\n",
    "a5 = [[1, 3, 5], [3, 13, 23], [5, 23, 42]]\n",
    "a6 = [[4, 10, 8], [10, 26, 26], [8, 26, 61]]\n",
    "b6 = [44, 128, 214]\n",
    "\n",
    "faktor_cholesky_a5 = cholesky_factor(np.array(a5))\n",
    "solusi_a6 = cholesky(np.array(a6), np.array(b6))\n",
    "\n",
    "print(f\"a = {a5}\\nFaktor Cholesky = \\n{faktor_cholesky_a5}\")\n",
    "\n",
    "# Contoh soal\n",
    "print(\"Contoh penggunaan Cholesky:\")\n",
    "print(f\"a = {a6}\\nSolusi = \\n{solusi_a6}\")\n"
   ]
  },
  {
   "cell_type": "code",
   "execution_count": null,
   "metadata": {},
   "outputs": [],
   "source": []
  }
 ],
 "metadata": {
  "kernelspec": {
   "display_name": "Python 3",
   "language": "python",
   "name": "python3"
  },
  "language_info": {
   "codemirror_mode": {
    "name": "ipython",
    "version": 3
   },
   "file_extension": ".py",
   "mimetype": "text/x-python",
   "name": "python",
   "nbconvert_exporter": "python",
   "pygments_lexer": "ipython3",
   "version": "3.10.9"
  },
  "orig_nbformat": 4
 },
 "nbformat": 4,
 "nbformat_minor": 2
}
