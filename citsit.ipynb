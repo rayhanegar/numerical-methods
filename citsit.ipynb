{
 "cells": [
  {
   "cell_type": "code",
   "execution_count": 1,
   "metadata": {},
   "outputs": [],
   "source": [
    "import numpy as np\n",
    "import matplotlib.pyplot as plt\n",
    "import pandas as pd\n",
    "\n",
    "def fx(x): \n",
    "    return 1/x\n",
    "\n",
    "def dfx(x):\n",
    "    return 2*x-2\n",
    "\n",
    "def ddfx(x): \n",
    "    return 2"
   ]
  },
  {
   "cell_type": "markdown",
   "metadata": {},
   "source": [
    "# EIGEN VALUE DAN EIGEN VECTOR"
   ]
  },
  {
   "cell_type": "markdown",
   "metadata": {},
   "source": [
    "1. Metode Power"
   ]
  },
  {
   "cell_type": "code",
   "execution_count": 2,
   "metadata": {},
   "outputs": [
    {
     "name": "stdout",
     "output_type": "stream",
     "text": [
      "Iterasi ke- 1\n",
      "x:  [[ 0.26678526]\n",
      " [-0.64028463]\n",
      " [-0.72032021]]\n",
      "xi:  [[  40.]\n",
      " [ -96.]\n",
      " [-108.]]\n",
      "d:  149.9333185119305\n",
      "Iterasi ke- 2\n",
      "x:  [[ 0.82956136]\n",
      " [-0.53921488]\n",
      " [ 0.14517324]]\n",
      "xi:  [[ 2.13428211]\n",
      " [-1.38728337]\n",
      " [ 0.37349937]]\n",
      "d:  2.5727839166650845\n",
      "Iterasi ke- 3\n",
      "x:  [[ 0.31821697]\n",
      " [-0.64571527]\n",
      " [-0.69411076]]\n",
      "xi:  [[ 19.90947254]\n",
      " [-40.39963803]\n",
      " [-43.42753698]]\n",
      "d:  62.565715988904856\n",
      "Iterasi ke- 4\n",
      "x:  [[ 0.58622285]\n",
      " [-0.69293372]\n",
      " [-0.41974472]]\n",
      "xi:  [[ 3.39431434]\n",
      " [-4.01218562]\n",
      " [-2.4303821 ]]\n",
      "d:  5.790143392794601\n",
      "Iterasi ke- 5\n",
      "x:  [[ 0.35524169]\n",
      " [-0.65693421]\n",
      " [-0.66501187]]\n",
      "xi:  [[ 11.13823408]\n",
      " [-20.5974893 ]\n",
      " [-20.85075589]]\n",
      "d:  31.35396059441269\n",
      "Iterasi ke- 6\n",
      "x:  [[ 0.49167117]\n",
      " [-0.68693988]\n",
      " [-0.53513836]]\n",
      "xi:  [[ 4.41247578]\n",
      " [-6.16490409]\n",
      " [-4.80256972]]\n",
      "d:  8.974444883795986\n",
      "Iterasi ke- 7\n",
      "x:  [[ 0.38128578]\n",
      " [-0.66423962]\n",
      " [-0.64296725]]\n",
      "xi:  [[  8.30007596]\n",
      " [-14.45959847]\n",
      " [-13.99652783]]\n",
      "d:  21.76864810099735\n",
      "Iterasi ke- 8\n",
      "x:  [[ 0.45403016]\n",
      " [-0.68083311]\n",
      " [-0.57473724]]\n",
      "xi:  [[ 5.13893605]\n",
      " [-7.70600309]\n",
      " [-6.50515805]]\n",
      "d:  11.318490561058722\n",
      "Iterasi ke- 9\n",
      "x:  [[ 0.3976795 ]\n",
      " [-0.66848693]\n",
      " [-0.62847135]]\n",
      "xi:  [[  7.20603763]\n",
      " [-12.11312629]\n",
      " [-11.38803526]]\n",
      "d:  18.120213961683707\n",
      "Iterasi ke- 10\n",
      "x:  [[ 0.43675295]\n",
      " [-0.6774358 ]\n",
      " [-0.59188479]]\n",
      "xi:  [[ 5.59976697]\n",
      " [-8.68564856]\n",
      " [-7.58876822]]\n",
      "d:  12.821360459934738\n",
      "Iterasi ke- 11\n",
      "x:  [[ 0.40727409]\n",
      " [-0.67084072]\n",
      " [-0.61975846]]\n",
      "xi:  [[  6.70972384]\n",
      " [-11.05190852]\n",
      " [-10.21034299]]\n",
      "d:  16.474713345156303\n",
      "Iterasi ke- 12\n",
      "x:  [[ 0.42822817]\n",
      " [-0.67562982]\n",
      " [-0.6001208 ]]\n",
      "xi:  [[ 5.87077692]\n",
      " [-9.26252   ]\n",
      " [-8.22733211]]\n",
      "d:  13.709459951405801\n",
      "Iterasi ke- 13\n",
      "x:  [[ 0.41265591]\n",
      " [-0.6721173 ]\n",
      " [-0.61479544]]\n",
      "xi:  [[  6.46611624]\n",
      " [-10.53174927]\n",
      " [ -9.63354375]]\n",
      "d:  15.66951074340138\n",
      "Iterasi ke- 14\n",
      "x:  [[ 0.42386514]\n",
      " [-0.67467322]\n",
      " [-0.60428006]]\n",
      "xi:  [[ 6.02322392]\n",
      " [-9.58726608]\n",
      " [-8.58696264]]\n",
      "d:  14.210236614721685\n",
      "Iterasi ke- 15\n",
      "x:  [[ 0.41560397]\n",
      " [-0.67280308]\n",
      " [-0.61205339]]\n",
      "xi:  [[  6.34175517]\n",
      " [-10.2663901 ]\n",
      " [ -9.33940261]]\n",
      "d:  15.25913055625995\n",
      "Iterasi ke- 16\n",
      "x:  [[ 0.42158949]\n",
      " [-0.67416571]\n",
      " [-0.60643458]]\n",
      "xi:  [[ 6.10686451]\n",
      " [-9.76551546]\n",
      " [-8.78440745]]\n",
      "d:  14.485333986868001\n",
      "Iterasi ke- 17\n",
      "x:  [[ 0.41719808]\n",
      " [-0.6731699 ]\n",
      " [-0.61056372]]\n",
      "xi:  [[  6.27697591]\n",
      " [-10.1282135 ]\n",
      " [ -9.18626885]]\n",
      "d:  15.045553191903867\n",
      "Iterasi ke- 18\n",
      "x:  [[ 0.42039075]\n",
      " [-0.67389602]\n",
      " [-0.60756545]]\n",
      "xi:  [[ 6.15213148]\n",
      " [-9.8620081 ]\n",
      " [-8.8913054 ]]\n",
      "d:  14.63431711541279\n",
      "Iterasi ke- 19\n",
      "x:  [[ 0.41805407]\n",
      " [-0.6733657 ]\n",
      " [-0.60976178]]\n",
      "xi:  [[  6.24287544]\n",
      " [-10.05548909]\n",
      " [ -9.1056805 ]]\n",
      "d:  14.933176886719398\n",
      "Iterasi ke- 20\n",
      "x:  [[ 0.41975598]\n",
      " [-0.67375256]\n",
      " [-0.60816314]]\n",
      "xi:  [[ 6.17645004]\n",
      " [-9.91385297]\n",
      " [-8.94874509]]\n",
      "d:  14.714382575714131\n",
      "Iterasi ke- 21\n",
      "x:  [[ 0.418512  ]\n",
      " [-0.67347011]\n",
      " [-0.60933219]]\n",
      "xi:  [[  6.22482469]\n",
      " [-10.01699683]\n",
      " [ -9.06302825]]\n",
      "d:  14.873706637513122\n",
      "Iterasi ke- 22\n",
      "x:  [[ 0.41941892]\n",
      " [-0.6736762 ]\n",
      " [-0.60848019]]\n",
      "xi:  [[ 6.18946289]\n",
      " [-9.94159701]\n",
      " [-8.9794843 ]]\n",
      "d:  14.757233484415778\n",
      "Iterasi ke- 23\n",
      "x:  [[ 0.41875648]\n",
      " [-0.67352576]\n",
      " [-0.60910267]]\n",
      "xi:  [[ 6.21524159]\n",
      " [-9.99656241]\n",
      " [-9.04038605]]\n",
      "d:  14.842138255071418\n",
      "Iterasi ke- 24\n",
      "x:  [[ 0.41923967]\n",
      " [-0.67363554]\n",
      " [-0.60864871]]\n",
      "xi:  [[ 6.19641129]\n",
      " [-9.9564119 ]\n",
      " [-8.99589891]]\n",
      "d:  14.780116642921403\n",
      "Iterasi ke- 25\n",
      "x:  [[ 0.41888687]\n",
      " [-0.67355541]\n",
      " [-0.60898022]]\n",
      "xi:  [[ 6.210146  ]\n",
      " [-9.98569716]\n",
      " [-9.02834708]]\n",
      "d:  14.825353690884496\n",
      "Iterasi ke- 26\n",
      "x:  [[ 0.41914428]\n",
      " [-0.67361389]\n",
      " [-0.60873837]]\n",
      "xi:  [[ 6.2001173 ]\n",
      " [-9.96431374]\n",
      " [-9.00465409]]\n",
      "d:  14.792322269478907\n",
      "Iterasi ke- 27\n",
      "x:  [[ 0.41895637]\n",
      " [-0.67357121]\n",
      " [-0.60891493]]\n",
      "xi:  [[ 6.20743428]\n",
      " [-9.9799151 ]\n",
      " [-9.02194046]]\n",
      "d:  14.816421811056824\n",
      "Iterasi ke- 28\n",
      "x:  [[ 0.41909349]\n",
      " [-0.67360236]\n",
      " [-0.60878609]]\n",
      "xi:  [[ 6.20209275]\n",
      " [-9.96852578]\n",
      " [-9.00932101]]\n",
      "d:  14.798828527110304\n",
      "Iterasi ke- 29\n",
      "x:  [[ 0.4189934 ]\n",
      " [-0.67357962]\n",
      " [-0.60888014]]\n",
      "xi:  [[ 6.20599055]\n",
      " [-9.97683672]\n",
      " [-9.01852959]]\n",
      "d:  14.811666539758711\n",
      "Iterasi ke- 30\n",
      "x:  [[ 0.41906645]\n",
      " [-0.67359621]\n",
      " [-0.60881151]]\n",
      "xi:  [[ 6.2031454 ]\n",
      " [-9.97077025]\n",
      " [-9.01180789]]\n",
      "d:  14.802295552060578\n",
      "Iterasi ke- 31\n",
      "x:  [[ 0.41901313]\n",
      " [-0.6735841 ]\n",
      " [-0.6088616 ]]\n",
      "xi:  [[ 6.20522172]\n",
      " [-9.97519741]\n",
      " [-9.01671321]]\n",
      "d:  14.809134246390984\n",
      "Iterasi ke- 32\n",
      "x:  [[ 0.41905204]\n",
      " [-0.67359294]\n",
      " [-0.60882504]]\n",
      "xi:  [[ 6.20370623]\n",
      " [-9.97196605]\n",
      " [-9.01313284]]\n",
      "d:  14.804142714834127\n",
      "Iterasi ke- 33\n",
      "x:  [[ 0.41902364]\n",
      " [-0.67358649]\n",
      " [-0.60885173]]\n",
      "xi:  [[ 6.20481225]\n",
      " [-9.97432432]\n",
      " [-9.01574582]]\n",
      "d:  14.807785565076173\n",
      "Iterasi ke- 34\n",
      "x:  [[ 0.41904437]\n",
      " [-0.6735912 ]\n",
      " [-0.60883225]]\n",
      "xi:  [[ 6.204005  ]\n",
      " [-9.97260309]\n",
      " [-9.01383869]]\n",
      "d:  14.80512675329631\n",
      "Iterasi ke- 35\n",
      "x:  [[ 0.41902924]\n",
      " [-0.67358776]\n",
      " [-0.60884647]]\n",
      "xi:  [[ 6.20459415]\n",
      " [-9.97385928]\n",
      " [-9.01523056]]\n",
      "d:  14.807067217200155\n",
      "Iterasi ke- 36\n",
      "x:  [[ 0.41904028]\n",
      " [-0.67359027]\n",
      " [-0.60883609]]\n",
      "xi:  [[ 6.20416415]\n",
      " [-9.97294244]\n",
      " [-9.01421469]]\n",
      "d:  14.80565095325385\n",
      "Iterasi ke- 37\n",
      "x:  [[ 0.41903222]\n",
      " [-0.67358844]\n",
      " [-0.60884366]]\n",
      "xi:  [[ 6.20447798]\n",
      " [-9.97361158]\n",
      " [-9.0149561 ]]\n",
      "d:  14.806684589558074\n",
      "Iterasi ke- 38\n",
      "x:  [[ 0.41903811]\n",
      " [-0.67358978]\n",
      " [-0.60883814]]\n",
      "xi:  [[ 6.20424893]\n",
      " [-9.97312321]\n",
      " [-9.01441498]]\n",
      "d:  14.805930188458268\n",
      "Iterasi ke- 39\n",
      "x:  [[ 0.41903381]\n",
      " [-0.6735888 ]\n",
      " [-0.60884217]]\n",
      "xi:  [[ 6.2044161 ]\n",
      " [-9.97347964]\n",
      " [-9.01480991]]\n",
      "d:  14.806480779119138\n",
      "Iterasi ke- 40\n",
      "x:  [[ 0.41903695]\n",
      " [-0.67358951]\n",
      " [-0.60883923]]\n",
      "xi:  [[ 6.20429409]\n",
      " [-9.9732195 ]\n",
      " [-9.01452167]]\n",
      "d:  14.806078931657419\n",
      "Iterasi ke- 41\n",
      "x:  [[ 0.41903466]\n",
      " [-0.67358899]\n",
      " [-0.60884138]]\n",
      "xi:  [[ 6.20438314]\n",
      " [-9.97340936]\n",
      " [-9.01473204]]\n",
      "d:  14.806372216312305\n",
      "Iterasi ke- 42\n",
      "x:  [[ 0.41903633]\n",
      " [-0.67358937]\n",
      " [-0.60883981]]\n",
      "xi:  [[ 6.20431815]\n",
      " [-9.97327079]\n",
      " [-9.01457851]]\n",
      "d:  14.806158163679562\n",
      "Iterasi ke- 43\n",
      "x:  [[ 0.41903511]\n",
      " [-0.6735891 ]\n",
      " [-0.60884095]]\n",
      "xi:  [[ 6.20436558]\n",
      " [-9.97337193]\n",
      " [-9.01469056]]\n",
      "d:  14.806314388318079\n",
      "Iterasi ke- 44\n",
      "x:  [[ 0.419036  ]\n",
      " [-0.6735893 ]\n",
      " [-0.60884012]]\n",
      "xi:  [[ 6.20433096]\n",
      " [-9.97329811]\n",
      " [-9.01460878]]\n",
      "d:  14.806200368551888\n",
      "Iteration, N:  44\n",
      "Dominant eigenvalue: 14.806283585071839\n",
      "Dominant eigenvector:\n",
      " [[ 0.41903535]\n",
      " [-0.67358915]\n",
      " [-0.60884073]]\n"
     ]
    }
   ],
   "source": [
    "\n",
    "def power_method(A):\n",
    "    n = A.shape[0]  \n",
    "    x = np.array([[1.0], [3.0],[4.0]])\n",
    "    prevd = 0\n",
    "    iteration = 0; \n",
    "    while(True): \n",
    "        temp = A @ x\n",
    "        d = np.sqrt(np.sum(temp**2))\n",
    "        x = temp/d\n",
    "        \n",
    "        if(abs(prevd-d)<0.0001): break\n",
    "\n",
    "        print(\"Iterasi ke-\", iteration+1)\n",
    "        print(\"x: \", x)\n",
    "        print(\"xi: \", temp)\n",
    "        print(\"d: \", d)\n",
    "        \n",
    "        prevd = d\n",
    "        prevx = x\n",
    "        iteration = iteration + 1\n",
    "    \n",
    "    return d, x, iteration\n",
    "\n",
    "A = np.array([[20,-4,8],[-40,8,-20],[-40, 12, -26]]) \n",
    "\n",
    "eigenvalue, eigenvector, iteration = power_method(A)\n",
    "print(\"Iteration, N: \", iteration)\n",
    "print(\"Dominant eigenvalue:\", eigenvalue)\n",
    "print(\"Dominant eigenvector:\\n\", eigenvector)\n"
   ]
  },
  {
   "cell_type": "markdown",
   "metadata": {},
   "source": [
    "2. Dekomposisi QR"
   ]
  },
  {
   "cell_type": "code",
   "execution_count": 16,
   "metadata": {},
   "outputs": [
    {
     "name": "stderr",
     "output_type": "stream",
     "text": [
      "C:\\Users\\RAYHAN EGAR\\AppData\\Local\\Temp\\ipykernel_17764\\1557304801.py:20: DeprecationWarning: `np.complex` is a deprecated alias for the builtin `complex`. To silence this warning, use `complex` by itself. Doing this will not modify any behavior and is safe. If you specifically wanted the numpy scalar type, use `np.complex128` here.\n",
      "Deprecated in NumPy 1.20; for more details and guidance: https://numpy.org/devdocs/release/1.20.0-notes.html#deprecations\n",
      "  eigenvalues = np.zeros(m, dtype=np.complex)\n",
      "C:\\Users\\RAYHAN EGAR\\AppData\\Local\\Temp\\ipykernel_17764\\1557304801.py:21: DeprecationWarning: `np.complex` is a deprecated alias for the builtin `complex`. To silence this warning, use `complex` by itself. Doing this will not modify any behavior and is safe. If you specifically wanted the numpy scalar type, use `np.complex128` here.\n",
      "Deprecated in NumPy 1.20; for more details and guidance: https://numpy.org/devdocs/release/1.20.0-notes.html#deprecations\n",
      "  eigenvectors = np.zeros((m, m), dtype=np.complex)\n"
     ]
    },
    {
     "ename": "UFuncTypeError",
     "evalue": "Cannot cast ufunc 'subtract' output from dtype('float64') to dtype('int32') with casting rule 'same_kind'",
     "output_type": "error",
     "traceback": [
      "\u001b[1;31m---------------------------------------------------------------------------\u001b[0m",
      "\u001b[1;31mUFuncTypeError\u001b[0m                            Traceback (most recent call last)",
      "\u001b[1;32mc:\\Users\\RAYHAN EGAR\\Documents\\College\\CIF61010 Metode Numerik\\Metnum Python\\citsit.ipynb Cell 6\u001b[0m line \u001b[0;36m4\n\u001b[0;32m     <a href='vscode-notebook-cell:/c%3A/Users/RAYHAN%20EGAR/Documents/College/CIF61010%20Metode%20Numerik/Metnum%20Python/citsit.ipynb#W5sZmlsZQ%3D%3D?line=40'>41</a>\u001b[0m \u001b[39mif\u001b[39;00m \u001b[39m__name__\u001b[39m \u001b[39m==\u001b[39m \u001b[39m\"\u001b[39m\u001b[39m__main__\u001b[39m\u001b[39m\"\u001b[39m:\n\u001b[0;32m     <a href='vscode-notebook-cell:/c%3A/Users/RAYHAN%20EGAR/Documents/College/CIF61010%20Metode%20Numerik/Metnum%20Python/citsit.ipynb#W5sZmlsZQ%3D%3D?line=41'>42</a>\u001b[0m     \u001b[39m# Ganti matriks berikut dengan matriks yang ingin dihitung eigenvalue dan eigenvector-nya\u001b[39;00m\n\u001b[0;32m     <a href='vscode-notebook-cell:/c%3A/Users/RAYHAN%20EGAR/Documents/College/CIF61010%20Metode%20Numerik/Metnum%20Python/citsit.ipynb#W5sZmlsZQ%3D%3D?line=42'>43</a>\u001b[0m     A \u001b[39m=\u001b[39m np\u001b[39m.\u001b[39marray([\n\u001b[0;32m     <a href='vscode-notebook-cell:/c%3A/Users/RAYHAN%20EGAR/Documents/College/CIF61010%20Metode%20Numerik/Metnum%20Python/citsit.ipynb#W5sZmlsZQ%3D%3D?line=43'>44</a>\u001b[0m         [\u001b[39m2\u001b[39m, \u001b[39m1\u001b[39m, \u001b[39m2\u001b[39m],\n\u001b[0;32m     <a href='vscode-notebook-cell:/c%3A/Users/RAYHAN%20EGAR/Documents/College/CIF61010%20Metode%20Numerik/Metnum%20Python/citsit.ipynb#W5sZmlsZQ%3D%3D?line=44'>45</a>\u001b[0m         [\u001b[39m1\u001b[39m, \u001b[39m3\u001b[39m, \u001b[39m4\u001b[39m],\n\u001b[0;32m     <a href='vscode-notebook-cell:/c%3A/Users/RAYHAN%20EGAR/Documents/College/CIF61010%20Metode%20Numerik/Metnum%20Python/citsit.ipynb#W5sZmlsZQ%3D%3D?line=45'>46</a>\u001b[0m         [\u001b[39m2\u001b[39m, \u001b[39m2\u001b[39m, \u001b[39m1\u001b[39m]\n\u001b[0;32m     <a href='vscode-notebook-cell:/c%3A/Users/RAYHAN%20EGAR/Documents/College/CIF61010%20Metode%20Numerik/Metnum%20Python/citsit.ipynb#W5sZmlsZQ%3D%3D?line=46'>47</a>\u001b[0m     ])\n\u001b[1;32m---> <a href='vscode-notebook-cell:/c%3A/Users/RAYHAN%20EGAR/Documents/College/CIF61010%20Metode%20Numerik/Metnum%20Python/citsit.ipynb#W5sZmlsZQ%3D%3D?line=48'>49</a>\u001b[0m     eigenvalues, eigenvectors \u001b[39m=\u001b[39m qr_algorithm(A)\n\u001b[0;32m     <a href='vscode-notebook-cell:/c%3A/Users/RAYHAN%20EGAR/Documents/College/CIF61010%20Metode%20Numerik/Metnum%20Python/citsit.ipynb#W5sZmlsZQ%3D%3D?line=50'>51</a>\u001b[0m     \u001b[39mprint\u001b[39m(\u001b[39m\"\u001b[39m\u001b[39mEigenvalues:\u001b[39m\u001b[39m\"\u001b[39m)\n\u001b[0;32m     <a href='vscode-notebook-cell:/c%3A/Users/RAYHAN%20EGAR/Documents/College/CIF61010%20Metode%20Numerik/Metnum%20Python/citsit.ipynb#W5sZmlsZQ%3D%3D?line=51'>52</a>\u001b[0m     \u001b[39mprint\u001b[39m(eigenvalues)\n",
      "\u001b[1;32mc:\\Users\\RAYHAN EGAR\\Documents\\College\\CIF61010 Metode Numerik\\Metnum Python\\citsit.ipynb Cell 6\u001b[0m line \u001b[0;36m2\n\u001b[0;32m     <a href='vscode-notebook-cell:/c%3A/Users/RAYHAN%20EGAR/Documents/College/CIF61010%20Metode%20Numerik/Metnum%20Python/citsit.ipynb#W5sZmlsZQ%3D%3D?line=20'>21</a>\u001b[0m eigenvectors \u001b[39m=\u001b[39m np\u001b[39m.\u001b[39mzeros((m, m), dtype\u001b[39m=\u001b[39mnp\u001b[39m.\u001b[39mcomplex)\n\u001b[0;32m     <a href='vscode-notebook-cell:/c%3A/Users/RAYHAN%20EGAR/Documents/College/CIF61010%20Metode%20Numerik/Metnum%20Python/citsit.ipynb#W5sZmlsZQ%3D%3D?line=22'>23</a>\u001b[0m \u001b[39mfor\u001b[39;00m i \u001b[39min\u001b[39;00m \u001b[39mrange\u001b[39m(max_iterations):\n\u001b[1;32m---> <a href='vscode-notebook-cell:/c%3A/Users/RAYHAN%20EGAR/Documents/College/CIF61010%20Metode%20Numerik/Metnum%20Python/citsit.ipynb#W5sZmlsZQ%3D%3D?line=23'>24</a>\u001b[0m     Q, R \u001b[39m=\u001b[39m qr_decomposition(A)\n\u001b[0;32m     <a href='vscode-notebook-cell:/c%3A/Users/RAYHAN%20EGAR/Documents/College/CIF61010%20Metode%20Numerik/Metnum%20Python/citsit.ipynb#W5sZmlsZQ%3D%3D?line=24'>25</a>\u001b[0m     A \u001b[39m=\u001b[39m np\u001b[39m.\u001b[39mdot(R, Q)   \u001b[39m# Update matriks A dengan R dan Q\u001b[39;00m\n\u001b[0;32m     <a href='vscode-notebook-cell:/c%3A/Users/RAYHAN%20EGAR/Documents/College/CIF61010%20Metode%20Numerik/Metnum%20Python/citsit.ipynb#W5sZmlsZQ%3D%3D?line=26'>27</a>\u001b[0m     \u001b[39m# Cek konvergensi\u001b[39;00m\n",
      "\u001b[1;32mc:\\Users\\RAYHAN EGAR\\Documents\\College\\CIF61010 Metode Numerik\\Metnum Python\\citsit.ipynb Cell 6\u001b[0m line \u001b[0;36m1\n\u001b[0;32m      <a href='vscode-notebook-cell:/c%3A/Users/RAYHAN%20EGAR/Documents/College/CIF61010%20Metode%20Numerik/Metnum%20Python/citsit.ipynb#W5sZmlsZQ%3D%3D?line=7'>8</a>\u001b[0m \u001b[39mfor\u001b[39;00m j \u001b[39min\u001b[39;00m \u001b[39mrange\u001b[39m(n):\n\u001b[0;32m      <a href='vscode-notebook-cell:/c%3A/Users/RAYHAN%20EGAR/Documents/College/CIF61010%20Metode%20Numerik/Metnum%20Python/citsit.ipynb#W5sZmlsZQ%3D%3D?line=8'>9</a>\u001b[0m     \u001b[39m# Proses pengukuran untuk setiap kolom pada matriks R\u001b[39;00m\n\u001b[0;32m     <a href='vscode-notebook-cell:/c%3A/Users/RAYHAN%20EGAR/Documents/College/CIF61010%20Metode%20Numerik/Metnum%20Python/citsit.ipynb#W5sZmlsZQ%3D%3D?line=9'>10</a>\u001b[0m     \u001b[39mfor\u001b[39;00m i \u001b[39min\u001b[39;00m \u001b[39mrange\u001b[39m(j):\n\u001b[0;32m     <a href='vscode-notebook-cell:/c%3A/Users/RAYHAN%20EGAR/Documents/College/CIF61010%20Metode%20Numerik/Metnum%20Python/citsit.ipynb#W5sZmlsZQ%3D%3D?line=10'>11</a>\u001b[0m         \u001b[39m# Menghitung proyeksi matriks R ke matriks Q untuk membuat R menjadi upper triangular\u001b[39;00m\n\u001b[1;32m---> <a href='vscode-notebook-cell:/c%3A/Users/RAYHAN%20EGAR/Documents/College/CIF61010%20Metode%20Numerik/Metnum%20Python/citsit.ipynb#W5sZmlsZQ%3D%3D?line=11'>12</a>\u001b[0m         R[:, j] \u001b[39m-\u001b[39m\u001b[39m=\u001b[39m np\u001b[39m.\u001b[39mdot(Q[:, i], R[:, j]) \u001b[39m*\u001b[39m Q[:, i]\n\u001b[0;32m     <a href='vscode-notebook-cell:/c%3A/Users/RAYHAN%20EGAR/Documents/College/CIF61010%20Metode%20Numerik/Metnum%20Python/citsit.ipynb#W5sZmlsZQ%3D%3D?line=12'>13</a>\u001b[0m     \u001b[39m# Normalisasi kolom matriks R untuk mendapatkan vektor Q\u001b[39;00m\n\u001b[0;32m     <a href='vscode-notebook-cell:/c%3A/Users/RAYHAN%20EGAR/Documents/College/CIF61010%20Metode%20Numerik/Metnum%20Python/citsit.ipynb#W5sZmlsZQ%3D%3D?line=13'>14</a>\u001b[0m     Q[:, j] \u001b[39m=\u001b[39m R[:, j] \u001b[39m/\u001b[39m np\u001b[39m.\u001b[39mlinalg\u001b[39m.\u001b[39mnorm(R[:, j])\n",
      "\u001b[1;31mUFuncTypeError\u001b[0m: Cannot cast ufunc 'subtract' output from dtype('float64') to dtype('int32') with casting rule 'same_kind'"
     ]
    }
   ],
   "source": [
    "import numpy as np\n",
    "\n",
    "def qr_decomposition(A):\n",
    "    m, n = A.shape\n",
    "    Q = np.eye(m)  # Inisialisasi matriks identitas untuk matriks Q\n",
    "    R = A.copy()   # Copy matriks A ke matriks R\n",
    "    \n",
    "    for j in range(n):\n",
    "        # Proses pengukuran untuk setiap kolom pada matriks R\n",
    "        for i in range(j):\n",
    "            # Menghitung proyeksi matriks R ke matriks Q untuk membuat R menjadi upper triangular\n",
    "            R[:, j] -= np.dot(Q[:, i], R[:, j]) * Q[:, i]\n",
    "        # Normalisasi kolom matriks R untuk mendapatkan vektor Q\n",
    "        Q[:, j] = R[:, j] / np.linalg.norm(R[:, j])\n",
    "        \n",
    "    return Q, R\n",
    "\n",
    "def qr_algorithm(A, max_iterations=1000, tol=1e-6):\n",
    "    m, n = A.shape\n",
    "    eigenvalues = np.zeros(m, dtype=np.complex)\n",
    "    eigenvectors = np.zeros((m, m), dtype=np.complex)\n",
    "    \n",
    "    for i in range(max_iterations):\n",
    "        Q, R = qr_decomposition(A)\n",
    "        A = np.dot(R, Q)   # Update matriks A dengan R dan Q\n",
    "        \n",
    "        # Cek konvergensi\n",
    "        if np.linalg.norm(np.triu(A, k=1)) < tol:\n",
    "            break\n",
    "    \n",
    "    # Ambil eigenvalues dari diagonal matriks A\n",
    "    eigenvalues = np.diag(A)\n",
    "    \n",
    "    # Menghitung eigenvectors menggunakan matriks Q yang telah diperoleh\n",
    "    for i in range(m):\n",
    "        eigenvectors[:, i] = np.linalg.solve(A - eigenvalues[i] * np.eye(m), np.dot(Q, np.eye(m)[:, i]))\n",
    "    \n",
    "    return eigenvalues, eigenvectors\n",
    "\n",
    "# Contoh penggunaan\n",
    "if __name__ == \"__main__\":\n",
    "    # Ganti matriks berikut dengan matriks yang ingin dihitung eigenvalue dan eigenvector-nya\n",
    "    A = np.array([\n",
    "        [2, 1, 2],\n",
    "        [1, 3, 4],\n",
    "        [2, 2, 1]\n",
    "    ])\n",
    "    \n",
    "    eigenvalues, eigenvectors = qr_algorithm(A)\n",
    "    \n",
    "    print(\"Eigenvalues:\")\n",
    "    print(eigenvalues)\n",
    "    \n",
    "    print(\"\\nEigenvectors:\")\n",
    "    print(eigenvectors)\n"
   ]
  },
  {
   "cell_type": "markdown",
   "metadata": {},
   "source": [
    "3. Singular Value"
   ]
  },
  {
   "cell_type": "code",
   "execution_count": null,
   "metadata": {},
   "outputs": [],
   "source": []
  },
  {
   "cell_type": "markdown",
   "metadata": {},
   "source": [
    "# Optimasi"
   ]
  },
  {
   "cell_type": "markdown",
   "metadata": {},
   "source": [
    "1. Metode GSS"
   ]
  },
  {
   "cell_type": "code",
   "execution_count": 4,
   "metadata": {},
   "outputs": [],
   "source": [
    "def GSS():\n",
    "    #Pilih 2 nilai x1 dan x2 sehingga x1 < x2\n",
    "    xl = float(input(\"Masukkan nilai xl: \"))\n",
    "    xu = float(input(\"Masukkan nilai xu: \"))\n",
    "\n",
    "    d = 0.61803*(xu-xl)\n",
    "    x1 = xl + d\n",
    "    x2 = xu - d\n",
    "\n",
    "    id = 1\n",
    "    print(\"Iterasi\",\"\\t\",\"x1\",\"\\t\",\"x2\",\"\\t\",\"f(x1)\",\"\\t\",\"f(x2)\")\n",
    "    while(fx(x1)*fx(x2)!=0):\n",
    "        if(fx(x1)<fx(x2)):\n",
    "            xl = x2\n",
    "        elif(fx(x2)<fx(x1)):\n",
    "            xu = x1\n",
    "        d = 0.61803*(xu-xl)\n",
    "        x1 = xl + d\n",
    "        x2 = xu - d\n",
    "        id = id+1\n",
    "        print(id,\"\\t\",x1,\"\\t\",x2,\"\\t\",fx(x1),\"\\t\", fx(x2))\n",
    "\n",
    "    print(\"Solusi: \")\n",
    "    print(\"X1: \", x1)\n",
    "    print(\"X2: \", x2)\n"
   ]
  },
  {
   "cell_type": "markdown",
   "metadata": {},
   "source": [
    "2. Metode Newton"
   ]
  },
  {
   "cell_type": "code",
   "execution_count": 5,
   "metadata": {},
   "outputs": [],
   "source": [
    "def metnewton():\n",
    "    x = float(input(\"Masukkan nilai x awal: \"))\n",
    "    id = 1; \n",
    "    print(\"k\",\"\\t\\t\",\"x\",\"\\t\\t\",\"f(x)\",\"\\t\\t\",\"f'(x)\",\"\\t\\t\",\"f''(x)\")\n",
    "    while(abs(dfx(x))>0):\n",
    "        x = x-dfx(x)/ddfx(x)\n",
    "        print(id,\"\\t\\t\",round(x,3),\"\\t\\t\",round(fx(x),3),\"\\t\\t\",round(dfx(x),3),\"\\t\\t\",round(ddfx(x),3))\n",
    "    print(\"Solusi: \", x)"
   ]
  },
  {
   "cell_type": "markdown",
   "metadata": {},
   "source": [
    "# Interpolasi"
   ]
  },
  {
   "cell_type": "code",
   "execution_count": 6,
   "metadata": {},
   "outputs": [],
   "source": [
    "tabel = np.array([[1,2,3,4,5,6,7],[0.5,2.5,2.0,4.0,3.5,6.0,5.5]])"
   ]
  },
  {
   "cell_type": "markdown",
   "metadata": {},
   "source": [
    "1. Linear Regresion"
   ]
  },
  {
   "cell_type": "code",
   "execution_count": 7,
   "metadata": {},
   "outputs": [],
   "source": [
    "def linear_reg(tabel):\n",
    "    n = tabel.shape[1]\n",
    "    x = np.sum(tabel[0])\n",
    "    y = np.sum(tabel[1])\n",
    "    xsquare = np.sum(tabel[0]*tabel[0])\n",
    "    print(xsquare)\n",
    "    xbar = x/7.0\n",
    "    ybar = y/7.0\n",
    "\n",
    "    xy = np.sum(tabel[0]*tabel[1])\n",
    "\n",
    "    a1 = float((n*xy-x*y)/(n*xsquare - (x)**2))\n",
    "    a0 = ybar - a1*xbar\n",
    "\n",
    "    fx = lambda: a0 + a1*x\n",
    "    print(fx)\n",
    "    # y = a0 + a1x"
   ]
  },
  {
   "cell_type": "markdown",
   "metadata": {},
   "source": [
    "2. Polynomial Regression"
   ]
  },
  {
   "cell_type": "code",
   "execution_count": 8,
   "metadata": {},
   "outputs": [
    {
     "name": "stdout",
     "output_type": "stream",
     "text": [
      "28.0\n",
      "A: [-0.28571429  1.07738095 -0.0297619 ]\n",
      "A1:  -0.28571428571424917\n",
      "A2:  1.0773809523809348\n",
      "A3:  -0.029761904761903324\n",
      "Persamaan regresi: y = -0.286 + 1.077x + -0.030x^2\n"
     ]
    },
    {
     "data": {
      "image/png": "[encoded data removed]",
      "text/plain": [
       "<Figure size 640x480 with 1 Axes>"
      ]
     },
     "metadata": {},
     "output_type": "display_data"
    },
    {
     "name": "stdout",
     "output_type": "stream",
     "text": [
      "Persamaan Regresi fx(2):  1.750000000000007\n",
      "Nilai sebnarnya/ Nilai pada tabel:  5.0\n",
      "3.249999999999993\n"
     ]
    }
   ],
   "source": [
    "def polynomial_reg(tabel): \n",
    "    n = len(tabel[0])\n",
    "    x1 = np.sum(tabel[0])\n",
    "    x2 = np.sum([i**2 for i in tabel[0]])\n",
    "    x3 = np.sum([i**3 for i in tabel[0]])\n",
    "    x4 = np.sum([i**4 for i in tabel[0]])\n",
    "    y1 = np.sum(tabel[1])\n",
    "    xy = np.sum([tabel[1][i] * tabel[0][i] for i in range(len(tabel[1]))])\n",
    "    x2y = np.sum([(tabel[0][i]**2) * tabel[1][i] for i in range(len(tabel[0]))])\n",
    "\n",
    "    X = np.array([[n, x1, x2], [x1, x2, x3], [x2, x3, x4]])\n",
    "    B = np.array([y1, xy, x2y])\n",
    "\n",
    "    X_inverse = np.linalg.inv(X)\n",
    "\n",
    "    print(x1)\n",
    "\n",
    "    A = X_inverse @ B\n",
    "\n",
    "    print(\"A:\", A)\n",
    "    print(\"A1: \", A[0])\n",
    "    print(\"A2: \", A[1])\n",
    "    print(\"A3: \", A[2])\n",
    "\n",
    "    print(f\"Persamaan regresi: y = {A[0]:.3f} + {A[1]:.3f}x + {A[2]:.3f}x^2\")\n",
    "\n",
    "    x = np.arange(-2,2,0.01)\n",
    "    fx = lambda x : A[0] + A[1] * x + A[2] * (x ** 2)\n",
    "    plt.scatter(tabel[0], tabel[1], color='blue', label='Data')\n",
    "    plt.plot(x,fx(x),'-')\n",
    "    plt.grid(True)\n",
    "    plt.show()\n",
    "\n",
    "    print(\"Persamaan Regresi fx(2): \", fx(2))\n",
    "    print(\"Nilai sebnarnya/ Nilai pada tabel: \", tabel[0][4])\n",
    "    E2 = tabel[0][4] - fx(2)\n",
    "    print(E2)\n",
    "\n",
    "polynomial_reg(tabel)\n"
   ]
  },
  {
   "cell_type": "markdown",
   "metadata": {},
   "source": [
    "# Differential"
   ]
  },
  {
   "cell_type": "markdown",
   "metadata": {},
   "source": [
    "1. Metode Taylor"
   ]
  },
  {
   "cell_type": "code",
   "execution_count": 9,
   "metadata": {},
   "outputs": [],
   "source": [
    "def forward_difference(x, h):\n",
    "    return (fx(x+h)-f(x))/float(h)\n",
    "\n",
    "def backward_difference(x, h): \n",
    "    return(x - fx(x-h))/float(h)\n",
    "\n",
    "def central_difference(x, h):\n",
    "    return (fx(x+h) - fx(x-h))/float(2*h)\n"
   ]
  },
  {
   "cell_type": "markdown",
   "metadata": {},
   "source": [
    "2. Metode Rieman"
   ]
  },
  {
   "cell_type": "code",
   "execution_count": 10,
   "metadata": {},
   "outputs": [],
   "source": [
    "def extrapolasi_richardson(x,h):\n",
    "  return (8*fx(x+h)-8*fx(x-h)-(fx(x+2*h)-fx(x-2*h)))/float(12*h)"
   ]
  },
  {
   "cell_type": "markdown",
   "metadata": {},
   "source": [
    "# Integral"
   ]
  },
  {
   "cell_type": "markdown",
   "metadata": {},
   "source": [
    "1. Metode Rieman (Kiri, Kanan, Tengah)"
   ]
  },
  {
   "cell_type": "code",
   "execution_count": 11,
   "metadata": {},
   "outputs": [
    {
     "data": {
      "text/plain": [
       "0.6970238095238095"
      ]
     },
     "execution_count": 11,
     "metadata": {},
     "output_type": "execute_result"
    }
   ],
   "source": [
    "def h(a,b,n):\n",
    "  return (b-a)/n\n",
    "\n",
    "def rieman_kiri(a, b, n):\n",
    "  ha = h(a, b, n)\n",
    "  x = np.arange(a, b + ha, ha)\n",
    "  sum = 0\n",
    "  for i in range (0,n):\n",
    "    sum += fx(x[i])\n",
    "  return ha*sum\n",
    "\n",
    "def rieman_kanan(a, b, n):\n",
    "  ha = h(a, b, n)\n",
    "  x = np.arange(a, b + ha, ha)\n",
    "  sum = 0\n",
    "  for i in range (1,n+1):\n",
    "    sum += fx(x[i])\n",
    "  return ha*sum\n",
    "\n",
    "def rieman_tengah(a, b, n):\n",
    "  ha = h(a, b, n)\n",
    "  x = np.arange(a, b + ha, ha)\n",
    "  sum = 0\n",
    "  for i in range (0,n):\n",
    "    sum += (fx(x[i])+fx(x[i+1]))/2\n",
    "  return ha*sum\n",
    "\n",
    "rieman_tengah(1, 2, 4)\n"
   ]
  },
  {
   "cell_type": "markdown",
   "metadata": {},
   "source": [
    "2. Metode Trapesium"
   ]
  },
  {
   "cell_type": "code",
   "execution_count": 12,
   "metadata": {},
   "outputs": [
    {
     "data": {
      "text/plain": [
       "0.6970238095238095"
      ]
     },
     "execution_count": 12,
     "metadata": {},
     "output_type": "execute_result"
    }
   ],
   "source": [
    "def met_trapesium(a, b, n):\n",
    "    ha = h(a, b, n)\n",
    "    x = np.arange(a, b + ha, ha)\n",
    "\n",
    "\n",
    "    sum = fx(x[0])\n",
    "    for i in range(1, n):\n",
    "        sum += 2 * fx(x[i])\n",
    "    sum += fx(x[n])\n",
    "    \n",
    "    return ha / 2 * sum\n",
    "\n",
    "met_trapesium(1, 2, 4)"
   ]
  },
  {
   "cell_type": "markdown",
   "metadata": {},
   "source": [
    "3. Metode Simpson (Parabola)"
   ]
  },
  {
   "cell_type": "code",
   "execution_count": 13,
   "metadata": {},
   "outputs": [
    {
     "data": {
      "text/plain": [
       "1.6222222222222225"
      ]
     },
     "execution_count": 13,
     "metadata": {},
     "output_type": "execute_result"
    }
   ],
   "source": [
    "def met_simpson(a, b, n):\n",
    "    if(n%2!=0):\n",
    "        return\n",
    "    else: \n",
    "        ha= h(a, b, n)\n",
    "\n",
    "        awal = a \n",
    "        akhir = b\n",
    "        tengah = (awal+akhir)/2\n",
    "        seperempatAw = (awal+tengah)/2 \n",
    "        seperempatAk = (tengah+akhir)/2\n",
    "\n",
    "        return ha*(fx(awal)+fx(akhir)+4*(fx(seperempatAw)+fx(seperempatAk))+2*fx(tengah))/3.0\n",
    "\n",
    "met_simpson(1, 5, 4)"
   ]
  },
  {
   "cell_type": "markdown",
   "metadata": {},
   "source": [
    "4. Menentukan Error Approximation"
   ]
  }
 ],
 "metadata": {
  "kernelspec": {
   "display_name": "myenv",
   "language": "python",
   "name": "python3"
  },
  "language_info": {
   "codemirror_mode": {
    "name": "ipython",
    "version": 3
   },
   "file_extension": ".py",
   "mimetype": "text/x-python",
   "name": "python",
   "nbconvert_exporter": "python",
   "pygments_lexer": "ipython3",
   "version": "3.10.9"
  },
  "orig_nbformat": 4
 },
 "nbformat": 4,
 "nbformat_minor": 2
}
