{
 "cells": [
  {
   "cell_type": "markdown",
   "metadata": {},
   "source": [
    "# Interpolations\n",
    "Fitting a line/curve that intercept every data points.\n",
    "Discussed here:\n",
    "- Linear interpolation\n",
    "- Cubic Spline interpolation\n",
    "- ."
   ]
  },
  {
   "cell_type": "markdown",
   "metadata": {},
   "source": [
    "## Linear Interpolation"
   ]
  },
  {
   "cell_type": "code",
   "execution_count": 12,
   "metadata": {},
   "outputs": [
    {
     "name": "stderr",
     "output_type": "stream",
     "text": [
      "C:\\Users\\RAYHAN EGAR\\AppData\\Local\\Temp\\ipykernel_9484\\877556802.py:5: MatplotlibDeprecationWarning: The seaborn styles shipped by Matplotlib are deprecated since 3.6, as they no longer correspond to the styles shipped by seaborn. However, they will remain available as 'seaborn-v0_8-<style>'. Alternatively, directly use the seaborn API instead.\n",
      "  plt.style.use('seaborn-poster')\n"
     ]
    }
   ],
   "source": [
    "from scipy.interpolate import interp1d\n",
    "import matplotlib.pyplot as plt\n",
    "import numpy as np\n",
    "import inspect\n",
    "plt.style.use('seaborn-poster')"
   ]
  },
  {
   "cell_type": "code",
   "execution_count": 13,
   "metadata": {},
   "outputs": [],
   "source": [
    "def linear_interpolation(x, y, X):\n",
    "    xArr = np.array(x).astype(float)\n",
    "    yArr = np.array(y).astype(float)\n",
    "    XArr = np.array(X).astype(float)\n",
    "    n = xArr.size\n",
    "    f = [None] * (n-1)\n",
    "    for i in range(0, n-1):\n",
    "        xleft = xArr[i]\n",
    "        yleft = yArr[i]\n",
    "        xright = xArr[i+1]\n",
    "        yright = yArr[i+1]\n",
    "        Xcurr = XArr[i]\n",
    "        f[i] = yleft + (yright - yleft) / (xright - xleft) * (Xcurr - xleft)\n",
    "    return f"
   ]
  },
  {
   "cell_type": "code",
   "execution_count": 14,
   "metadata": {},
   "outputs": [
    {
     "name": "stdout",
     "output_type": "stream",
     "text": [
      "[7.52, 9.0, 11.0]\n",
      "[ 7.52  9.   11.  ]\n"
     ]
    }
   ],
   "source": [
    "f_test = linear_interpolation([1, 2, 3, 4], [14, 6, 11, 11], [1.81, 2.6, 3.65])\n",
    "f_bench = interp1d([1, 2, 3, 4], [14, 6, 11, 11])\n",
    "y_bench = f_bench([1.81, 2.6, 3.65])\n",
    "print(f_test)\n",
    "print(y_bench)"
   ]
  },
  {
   "cell_type": "markdown",
   "metadata": {},
   "source": [
    "## Polynomial Interpolation: Lagrange's Method\n",
    "$$P_n(x) = \\sum _{i=0} ^n y_i l_i(x)$$\n",
    "$$l_i(x) = \\Pi _{j=0, j /= i}^n \\frac{x - x_i}{x_i - x_j} $$"
   ]
  },
  {
   "cell_type": "code",
   "execution_count": 29,
   "metadata": {},
   "outputs": [],
   "source": [
    "def lagrange_interpolation(xData, yData, X):\n",
    "    xArr = np.array(xData).astype(float)\n",
    "    yArr = np.array(yData).astype(float)\n",
    "    n = xArr.size\n",
    "\n",
    "    def P(x):\n",
    "        result = 0\n",
    "        for i in range(n):\n",
    "            result += yArr[i] * L(i, x)\n",
    "        return result\n",
    "    \n",
    "    def L(i, x):\n",
    "        numerator = np.prod([x - xArr[j] for j in range(n) if j != i])\n",
    "        denominator = np.prod([xArr[i] - xArr[j] for j in range(n) if j != i])\n",
    "        return numerator / denominator\n",
    "    \n",
    "    print(f\"P({X}) = \", P(X))\n",
    "    return P(X)"
   ]
  },
  {
   "cell_type": "code",
   "execution_count": 30,
   "metadata": {},
   "outputs": [
    {
     "name": "stdout",
     "output_type": "stream",
     "text": [
      "P(1.5) =  2.875\n"
     ]
    },
    {
     "data": {
      "text/plain": [
       "2.875"
      ]
     },
     "execution_count": 30,
     "metadata": {},
     "output_type": "execute_result"
    }
   ],
   "source": [
    "x_lagrange_test = [0, 1, 2]\n",
    "y_lagrange_test = [1, 3, 2]\n",
    "X_lagrange_test = 1.5\n",
    "\n",
    "lagrange_interpolation(x_lagrange_test, y_lagrange_test, X_lagrange_test)"
   ]
  },
  {
   "cell_type": "markdown",
   "metadata": {},
   "source": [
    "## Polynomial Interpolation: Newton Interpolation"
   ]
  },
  {
   "cell_type": "code",
   "execution_count": 33,
   "metadata": {},
   "outputs": [],
   "source": [
    "def newton_coefficient(xData, yData):\n",
    "    xArr = np.array(xData).astype(float)\n",
    "    yArr = np.array(yData).astype(float)\n",
    "    n = xArr.size\n",
    "    a = yArr.copy()\n",
    "\n",
    "    for i in range(1, n):\n",
    "        currA = a[i-1] \n",
    "        currX = xArr[i-1]\n",
    "\n",
    "        for k in range(i, n):\n",
    "            a[k] = (a[k] - a[k-1])/(xData[k] - xData[k-1])\n",
    "    return a\n",
    "\n",
    "def newton_interpolation(a, xData, X):\n",
    "    n = len(xData) - 1\n",
    "    p = a[n] # init with first coefficient in a, x degree of 0\n",
    "\n",
    "    for k in range(1, n+1):\n",
    "        p = a[n-k] + (X - xData[n-k])*p \n",
    "        # a[n-k] will be used as multiplication coefficient in the next iteration, get it?\n",
    "    \n",
    "    print(f\"P{n}({X}) = {p}\")\n",
    "    return p"
   ]
  },
  {
   "cell_type": "code",
   "execution_count": 34,
   "metadata": {},
   "outputs": [
    {
     "name": "stdout",
     "output_type": "stream",
     "text": [
      "P2(1.5) = 2.5\n",
      "2.5\n"
     ]
    }
   ],
   "source": [
    "x_newton_test = [0, 1, 2]\n",
    "y_newton_test = [1, 3, 2]\n",
    "a_coefficients = newton_coefficient(x_newton_test, y_newton_test)\n",
    "X_newton_test = 1.5\n",
    "result = newton_interpolation(a_coefficients, x_newton_test, X_newton_test)\n",
    "print(result)"
   ]
  },
  {
   "cell_type": "markdown",
   "metadata": {},
   "source": [
    "## Cubic Spline Interpolation"
   ]
  },
  {
   "cell_type": "markdown",
   "metadata": {},
   "source": [
    "- For n+1 knots, notation $f_{i, i+1}(x)$ denotes cubic polynomial that spans the segment between knots $i$ and $i+1$.\n",
    "- $k_i$ denoting the second derivative of the spline at knot $i$. $$f_{i-1, i}^\" (x_i) = f_{i, i+1}^\" (x_i) = k_i$$\n",
    "- each $k$ is unknown except for $$ k_0 = k_n = 0$$\n",
    "\n",
    "### Roadmap\n",
    "Start with $f_{i, i+1}^\"(x) = k_il_i(x) + k_{i+1}l_{i+1}(x)$\n",
    "- $l_i(x) = \\frac{x - x_{i+1}}{x_i - x_{i+1}}$\n",
    "- $l_{i+1}(x) = \\frac{x - x_i}{x_{i+1} - x_i}$\n",
    "\n",
    "Therefore\n",
    "$$f_{i, i+1}^\"(x) = \\frac{k_i(x - x_{i+1}) + k_{i+1}(x - x_i)}{x_i - x_{i+1}}$$\n",
    "$$f_{i, i+1}(x) = \\frac{k_i(x - x_{i+1})^3 + k_{i+1}(x - x_i)^3}{6(x_i - x_{i+1})} + A(x-x_{i+1}) - B(x - x_{i})$$\n",
    "$$f_{i, i+1}(x) = \\frac{k_i(x - x_{i+1})^3 + k_{i+1}(x - x_i)^3}{6(x_i - x_{i+1})} + (A-B)x + (-Ax_{i+1} + Bx_i)$$\n",
    "\n",
    "### Coefficients\n",
    "- $C = A-B$ (from above eq.)\n",
    "- $D = -Ax_{i+1} + Bx_i$\n",
    "\n",
    "### Equations used\n",
    "$$f_{i, i+1}(x) = \\frac{k_i}{6} [\\frac{(x-x_{i+1})^3}{x_i - x_{i+1}} - (x - x_{i+1}(x_i - x_{i+1}))]\n",
    "- \\frac{k_{i+1}}{6} [\\frac{(x-x_{i})^3}{x_i - x_{i+1}} - (x - x_{i}(x_i - x_{i+1}))] \n",
    "+ \\frac{y_i (x-x_{i+1}) //- y_{i+1}(x-x_i)}{x_i - x_{i+1}}"
   ]
  },
  {
   "cell_type": "code",
   "execution_count": 17,
   "metadata": {},
   "outputs": [],
   "source": [
    "def gauss_elimination(a, b):\n",
    "\n",
    "    n = len(b)\n",
    "    x = np.zeros(n).astype(float)\n",
    "\n",
    "    # iterates pivot row\n",
    "    # pivot element: main diagonal element, hence why 'j' is the pivot\n",
    "    for j in range(n):\n",
    "\n",
    "        # iterates for each modified row (pivot + 1)\n",
    "        for i in range(j + 1, n):\n",
    "                ratio = a[i, j] / a[j, j]\n",
    "                a[i, j:n] = a[i, j:n] - ratio * a[j, j:n]\n",
    "                b[i] = b[i] - ratio * b[j]\n",
    "\n",
    "    # back-substitution phase\n",
    "    for i in range(n-1, -1, -1):\n",
    "        sum_term = np.dot(a[i, i+1:n], x[i+1:n])\n",
    "        x[i] = (b[i] - sum_term) / a[i, i]\n",
    "\n",
    "    return x"
   ]
  },
  {
   "cell_type": "code",
   "execution_count": 18,
   "metadata": {},
   "outputs": [],
   "source": [
    "def lu_decomposition(a, b):\n",
    "    n = len(a)\n",
    "    u = a.copy()\n",
    "    l = np.eye(n)\n",
    "\n",
    "    # LU factorization of A\n",
    "    for j in range(n):\n",
    "        for i in range(j+1, n):\n",
    "            l[i, j] = u[i, j] / u[j, j]\n",
    "            u[i, j:n] = u[i, j:n] - l[i, j] * u[j, j:n]\n",
    "    \n",
    "    # ly = b, find y using gauss_elimination(l, b)\n",
    "    y = gauss_elimination(l, b)\n",
    "\n",
    "    # ux = y, find x using gauss_elimination(u, y)\n",
    "    x = gauss_elimination(u, y)\n",
    "\n",
    "    return x"
   ]
  },
  {
   "cell_type": "code",
   "execution_count": 35,
   "metadata": {},
   "outputs": [],
   "source": [
    "def LUdecomp3(c,d,e):\n",
    "    n = len(d)\n",
    "    for k in range(1,n):\n",
    "        lam = c[k-1]/d[k-1]\n",
    "        d[k] = d[k] - lam*e[k-1]\n",
    "        c[k-1] = lam\n",
    "    return c,d,e\n",
    "\n",
    "def LUsolve3(c,d,e,b):\n",
    "    n = len(d)\n",
    "    for k in range(1,n):\n",
    "        b[k] = b[k] - c[k-1]*b[k-1]\n",
    "        b[n-1] = b[n-1]/d[n-1]\n",
    "    for k in range(n-2,-1,-1):\n",
    "        b[k] = (b[k] - e[k]*b[k+1])/d[k]\n",
    "    return b\n",
    "        "
   ]
  },
  {
   "cell_type": "code",
   "execution_count": 36,
   "metadata": {},
   "outputs": [],
   "source": [
    "def curvatures(xData, yData):\n",
    "    n = len(xData) - 1\n",
    "    c = np.zeros(n)\n",
    "    d = np.ones(n+1)\n",
    "    e = np.zeros(n)\n",
    "    k = np.zeros(n+1)\n",
    "\n",
    "    # Height diff. between segment\n",
    "    c[0:n-1] = xData[0:n-1] - xData[1:n]\n",
    "\n",
    "    # twice height diff. \n",
    "    d[1:n] = 2.0 * (xData[0:n-1] - xData[2:n+1])\n",
    "\n",
    "    # height diff. starting from the second segment\n",
    "    e[1:n] = xData[1:n] - xData[2:n+1]\n",
    "\n",
    "    # second derivatives 'k' \n",
    "    k[1:n] = 6.0 * (yData[0:n-1] - yData[1:n]) / (xData[0:n-1] - xData[1:n]) - 6.0 * (yData[1:n] - yData[2:n+1]) / (xData[1:n] - xData[2:n+1])\n",
    "\n",
    "    p,q,r = LUdecomp3(c,d,e)\n",
    "    res = LUsolve3(p,q,r,k)\n",
    "    return res\n"
   ]
  },
  {
   "cell_type": "code",
   "execution_count": 39,
   "metadata": {},
   "outputs": [],
   "source": [
    "def cubic_spline_interpolation(xData, yData, k, x):\n",
    "\n",
    "    def findSegment(xData, x):\n",
    "        iLeft = 0\n",
    "        iRight = len(xData)-1\n",
    "        while 1:\n",
    "            if (iRight - iLeft) <= 1:\n",
    "                return iLeft\n",
    "            i = (iLeft + iRight) // 2\n",
    "            if x < xData[i]:\n",
    "                iRight = i\n",
    "            else:\n",
    "                iLeft = i\n",
    "    \n",
    "    i = findSegment(xData, x)\n",
    "    h = xData[i] - xData[i+1] #calculates height diff. for segment i\n",
    "    \n",
    "    y = ((x - xData[i+1])**3/h - (x - xData[i+1])*h)*k[i]/6.0 \\\n",
    "        - ((x - xData[i])**3/h - (x - xData[i])*h)*k[i+1]/6.0 \\\n",
    "        + (yData[i]*(x - xData[i+1]) \\\n",
    "        - yData[i+1]*(x - xData[i]))/h\n",
    "    \n",
    "    return y"
   ]
  },
  {
   "cell_type": "code",
   "execution_count": null,
   "metadata": {},
   "outputs": [],
   "source": []
  }
 ],
 "metadata": {
  "kernelspec": {
   "display_name": "myenv",
   "language": "python",
   "name": "python3"
  },
  "language_info": {
   "codemirror_mode": {
    "name": "ipython",
    "version": 3
   },
   "file_extension": ".py",
   "mimetype": "text/x-python",
   "name": "python",
   "nbconvert_exporter": "python",
   "pygments_lexer": "ipython3",
   "version": "3.10.9"
  }
 },
 "nbformat": 4,
 "nbformat_minor": 2
}
