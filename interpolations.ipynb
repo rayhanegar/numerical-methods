{
 "cells": [
  {
   "cell_type": "markdown",
   "metadata": {},
   "source": [
    "## Bab 17. Interpolasi\n",
    "MN2023_A2_LK5"
   ]
  },
  {
   "cell_type": "markdown",
   "metadata": {},
   "source": [
    "#### Initialisation"
   ]
  },
  {
   "cell_type": "code",
   "execution_count": 827,
   "metadata": {},
   "outputs": [],
   "source": [
    "import numpy as np\n",
    "import random as rand\n",
    "from scipy.interpolate import *\n",
    "import matplotlib.pyplot as plt"
   ]
  },
  {
   "cell_type": "code",
   "execution_count": 828,
   "metadata": {},
   "outputs": [],
   "source": [
    "# constants\n",
    "LEN = 4\n",
    "START = 1\n",
    "\n",
    "# generation\n",
    "x = np.arange(START, LEN+START, 1)\n",
    "\n",
    "y = np.zeros(LEN)\n",
    "for i in range(len(y)):\n",
    "    y[i] = rand.randint(1,LEN**2)\n",
    "\n",
    "X = np.zeros(LEN-1)\n",
    "for i in range(len(X)):\n",
    "    X[i] = round(x[i]+rand.random(),2)\n",
    "    \n",
    "# X is sorted ascending in value and is one less of x's size so that the values of X are between two values in x.\n",
    "X.sort()"
   ]
  },
  {
   "cell_type": "markdown",
   "metadata": {},
   "source": [
    "#### Linear Interpolation"
   ]
  },
  {
   "cell_type": "code",
   "execution_count": 829,
   "metadata": {},
   "outputs": [],
   "source": [
    "def my_lin_interp(x,y,X):\n",
    "    Y = [0 for _ in range(LEN-1)]\n",
    "    for i in range(LEN-1):\n",
    "        Y[i] = y[i] + ((y[i+1]-y[i]) * (X[i]-x[i]) / (x[i+1]-x[i]))\n",
    "    return Y"
   ]
  },
  {
   "cell_type": "code",
   "execution_count": 830,
   "metadata": {},
   "outputs": [
    {
     "name": "stdout",
     "output_type": "stream",
     "text": [
      "x = [1 2 3 4] ; y = [14.  6. 11. 11.] ; X = [1.81 2.6  3.65]\n",
      "scipy = [ 7.52  9.   11.  ]\n",
      "Y = [7.52, 9.0, 11.0]\n"
     ]
    }
   ],
   "source": [
    "print(\"x =\",x,\"; y =\",y,\"; X =\",X)\n",
    "\n",
    "f = interp1d(x,y)\n",
    "Y_bench = f(X)\n",
    "print(\"scipy =\",Y_bench)\n",
    "\n",
    "Y = my_lin_interp(x,y,X)\n",
    "print(\"Y =\",Y)"
   ]
  },
  {
   "cell_type": "markdown",
   "metadata": {},
   "source": [
    "#### Cubic Spline Interpolation"
   ]
  },
  {
   "cell_type": "code",
   "execution_count": 831,
   "metadata": {},
   "outputs": [],
   "source": [
    "def findSegment(xData,x):\n",
    "    iLeft = 0\n",
    "    iRight = len(xData) - 1\n",
    "    while 1:\n",
    "        if (iRight-iLeft) <= 1: return iLeft\n",
    "        i = int((iLeft + iRight)/2)\n",
    "        if x < xData[i]: iRight = i\n",
    "        else: iLeft = i\n",
    "    return i"
   ]
  },
  {
   "cell_type": "code",
   "execution_count": 832,
   "metadata": {},
   "outputs": [],
   "source": [
    "# LU decomposition as prerequisite as in Kiusalaas' (2013) Numerical Methods in Engineering with Python 3 p. 62\n",
    "\n",
    "def LUdecomp3(c,d,e):\n",
    "    n = len(d)\n",
    "    for k in range(1,n):\n",
    "        lam = c[k-1]/d[k-1]\n",
    "        d[k] = d[k] - lam*e[k-1]\n",
    "        c[k-1] = lam\n",
    "    return c,d,e\n",
    "\n",
    "def LUsolve3(c,d,e,b):\n",
    "    n = len(d)\n",
    "    for k in range(1,n):\n",
    "        b[k] = b[k] - c[k-1]*b[k-1]\n",
    "        b[n-1] = b[n-1]/d[n-1]\n",
    "    for k in range(n-2,-1,-1):\n",
    "        b[k] = (b[k] - e[k]*b[k+1])/d[k]\n",
    "    return b"
   ]
  },
  {
   "cell_type": "code",
   "execution_count": 833,
   "metadata": {},
   "outputs": [],
   "source": [
    "def curvatures(x,y): # from Kiusalaas (2013) p. 122\n",
    "    n = len(x) - 1\n",
    "    c = np.zeros(n)\n",
    "    d = np.ones(n+1)\n",
    "    e = np.zeros(n)\n",
    "    k = np.zeros(n+1)\n",
    "\n",
    "    c[0:n-1] = x[0:n-1] - x[1:n]\n",
    "    d[1:n] = 2.0*(x[0:n-1] - x[2:n+1])\n",
    "    e[1:n] = x[1:n] - x[2:n+1]\n",
    "    k[1:n] = 6.0*(y[0:n-1] - y[1:n]) / (x[0:n-1] - x[1:n]) - 6.0*(y[1:n] - y[2:n+1]) / (x[1:n] - x[2:n+1])\n",
    "    \n",
    "    p,q,r = LUdecomp3(c,d,e)\n",
    "    res = LUsolve3(p,q,r,k)\n",
    "    return res\n",
    "\n",
    "def kiusalaas_cubic_spline(x,y,X): # adapted for multiple X inpute from Kuisalaas (2013) p. 123\n",
    "    Y = [0 for _ in range(len(X))]\n",
    "    k = curvatures(x,y)\n",
    "    # print(\"k =\",k)\n",
    "    for j in range(len(X)):\n",
    "        i = findSegment(x,X[j])\n",
    "        h = x[i] - x[i+1]\n",
    "        Y = ((X - x[i+1])**3/h - (X - x[i+1])*h)*k[i]/6.0 - ((X - x[i])**3/h - (X - x[i])*h)*k[i+1]/6.0 + (y[i]*(X - x[i+1]) - y[i+1]*(X - x[i]))/h\n",
    "    return Y"
   ]
  },
  {
   "cell_type": "code",
   "execution_count": 834,
   "metadata": {},
   "outputs": [],
   "source": [
    "def my_cubic_spline(x,y,X):\n",
    "    Y = kiusalaas_cubic_spline(x,y,X)\n",
    "    return Y"
   ]
  },
  {
   "cell_type": "code",
   "execution_count": 835,
   "metadata": {},
   "outputs": [],
   "source": [
    "# as reference\n",
    "def gpt_cubic_spline(x, y, X):\n",
    "    n = len(x)\n",
    "    h = np.diff(x)\n",
    "    a = y[:-1]\n",
    "    b = np.zeros(n - 2)\n",
    "    d = np.zeros(n - 2)\n",
    "    \n",
    "    for i in range(n - 2):\n",
    "        b[i] = 6 * ((y[i + 2] - 2 * y[i + 1] + y[i]) / h[i + 1] - (y[i + 1] - y[i]) / h[i])\n",
    "    \n",
    "    # Solve for c using tridiagonal matrix algorithm\n",
    "    l = np.zeros(n - 2)\n",
    "    u = np.zeros(n - 2)\n",
    "    z = np.zeros(n - 2)\n",
    "    l[0] = 2 * (h[0] + h[1])\n",
    "    u[0] = 0.5\n",
    "    z[0] = b[0] / l[0]\n",
    "\n",
    "    for i in range(1, n - 2):\n",
    "        l[i] = 2 * (h[i] + h[i + 1]) - h[i] * u[i - 1]\n",
    "        u[i] = h[i + 1] / l[i]\n",
    "        z[i] = (b[i] - h[i] * z[i - 1]) / l[i]\n",
    "\n",
    "    c = np.zeros(n)\n",
    "    c[0] = 0\n",
    "    c[n - 1] = 0\n",
    "\n",
    "    for j in range(n - 3, -1, -1):\n",
    "        c[j + 1] = z[j] - u[j] * c[j + 2]\n",
    "\n",
    "    # Calculate coefficients for the cubic spline\n",
    "    b = (y[1:] - y[:-1]) / h - h * (c[:-1] + 2 * c[1:]) / 6\n",
    "    d = (c[1:] - c[:-1]) / (6 * h)\n",
    "\n",
    "    # Perform cubic spline interpolation for the given values in X\n",
    "    Y = np.empty(len(X))\n",
    "\n",
    "    for i, xi in enumerate(X):\n",
    "        j = 0\n",
    "        for k in range(1, n):\n",
    "            if xi <= x[k]:\n",
    "                j = k\n",
    "                break\n",
    "        j -= 1\n",
    "        dx = xi - x[j]\n",
    "        Y[i] = a[j] + b[j] * dx + c[j] * dx ** 2 + d[j] * dx ** 3\n",
    "\n",
    "    return Y"
   ]
  },
  {
   "cell_type": "code",
   "execution_count": 836,
   "metadata": {},
   "outputs": [
    {
     "name": "stdout",
     "output_type": "stream",
     "text": [
      "x = [1 2 3 4] ; y = [14.  6. 11. 11.] ; X = [1.81 2.6  3.65]\n",
      "Y_scipy = [ 5.970227  8.592    12.694875]\n",
      "Y = [-7.2896098  8.0432    11.675675 ]\n"
     ]
    }
   ],
   "source": [
    "# x = np.array([1,2,3,4,5,6,7,8,9,10])\n",
    "# y = np.array([0,1,0,1,0,1,0,1,0,1])\n",
    "# X = np.array([1.5,2.5,3.5,4.5,5.5,6.5,7.5,8.5,9.5])\n",
    "# x = np.array([0,1,2])\n",
    "# y = np.array([1,3,2])\n",
    "# X = np.array([0.5,1.5])\n",
    "\n",
    "print(\"x =\",x,\"; y =\",y,\"; X =\",X)\n",
    "\n",
    "# benchmark\n",
    "f = interp1d(x, y, kind='cubic')\n",
    "Y_bench = f(X)\n",
    "print(\"Y_scipy =\",Y_bench)\n",
    "\n",
    "Y = my_cubic_spline(x,y,X)\n",
    "print(\"Y =\",Y)"
   ]
  },
  {
   "cell_type": "markdown",
   "metadata": {},
   "source": [
    "#### Nearest Neighbor Interpolation"
   ]
  },
  {
   "cell_type": "code",
   "execution_count": 837,
   "metadata": {},
   "outputs": [],
   "source": [
    "def my_nearest_neighbor(x, y, X):\n",
    "    Y = np.zeros_like(X)\n",
    "    \n",
    "    for i, xi in enumerate(X):\n",
    "        # Find the index j of the nearest neighbor in x\n",
    "        j = np.argmin(np.abs(x - xi))\n",
    "        \n",
    "        # Assign the corresponding y value to Y[i]\n",
    "        Y[i] = y[j]\n",
    "    \n",
    "    return Y"
   ]
  },
  {
   "cell_type": "code",
   "execution_count": 838,
   "metadata": {},
   "outputs": [
    {
     "name": "stdout",
     "output_type": "stream",
     "text": [
      "x = [1 2 3 4] ; y = [14.  6. 11. 11.] ; X = [1.81 2.6  3.65]\n",
      "scipy = [ 7.52  9.   11.  ]\n",
      "Y = [ 6. 11. 11.]\n"
     ]
    }
   ],
   "source": [
    "print(\"x =\",x,\"; y =\",y,\"; X =\",X)\n",
    "\n",
    "f = interp1d(x,y)\n",
    "Y_bench = f(X)\n",
    "print(\"scipy =\",Y_bench)\n",
    "\n",
    "Y = my_nearest_neighbor(x,y,X)\n",
    "print(\"Y =\",Y)"
   ]
  },
  {
   "cell_type": "markdown",
   "metadata": {},
   "source": [
    "#### Flat Cubic Spline Interpolation"
   ]
  },
  {
   "cell_type": "code",
   "execution_count": 839,
   "metadata": {},
   "outputs": [],
   "source": [
    "def my_cubic_spline_flat(x,y,X):\n",
    "    \n",
    "    # constraint 1 @ n-1 equations; if option='flat', set eq. = 0\n",
    "    con_1 = np.zeros((LEN-1,4*(LEN-1)))\n",
    "    k = 0\n",
    "    for i in range(LEN-1):\n",
    "        con_1[i,k] = x[i]**3; k+=1\n",
    "        con_1[i,k] = x[i]**2; k+=1\n",
    "        con_1[i,k] = x[i] ;k+=1\n",
    "        con_1[i,k] = 1 ;k+=1\n",
    "    # print(\"con_1\",con_1)\n",
    "\n",
    "    # constraint 2 @ n-1 equations; if option='flat', set eq. = 0\n",
    "    con_2 = np.zeros((LEN-1,4*(LEN-1)))\n",
    "    k = 0\n",
    "    for i in range(1,LEN):\n",
    "        con_2[i-1,k] = x[i]**3; k+=1\n",
    "        con_2[i-1,k] = x[i]**2; k+=1\n",
    "        con_2[i-1,k] = x[i]; k+=1\n",
    "        con_2[i-1,k] = 1; k+=1\n",
    "    # print(\"con_2\",con_2)\n",
    "\n",
    "    # constraint 3 @ n-2 equations\n",
    "    con_3 = np.zeros((LEN-2,4*(LEN-1)))\n",
    "    k = 0\n",
    "    for i in range(1,LEN-1):\n",
    "        con_3[i-1,k] = 3*x[i]**2; k+=1\n",
    "        con_3[i-1,k] = 2*x[i]; k+=1\n",
    "        con_3[i-1,k] = 1; k+=1\n",
    "        con_3[i-1,k] = 0; k+=1\n",
    "        con_3[i-1,k] = -1*3*x[i]**2; k+=1\n",
    "        con_3[i-1,k] = -1*2*x[i]; k+=1\n",
    "        con_3[i-1,k] = -1*1; k+=1\n",
    "        con_3[i-1,k] = 0; k-=4\n",
    "    # print(\"con_3\",con_3)\n",
    "\n",
    "    # constraint 4 @ n-2 equations\n",
    "    con_4 = np.zeros((LEN-2,4*(LEN-1)))\n",
    "    k = 0\n",
    "    for i in range(1,LEN-1):\n",
    "        con_4[i-1,k] = 6*x[i]; k+=1\n",
    "        con_4[i-1,k] = 2*1; k+=1\n",
    "        con_4[i-1,k] = 0; k+=1\n",
    "        con_4[i-1,k] = 0; k+=1\n",
    "        con_4[i-1,k] = -1*6*x[i]; k+=1\n",
    "        con_4[i-1,k] = -1*2*1; k+=1\n",
    "        con_4[i-1,k] = 0; k+=1\n",
    "        con_4[i-1,k] = 0; k-=4\n",
    "    # print(\"con_4\",con_4)\n",
    "\n",
    "    # constraint 5 @ 2 equations\n",
    "    minim = np.zeros(4*(LEN-1)) # index 1\n",
    "    maxim = np.zeros(4*(LEN-1)) # index n-1\n",
    "    minim[0] = 6*x[0]\n",
    "    minim[1] = 2\n",
    "    maxim[4*(LEN-1)-4] = 6*x[LEN-1]\n",
    "    maxim[4*(LEN-1)-4 +1] = 2\n",
    "    # print(\"minim\",minim)\n",
    "    # print(\"maxim\",maxim)\n",
    "\n",
    "    # aggregate\n",
    "    minmax = np.vstack((minim,maxim))\n",
    "    A = np.vstack((con_1,con_2,con_3,con_4,minmax))\n",
    "    B = np.zeros(4*(LEN-1))\n",
    "    y_new = []\n",
    "    for i in range((LEN-1)):\n",
    "        for j in range(i,2+i):\n",
    "            y_new.append(y[j])\n",
    "    for i in range(len(y_new)):\n",
    "        B[i] = y_new[i]\n",
    "\n",
    "    # <A,x> = B => x = <A.inv,B>\n",
    "    print(\"A=\",A)    \n",
    "    coeff = np.dot(np.linalg.inv(A),B)\n",
    "\n",
    "    print(\"B=\",B)    \n",
    "    print(\"coeff=\",coeff)\n",
    "\n",
    "    # reshape coeff\n",
    "    coeff_2 = np.zeros((LEN-1,4))\n",
    "    k = 0\n",
    "    for i in range(LEN-1):\n",
    "        for j in range(4):\n",
    "            coeff_2[i,j] = coeff[k]; k+=1\n",
    "    # print(\"coeff_2\",coeff_2)\n",
    "\n",
    "    # evaluate for all X\n",
    "    Y = np.zeros(LEN-1)\n",
    "    for j in range(LEN-1):\n",
    "        i = findSegment(x,X[j])\n",
    "        ax = X[i]**3\n",
    "        bx = X[i]**2\n",
    "        cx = X[i]\n",
    "        dx = 1\n",
    "        X_op = np.array([ax,bx,cx,dx])\n",
    "        # print(\"X_op\",X_op)\n",
    "        Y[i] = np.dot(coeff_2[i,:],X_op.T)\n",
    "\n",
    "    return Y"
   ]
  },
  {
   "cell_type": "code",
   "execution_count": 840,
   "metadata": {},
   "outputs": [],
   "source": [
    "def my_flat_cubic_spline(x,y,X):\n",
    "    # use kiusalaas spline for all cases I guess\n",
    "    Y = kiusalaas_cubic_spline(x,y,X)\n",
    "    return Y"
   ]
  },
  {
   "cell_type": "code",
   "execution_count": 841,
   "metadata": {},
   "outputs": [
    {
     "name": "stdout",
     "output_type": "stream",
     "text": [
      "x = [1 2 3 4] ; y = [14.  6. 11. 11.] ; X = [1.81 2.6  3.65]\n",
      "Y_scipy = [ 6.4614758  8.568     11.675675 ]\n",
      "Y = [-7.2896098  8.0432    11.675675 ]\n"
     ]
    }
   ],
   "source": [
    "print(\"x =\",x,\"; y =\",y,\"; X =\",X)\n",
    "\n",
    "# benchmark\n",
    "f = CubicSpline(x, y, bc_type='natural')\n",
    "Y_bench = f(X)\n",
    "print(\"Y_scipy =\",Y_bench)\n",
    "\n",
    "Y = my_flat_cubic_spline(x,y,X)\n",
    "print(\"Y =\",Y)\n",
    "\n",
    "# Y = my_cubic_spline_flat(x,y,X)\n",
    "# print(\"Y =\",Y)"
   ]
  },
  {
   "cell_type": "markdown",
   "metadata": {},
   "source": [
    "#### Quintic Spline Interpolation"
   ]
  },
  {
   "cell_type": "code",
   "execution_count": 842,
   "metadata": {},
   "outputs": [],
   "source": [
    "import numpy as np\n",
    "\n",
    "def my_quintic_spline(x, y, X):\n",
    "    # Calculate h values\n",
    "    h = x[1:] - x[:-1]\n",
    "\n",
    "    # Calculate b values\n",
    "    b = (y[1:] - y[:-1]) / h\n",
    "\n",
    "    # Define the matrix A\n",
    "    A = np.zeros((len(x), len(x)))\n",
    "    A[0, 0] = 1\n",
    "    A[-1, -1] = 1\n",
    "    for i in range(1, len(x)-1):\n",
    "        A[i, i-1] = h[i-1]\n",
    "        A[i, i] = 2 * (h[i-1] + h[i])\n",
    "        A[i, i+1] = h[i]\n",
    "\n",
    "    # Define the right-hand side vector B\n",
    "    B = np.zeros(len(x))\n",
    "    for i in range(1, len(x)-1):\n",
    "        B[i] = 3 * (b[i] - b[i-1])\n",
    "\n",
    "    # Solve for c values\n",
    "    c = np.linalg.solve(A, B)\n",
    "\n",
    "    # Calculate d, e, and f values\n",
    "    d = (c[1:] - c[:-1]) / (3 * h)\n",
    "    e = b - h * (2 * c[:-1] + c[1:]) / 3\n",
    "    f = y[:-1] - e * x[:-1] - d * x[:-1]**2 - c[:-1] * x[:-1]**3\n",
    "\n",
    "    # Define the quintic spline functions\n",
    "    splines = [np.poly1d([0, 0, d[i], c[i], e[i], f[i]]) for i in range(len(x)-1)]\n",
    "\n",
    "    # Apply the quintic spline functions to the new x values\n",
    "    Y = np.piecewise(X, [X >= xi for xi in x[:-1]], splines)\n",
    "\n",
    "    return Y"
   ]
  },
  {
   "cell_type": "code",
   "execution_count": 843,
   "metadata": {},
   "outputs": [
    {
     "name": "stdout",
     "output_type": "stream",
     "text": [
      "x = [1 2 3 4] ; y = [14.  6. 11. 11.] ; X = [1.81 2.6  3.65]\n",
      "Y = [ 23.1750158 -89.832     191.311175 ]\n"
     ]
    }
   ],
   "source": [
    "print(\"x =\",x,\"; y =\",y,\"; X =\",X)\n",
    "\n",
    "Y = my_quintic_spline(x,y,X)\n",
    "print(\"Y =\",Y)"
   ]
  },
  {
   "cell_type": "markdown",
   "metadata": {},
   "source": [
    "#### Interpolation Plotter"
   ]
  },
  {
   "cell_type": "code",
   "execution_count": 844,
   "metadata": {},
   "outputs": [],
   "source": [
    "def plot_it(x,y,X,Y,Y_scipy,option):\n",
    "    plt.figure(figsize=(8, 6))\n",
    "    plt.plot(x, y, 'ro-', label='X')\n",
    "    plt.plot(X, Y, 'bs', label='Y')\n",
    "    plt.plot(X, Y_scipy, color='#FA982E', marker='^', label='Y_scipy')\n",
    "    plt.title(f'{option} interpolation')\n",
    "    plt.xlabel('X')\n",
    "    plt.ylabel('Y')\n",
    "    plt.legend()\n",
    "    plt.grid(True)\n",
    "    plt.show()\n",
    "\n",
    "def my_interp_plotter(x,y,X,option):\n",
    "    if option == 'linear': \n",
    "        f = interp1d(x,y)\n",
    "        Y_scipy = f(X)\n",
    "        Y = my_lin_interp(x,y,X)\n",
    "        plot_it(x,y,X,Y,Y_scipy,option)\n",
    "\n",
    "    if option == 'spline': \n",
    "        X = np.linspace(START,LEN,500)\n",
    "        Y = my_cubic_spline(x,y,X)\n",
    "        f = interp1d(x, y, kind='cubic')\n",
    "        Y_scipy = f(X)\n",
    "\n",
    "\n",
    "        # CHANGE THIS TO DIFFERENT SPLINE FUNCTIONS\n",
    "        Y = my_cubic_spline(x,y,X) \n",
    "\n",
    "        plt.figure(figsize=(8, 6))\n",
    "        plt.plot(x, y, 'ro-', label='X', markersize=1)\n",
    "        plt.plot(X, Y, 'bs', label='Y', markersize=1)\n",
    "        plt.plot(X, Y_scipy, color='#FA982E', marker='^', label='Y_scipy', markersize=1)\n",
    "        plt.title(f'{option} interpolation')\n",
    "        plt.xlabel('X')\n",
    "        plt.ylabel('Y')\n",
    "        plt.legend()\n",
    "        plt.grid(True)\n",
    "        plt.show()\n",
    "\n",
    "    if option == 'nearest': \n",
    "        Y = my_nearest_neighbor(x,y,X)\n",
    "        f = interp1d(x,y,kind='nearest')\n",
    "        Y_scipy = f(X)\n",
    "        Y = my_nearest_neighbor(x,y,X)\n",
    "        plot_it(x,y,X,Y,Y_scipy,option)\n",
    "\n",
    "    if option != 'linear' and option != 'spline' and option != 'nearest': \n",
    "        Y = my_lin_interp(x,y,X) # default is linear\n",
    "        f = interp1d(x,y)\n",
    "        Y_scipy = f(X)\n",
    "        Y = my_lin_interp(x,y,X)\n",
    "        option = 'linear'\n",
    "        plot_it(x,y,X,Y,Y_scipy,option)\n",
    "    return Y"
   ]
  },
  {
   "cell_type": "code",
   "execution_count": 845,
   "metadata": {},
   "outputs": [
    {
     "data": {
      "image/png": "[encoded data removed]",
      "text/plain": [
       "<Figure size 800x600 with 1 Axes>"
      ]
     },
     "metadata": {},
     "output_type": "display_data"
    }
   ],
   "source": [
    "Y = my_interp_plotter(x,y,X,'spline')"
   ]
  }
 ],
 "metadata": {
  "kernelspec": {
   "display_name": "Python 3",
   "language": "python",
   "name": "python3"
  },
  "language_info": {
   "codemirror_mode": {
    "name": "ipython",
    "version": 3
   },
   "file_extension": ".py",
   "mimetype": "text/x-python",
   "name": "python",
   "nbconvert_exporter": "python",
   "pygments_lexer": "ipython3",
   "version": "3.11.0"
  }
 },
 "nbformat": 4,
 "nbformat_minor": 2
}
