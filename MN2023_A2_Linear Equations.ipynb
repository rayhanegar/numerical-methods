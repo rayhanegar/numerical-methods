{
 "cells": [
  {
   "cell_type": "markdown",
   "metadata": {},
   "source": [
    "# Nonlinear Equations"
   ]
  },
  {
   "cell_type": "markdown",
   "metadata": {},
   "source": [
    "## Overview of Direct Methods\n",
    "\n",
    "- Gauss elimination:\n",
    "    - Initial form: Ax = b\n",
    "    - Final form: Ux = c\n",
    "- LU decomposition:\n",
    "    - Initial form: Ax = b\n",
    "    - Final form: LUx = b\n",
    "    - Takeaway: A = LU\n",
    "- Gauss-Jordan elimination\n",
    "    - Initial form: Ax = b\n",
    "    - Final form: Ix = c"
   ]
  },
  {
   "cell_type": "code",
   "execution_count": null,
   "metadata": {},
   "outputs": [],
   "source": []
  },
  {
   "cell_type": "markdown",
   "metadata": {},
   "source": [
    "## Gauss Elimination Method\n",
    "1. Calculate for ratio between rows.\n",
    "2. Subtract\n",
    "3. Back substitution."
   ]
  },
  {
   "cell_type": "code",
   "execution_count": 1,
   "metadata": {},
   "outputs": [],
   "source": [
    "import numpy as np\n",
    "import math"
   ]
  },
  {
   "cell_type": "code",
   "execution_count": 2,
   "metadata": {},
   "outputs": [],
   "source": [
    "def gauss_elimination(a, b):\n",
    "\n",
    "    n = len(b)\n",
    "    x = np.zeros(n).astype(float)\n",
    "\n",
    "    # iterates pivot row\n",
    "    # pivot element: main diagonal element, hence why 'j' is the pivot\n",
    "    for j in range(n):\n",
    "\n",
    "        # iterates for each modified row (pivot + 1)\n",
    "        for i in range(j + 1, n):\n",
    "                ratio = a[i, j] / a[j, j]\n",
    "                a[i, j:n] = a[i, j:n] - ratio * a[j, j:n]\n",
    "                b[i] = b[i] - ratio * b[j]\n",
    "\n",
    "    # back-substitution phase\n",
    "    for i in range(n-1, -1, -1):\n",
    "        sum_term = np.dot(a[i, i+1:n], x[i+1:n])\n",
    "        x[i] = (b[i] - sum_term) / a[i, i]\n",
    "\n",
    "    return x"
   ]
  },
  {
   "cell_type": "code",
   "execution_count": 3,
   "metadata": {},
   "outputs": [
    {
     "name": "stdout",
     "output_type": "stream",
     "text": [
      "[1. 2. 3.]\n"
     ]
    }
   ],
   "source": [
    "alist = [[1, 1, 1], [1, 2, -1], [2, 1, 2]]\n",
    "blist = [6, 2, 10]\n",
    "a = np.array(alist).astype(float)\n",
    "b = np.array(blist).astype(float)\n",
    "\n",
    "print(gauss_elimination(a, b))"
   ]
  },
  {
   "cell_type": "markdown",
   "metadata": {},
   "source": [
    "# Forward and Backward Substitution Overview"
   ]
  },
  {
   "cell_type": "code",
   "execution_count": 4,
   "metadata": {},
   "outputs": [],
   "source": [
    "def forward_substitution(a, b):\n",
    "    n = len(b)\n",
    "    y = np.zeros(n)\n",
    "\n",
    "    y[0] = b[0]\n",
    "    for i in range(1, n):\n",
    "        sum_term = np.dot(a[i, 0:n], y[0:n])\n",
    "        y[i] = (b[i] - sum_term) / a[i, i]\n",
    "\n",
    "    return y\n",
    "\n",
    "def backward_substitution(a, y):\n",
    "    n = len(y)\n",
    "    x = np.zeros(n)\n",
    "\n",
    "    for i in range(n-1, -1, -1):\n",
    "        sum_term = np.dot(a[i, i+1:n], y[i+1:n])\n",
    "        x[i] = (y[i] - sum_term) / a[i, i]\n",
    "\n",
    "    return x"
   ]
  },
  {
   "cell_type": "markdown",
   "metadata": {},
   "source": [
    "## LU Decomposition (Doolittle's Decomposition)"
   ]
  },
  {
   "cell_type": "markdown",
   "metadata": {},
   "source": [
    "- Find U using Gauss-elimination on A.\n",
    "- Forward U to A = LU to find L.\n",
    "- Forward L to Ly = b to find y, solve for L using forward substitution.\n",
    "- Forward y to Ux = y fo find for x, solve for x using back substitution.\n",
    "\n",
    "### L-matrix\n",
    "- Stores the multiplier, or the 'ratio' of the Gaussian elimination process.\n",
    "- Lij is multiplier used to eliminates Aij"
   ]
  },
  {
   "cell_type": "code",
   "execution_count": 5,
   "metadata": {},
   "outputs": [],
   "source": [
    "def lu_decomposition(a, b):\n",
    "    n = len(a)\n",
    "    u = a.copy()\n",
    "    l = np.eye(n)\n",
    "\n",
    "    # LU factorization of A\n",
    "    for j in range(n):\n",
    "        for i in range(j+1, n):\n",
    "            l[i, j] = u[i, j] / u[j, j]\n",
    "            u[i, j:n] = u[i, j:n] - l[i, j] * u[j, j:n]\n",
    "    \n",
    "    # ly = b, find y using gauss_elimination(l, b)\n",
    "    y = gauss_elimination(l, b)\n",
    "\n",
    "    # ux = y, find x using gauss_elimination(u, y)\n",
    "    x = gauss_elimination(u, y)\n",
    "\n",
    "    return x\n"
   ]
  },
  {
   "cell_type": "code",
   "execution_count": 6,
   "metadata": {},
   "outputs": [
    {
     "name": "stdout",
     "output_type": "stream",
     "text": [
      "[1. 2. 3.]\n"
     ]
    }
   ],
   "source": [
    "print(lu_decomposition(np.array([[1, 1, 1], [1, 2, -1], [2, 1, 2]]), np.array([6, 2, 10])))"
   ]
  },
  {
   "cell_type": "markdown",
   "metadata": {},
   "source": [
    "## Cholesky Decomposition"
   ]
  },
  {
   "cell_type": "markdown",
   "metadata": {},
   "source": [
    "- A variation of LU Decomposition.\n",
    "- Differs with Doolittle's decomposition in which L = U^T"
   ]
  },
  {
   "cell_type": "code",
   "execution_count": 7,
   "metadata": {},
   "outputs": [],
   "source": [
    "def cholesky_factor(a, b):\n",
    "    n = len(a)\n",
    "    l = a.copy()\n",
    "    for j in range (n):\n",
    "\n",
    "        # checks if definite positive for element in the main-diagonal\n",
    "        try:\n",
    "            l[j, j] = math.sqrt(l[j, j] / np.dot(l[j, 0:j], l[j, 0:j]))\n",
    "        except ValueError:\n",
    "            print(\"Matriks tidak bisa diselesaikan dengan dekomposisi Cholesky\")\n",
    "            return l\n",
    "        \n",
    "        # perform forward-substitution\n",
    "        for i in range(j+1, n):\n",
    "            sum_term = np.dot(l[i, 0:j], l[j, 0:j])\n",
    "            l[i, j] = (l[i, j] - sum_term) / l[j, j]\n",
    "        \n",
    "    # change upper-part to 0\n",
    "    for j in range(1, n):\n",
    "            a[0:j, j] = 0.0\n",
    "\n",
    "    return l"
   ]
  },
  {
   "cell_type": "code",
   "execution_count": 8,
   "metadata": {},
   "outputs": [],
   "source": [
    "def cholesky_sol(l, b):\n",
    "    n = len(b)\n",
    "    y = np.zeros(n)\n",
    "    x = np.zeros(n)\n",
    "\n",
    "    # for ly = b, forward-substitution\n",
    "    y[0] = b[0]\n",
    "\n",
    "    for j in range(1, n):\n",
    "        sum_term = np.dot(a[j, 0:n], y[0:n])\n",
    "        y[j] = (b[j] - sum_term) / l[j, j]\n",
    "    \n",
    "    # for ux = y, u = l_transpose so use back-substitution\n",
    "    for j in range(n-1, -1, -1):\n",
    "        sum_term = np.dot(a[j, j+1:n], x[j+1:n])\n",
    "        x[j] = (y[j] - sum_term) / l[j, j]\n",
    "\n",
    "    return x"
   ]
  },
  {
   "cell_type": "code",
   "execution_count": 9,
   "metadata": {},
   "outputs": [],
   "source": [
    "def cholesky(a, b):\n",
    "    l = cholesky_factor(a, b)\n",
    "    x = cholesky_sol(l, b)\n",
    "    return x"
   ]
  }
 ],
 "metadata": {
  "kernelspec": {
   "display_name": "myenv",
   "language": "python",
   "name": "python3"
  },
  "language_info": {
   "codemirror_mode": {
    "name": "ipython",
    "version": 3
   },
   "file_extension": ".py",
   "mimetype": "text/x-python",
   "name": "python",
   "nbconvert_exporter": "python",
   "pygments_lexer": "ipython3",
   "version": "3.10.9"
  },
  "orig_nbformat": 4
 },
 "nbformat": 4,
 "nbformat_minor": 2
}
