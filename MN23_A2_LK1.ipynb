{
 "cells": [
  {
   "cell_type": "markdown",
   "metadata": {},
   "source": [
    "Predefined Functions"
   ]
  },
  {
   "cell_type": "code",
   "execution_count": 2,
   "metadata": {},
   "outputs": [],
   "source": [
    "import math as math\n",
    "import numpy as py\n",
    "import matplotlib.pyplot as plt"
   ]
  },
  {
   "cell_type": "code",
   "execution_count": null,
   "metadata": {},
   "outputs": [],
   "source": [
    "def print(i, sum, ea):\n",
    "    print"
   ]
  },
  {
   "cell_type": "markdown",
   "metadata": {},
   "source": [
    "MacLaurin e^x"
   ]
  },
  {
   "cell_type": "code",
   "execution_count": 16,
   "metadata": {},
   "outputs": [
    {
     "name": "stdout",
     "output_type": "stream",
     "text": [
      "143.68945656966488 3.7457785974193873\n"
     ]
    }
   ],
   "source": [
    "def e_power_x(x, n):\n",
    "    sum = 0\n",
    "    if (n > 0):\n",
    "        for i in range(0, n):\n",
    "            previous = sum\n",
    "            sum += x**i/ math.factorial(i)\n",
    "            ea = abs((sum - previous) / sum * 100)\n",
    "        return sum, ea\n",
    "\n",
    "sum, ea = e_power_x(5, 10)\n",
    "print(sum, ea)"
   ]
  },
  {
   "cell_type": "markdown",
   "metadata": {},
   "source": [
    "MacLaurin cos x"
   ]
  },
  {
   "cell_type": "code",
   "execution_count": 10,
   "metadata": {},
   "outputs": [
    {
     "name": "stdout",
     "output_type": "stream",
     "text": [
      "0.283625015089173 0.2100750742862442\n"
     ]
    }
   ],
   "source": [
    "def cos_x(x, n):\n",
    "    sum = 0\n",
    "    if n > 0:\n",
    "        for i in range(0, n):\n",
    "            previous = sum\n",
    "            sum += pow(-1, i) * pow(x, 2*i) / math.factorial(2*i)\n",
    "            ea = abs((sum - previous) / sum * 100)\n",
    "        return [sum, ea]\n",
    "\n",
    "sum, ea = cos_x(5, 10)\n",
    "print(sum, ea)"
   ]
  },
  {
   "cell_type": "markdown",
   "metadata": {},
   "source": [
    "MacLaurin ln(1+x)"
   ]
  },
  {
   "cell_type": "code",
   "execution_count": 15,
   "metadata": {},
   "outputs": [
    {
     "name": "stdout",
     "output_type": "stream",
     "text": [
      "0.4054346478174603 0.024086804254576235\n"
     ]
    }
   ],
   "source": [
    "def ln(x, n):\n",
    "    sum = 0\n",
    "    if (n > 1):\n",
    "        for i in range (1, n+1):\n",
    "            previous = sum\n",
    "            sum += pow(-1, i+1) * pow(x, i) / i\n",
    "            ea = abs((sum - previous) / sum * 100)\n",
    "    return sum, ea\n",
    "\n",
    "sum, ea = ln(0.5, 10)\n",
    "print(sum, ea)"
   ]
  },
  {
   "cell_type": "code",
   "execution_count": null,
   "metadata": {},
   "outputs": [],
   "source": []
  }
 ],
 "metadata": {
  "kernelspec": {
   "display_name": "myenv",
   "language": "python",
   "name": "python3"
  },
  "language_info": {
   "codemirror_mode": {
    "name": "ipython",
    "version": 3
   },
   "file_extension": ".py",
   "mimetype": "text/x-python",
   "name": "python",
   "nbconvert_exporter": "python",
   "pygments_lexer": "ipython3",
   "version": "3.10.9"
  },
  "orig_nbformat": 4
 },
 "nbformat": 4,
 "nbformat_minor": 2
}
