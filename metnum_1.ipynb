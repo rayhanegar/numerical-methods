{
 "cells": [
  {
   "cell_type": "markdown",
   "metadata": {},
   "source": [
    "1. Menghitung $cos(x)$ melalui McLaurin series untuk $x=5$"
   ]
  },
  {
   "cell_type": "code",
   "execution_count": 61,
   "metadata": {},
   "outputs": [
    {
     "name": "stdout",
     "output_type": "stream",
     "text": [
      "result: 0.28366218546322674587401024837163276970386505126953\n",
      "ea%: 0.00%\n"
     ]
    }
   ],
   "source": [
    "import math as math\n",
    "\n",
    "def cosx(x, k):\n",
    "    res = 1\n",
    "    if k > 1:\n",
    "        for i in range(1, k):\n",
    "            temp = res\n",
    "            res += (pow(-1, i) * pow(x, 2*i)) / math.factorial(2*i)\n",
    "            ea = (res-temp) / temp * 100\n",
    "    return [res,ea]\n",
    "\n",
    "res = cosx(5,25)\n",
    "print(\"result: %.50f\" %(res[0]))\n",
    "print(\"ea%%: %.2f%%\" %(res[1]))"
   ]
  },
  {
   "cell_type": "markdown",
   "metadata": {},
   "source": [
    "2. Menghitung $sin(x)$ melalui McLaurin series untuk $x=5$ beserta grafik perubahan nilainya"
   ]
  },
  {
   "cell_type": "code",
   "execution_count": 62,
   "metadata": {},
   "outputs": [
    {
     "name": "stdout",
     "output_type": "stream",
     "text": [
      "result: -64.20321057778873807819763896986842155456542968750000\n",
      "ea%: -0.00%\n"
     ]
    },
    {
     "data": {
      "text/plain": [
       "<function matplotlib.pyplot.show(close=None, block=None)>"
      ]
     },
     "execution_count": 62,
     "metadata": {},
     "output_type": "execute_result"
    },
    {
     "data": {
      "image/png": "[encoded data removed]",
      "text/plain": [
       "<Figure size 640x480 with 1 Axes>"
      ]
     },
     "metadata": {},
     "output_type": "display_data"
    }
   ],
   "source": [
    "import numpy as np\n",
    "import math as math\n",
    "import matplotlib.pyplot as plt\n",
    "\n",
    "graph = []\n",
    "\n",
    "def sinx(x, k):\n",
    "    res = x\n",
    "    if k > 1:\n",
    "        for i in range(1, k):\n",
    "            temp = res\n",
    "            res += ((-1 ** i) * pow(x, 2*i+1)) / math.factorial(2*i+1)\n",
    "            ea = (res-temp) / temp * 100\n",
    "            graph.append(res)\n",
    "    return res,ea\n",
    "\n",
    "res,ea = sinx(5,25)\n",
    "print(\"result: %.50f\" %res)\n",
    "print(\"ea%%: %.2f%%\" %ea)\n",
    "\n",
    "x = np.arange(1,25)\n",
    "plt.plot(x, graph)\n",
    "plt.show"
   ]
  },
  {
   "cell_type": "markdown",
   "metadata": {},
   "source": [
    "Lambda function for a factorial"
   ]
  },
  {
   "cell_type": "code",
   "execution_count": 63,
   "metadata": {},
   "outputs": [
    {
     "name": "stdout",
     "output_type": "stream",
     "text": [
      "6\n"
     ]
    }
   ],
   "source": [
    "factorial = lambda x: 1 if x <= 1 else x*factorial(x-1)\n",
    "\n",
    "print(factorial(3))"
   ]
  },
  {
   "cell_type": "markdown",
   "metadata": {},
   "source": [
    "3. Menghitung $e^x$ melalui McLaurin series untuk $x=5$"
   ]
  },
  {
   "cell_type": "code",
   "execution_count": 64,
   "metadata": {},
   "outputs": [
    {
     "name": "stdout",
     "output_type": "stream",
     "text": [
      "result: 148.41315907883662816857395227998495101928710937500000\n",
      "ea%: 0.00%\n"
     ]
    }
   ],
   "source": [
    "def e_power_x (x, k):\n",
    "    res = 1\n",
    "    for i in range(1, k):\n",
    "        temp = res\n",
    "        res += x**i / factorial(i)\n",
    "        ea = (res-temp) / temp * 100\n",
    "    return res, ea\n",
    "\n",
    "res, ea = e_power_x(5,25)\n",
    "print(\"result: %.50f\\nea%%: %.2f%%\" %(res,ea))"
   ]
  },
  {
   "cell_type": "code",
   "execution_count": 65,
   "metadata": {},
   "outputs": [
    {
     "name": "stdout",
     "output_type": "stream",
     "text": [
      "[0, 1, 4, 9, 16]\n",
      "[0, 4, 16]\n",
      "[0, 1, 2, 1, 2, 3, 2, 3, 4, 3, 4, 5, 4, 5, 6]\n"
     ]
    }
   ],
   "source": [
    "# as a note, you can do one liners like this!\n",
    "print([i**2 for i in range(5)]) # a**b means a to the power of b\n",
    "print([i**2 for i in range(5) if i%2 == 0])\n",
    "print([i + j for i in range(5) for j in range(3)])"
   ]
  }
 ],
 "metadata": {
  "kernelspec": {
   "display_name": "Python 3",
   "language": "python",
   "name": "python3"
  },
  "language_info": {
   "codemirror_mode": {
    "name": "ipython",
    "version": 3
   },
   "file_extension": ".py",
   "mimetype": "text/x-python",
   "name": "python",
   "nbconvert_exporter": "python",
   "pygments_lexer": "ipython3",
   "version": "3.11.0"
  },
  "orig_nbformat": 4
 },
 "nbformat": 4,
 "nbformat_minor": 2
}
