{
 "cells": [
  {
   "cell_type": "markdown",
   "metadata": {},
   "source": [
    "# MN2023_A2: Integration\n",
    "- Riemann sum\n",
    "- Trapezoid method\n",
    "- Simson's method"
   ]
  },
  {
   "cell_type": "code",
   "execution_count": 62,
   "metadata": {},
   "outputs": [],
   "source": [
    "import numpy as np\n",
    "import matplotlib.pyplot as plt"
   ]
  },
  {
   "cell_type": "markdown",
   "metadata": {},
   "source": [
    "## Riemann Sum\n",
    "- Left Riemann Sum: based on the left-side segment point\n",
    "- Right Riemann Sum: based on the right-side segment point\n",
    "- Center Riemann Sum: based on the midpoint of the segment"
   ]
  },
  {
   "cell_type": "code",
   "execution_count": 63,
   "metadata": {},
   "outputs": [],
   "source": [
    "def riemann_sum_left(func, a, b, n):\n",
    "    \n",
    "    section_width = (b - a) / n\n",
    "    sum_result = 0\n",
    "\n",
    "    for i in range(n):\n",
    "        x_i = a + i * section_width\n",
    "        sum_result += func(x_i) * section_width\n",
    "\n",
    "    return sum_result\n",
    "\n",
    "def riemann_sum_right(func, a, b, n):\n",
    "    section_width = (b - a) / n\n",
    "    sum_result = 0\n",
    "\n",
    "    for i in range(1, n+1):\n",
    "        x_i = a + i * section_width\n",
    "        sum_result += func(x_i) * section_width\n",
    "\n",
    "    return sum_result\n",
    "\n",
    "def riemann_sum_center(func, a, b, n):\n",
    "    section_width = (b - a) / n\n",
    "    sum_result = 0\n",
    "\n",
    "    for i in range(n):\n",
    "        x_i = a + (i + 0.5) * section_width\n",
    "        sum_result += func(x_i) * section_width\n",
    "\n",
    "    return sum_result"
   ]
  },
  {
   "cell_type": "markdown",
   "metadata": {},
   "source": [
    "# Trapezoidal Rule"
   ]
  },
  {
   "cell_type": "markdown",
   "metadata": {},
   "source": [
    "Based on the average value of the segment: $(f(x_i) + f(x_{i+1})/2)$"
   ]
  },
  {
   "cell_type": "code",
   "execution_count": 85,
   "metadata": {},
   "outputs": [],
   "source": [
    "def trapezoidal_rule(func, a, b, n):\n",
    "\n",
    "    a = float(a)\n",
    "    b = float(b)\n",
    "    \n",
    "    x = np.array(np.linspace(a, b, n+1)).astype(float)\n",
    "    y = func(x)\n",
    "    \n",
    "    section_width = (b - a) / n\n",
    "    sum_result = 0.5 * (y[0] + y[-1])  # Include endpoints\n",
    "\n",
    "    for i in range(1, n ):\n",
    "        sum_result += y[i]\n",
    "\n",
    "    return sum_result * section_width"
   ]
  },
  {
   "cell_type": "code",
   "execution_count": 83,
   "metadata": {},
   "outputs": [],
   "source": [
    "# Benchmarking purpose, GPT \n",
    "def trapezoidal_rule_alt(func, a, b, n):\n",
    "    \n",
    "    section_width = (b - a) / n\n",
    "    sum_result = 0.5 * (func(a) + func(b))  \n",
    "\n",
    "    for i in range(1, n):\n",
    "        x_i = a + i * section_width\n",
    "        sum_result += func(x_i)\n",
    "\n",
    "    return sum_result * section_width"
   ]
  },
  {
   "cell_type": "code",
   "execution_count": 93,
   "metadata": {},
   "outputs": [
    {
     "name": "stdout",
     "output_type": "stream",
     "text": [
      "trapezoidal_rule():  1.9835235375094546\n"
     ]
    }
   ],
   "source": [
    "# Berkeley's Test Case for Trapezoidal Rule\n",
    "f_berkeley = lambda x: np.sin(x)\n",
    "print(\"trapezoidal_rule(): \", trapezoidal_rule(f_berkeley, 0, np.pi, 10))"
   ]
  },
  {
   "cell_type": "markdown",
   "metadata": {},
   "source": [
    "# Simpson's Rule"
   ]
  },
  {
   "cell_type": "markdown",
   "metadata": {},
   "source": [
    "Slide's version formula:\n",
    "$$ A = \\frac{h}{3}(f(x_{i-1}) + 4f(x_i) + f(x_{i+1})) $$\n",
    "\n",
    "Berkeley's version formula:\n",
    "$$ A = \\frac{h}{3} * (f[0] + (2 * \\sum _{i = 0, even}^{n-2} f[i]) + (4 * \\sum _{i = 1, odd}^{n-1} f[i]) + f[n-1]) $$"
   ]
  },
  {
   "cell_type": "code",
   "execution_count": 87,
   "metadata": {},
   "outputs": [],
   "source": [
    "def simpsons_rule(func, a, b, n):\n",
    "    if n % 2 != 0:\n",
    "        raise ValueError(\"Simpson's rule requires an even number of subintervals.\")\n",
    "    \n",
    "    x = np.linspace(a, b, n+1)\n",
    "    y = func(x)\n",
    "    h = (b - a) / (n)\n",
    "\n",
    "    sum_result = y[0] + y[-1]  # Include endpoints\n",
    "\n",
    "    for i in range(0, n-1, 2):  # Iterate over even indices\n",
    "        sum_result += 2 * y[i]\n",
    "\n",
    "    for i in range(1, n, 2):\n",
    "        sum_result += 4 * y[i]\n",
    "\n",
    "    sum_result *= h/3\n",
    "    return sum_result\n",
    "\n",
    "def simpsons_rule_alt(func, a, b, n):\n",
    "    x = np.linspace(a, b, n)\n",
    "    y = func(x)\n",
    "    h = (b-a)/n\n",
    "    sum_result = y[0] + y[-1] # Initialize with endpoints\n",
    "    \n",
    "    # Iterate over even indices\n",
    "    for i in range(0, n-2, 2): \n",
    "        sum_result += 2 * y[i]\n",
    "    \n",
    "    # Iterate over odd indices\n",
    "    for i in range(1, n-1, 2):\n",
    "        sum_result += 4 * y[i]\n",
    "\n",
    "    sum_result *= h/3\n",
    "    return sum_result"
   ]
  },
  {
   "cell_type": "code",
   "execution_count": 94,
   "metadata": {},
   "outputs": [
    {
     "name": "stdout",
     "output_type": "stream",
     "text": [
      "Simpson's Rule Benchmark: 2.0001095173150043\n"
     ]
    }
   ],
   "source": [
    "print(f\"Simpson's Rule Benchmark: {simpsons_rule(f_berkeley, 0, np.pi, 10)}\")"
   ]
  },
  {
   "cell_type": "markdown",
   "metadata": {},
   "source": [
    "## Chapter 12 Slide 11"
   ]
  },
  {
   "cell_type": "code",
   "execution_count": 91,
   "metadata": {},
   "outputs": [
    {
     "name": "stdout",
     "output_type": "stream",
     "text": [
      "Left Riemann:  0.7595238095238095\n",
      "Right Riemann:  0.6345238095238095\n",
      "Center Riemann:  0.6912198912198912\n",
      "Trapezoidal Rule:  0.6970238095238095\n",
      "Simpson's Rule:  0.859920634920635\n"
     ]
    }
   ],
   "source": [
    "# Chapter 12 Slide 11\n",
    "func_trap = lambda x : 1/x\n",
    "a_trap = 1\n",
    "b_trap = 2\n",
    "n_trap = 4\n",
    "print(\"Left Riemann: \", riemann_sum_left(func_trap, a_trap, b_trap, n_trap))\n",
    "print(\"Right Riemann: \", riemann_sum_right(func_trap, a_trap, b_trap, n_trap))\n",
    "print(\"Center Riemann: \", riemann_sum_center(func_trap, a_trap, b_trap, n_trap))\n",
    "print(\"Trapezoidal Rule: \", trapezoidal_rule(func_trap, a_trap, b_trap, n_trap))\n",
    "print(\"Simpson's Rule: \", simpsons_rule(func_trap, a_trap, b_trap, n_trap))"
   ]
  },
  {
   "cell_type": "markdown",
   "metadata": {},
   "source": [
    "## Chapter 12 Slide 32"
   ]
  },
  {
   "cell_type": "code",
   "execution_count": 92,
   "metadata": {},
   "outputs": [
    {
     "name": "stdout",
     "output_type": "stream",
     "text": [
      "Left Riemann:  -4.592425496802574e-17\n",
      "Right Riemann:  0.0\n",
      "Center Riemann:  -5.551115123125783e-17\n",
      "Trapezoidal Rule:  -4.592425496802574e-17\n",
      "Simpson's Rule:  0.16666666666666663\n"
     ]
    }
   ],
   "source": [
    "# Chapter 12 Slide 32\n",
    "func_cos = lambda x : np.cos(2 * np.pi * x)\n",
    "a_cos = 0\n",
    "b_cos = 1\n",
    "n_cos = 4\n",
    "\n",
    "print(\"Left Riemann: \", riemann_sum_left(func_cos, a_cos, b_cos, n_cos))\n",
    "print(\"Right Riemann: \", riemann_sum_right(func_cos, a_cos, b_cos, n_cos))\n",
    "print(\"Center Riemann: \", riemann_sum_center(func_cos, a_cos, b_cos, n_cos))\n",
    "print(\"Trapezoidal Rule: \", trapezoidal_rule(func_cos, a_cos, b_cos, n_cos))\n",
    "print(\"Simpson's Rule: \", simpsons_rule(func_cos, a_cos, b_cos, n_cos))"
   ]
  },
  {
   "cell_type": "code",
   "execution_count": null,
   "metadata": {},
   "outputs": [],
   "source": []
  }
 ],
 "metadata": {
  "kernelspec": {
   "display_name": "myenv",
   "language": "python",
   "name": "python3"
  },
  "language_info": {
   "codemirror_mode": {
    "name": "ipython",
    "version": 3
   },
   "file_extension": ".py",
   "mimetype": "text/x-python",
   "name": "python",
   "nbconvert_exporter": "python",
   "pygments_lexer": "ipython3",
   "version": "3.10.9"
  }
 },
 "nbformat": 4,
 "nbformat_minor": 2
}
