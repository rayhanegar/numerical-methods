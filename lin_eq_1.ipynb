{
 "cells": [
  {
   "cell_type": "markdown",
   "metadata": {},
   "source": [
    "# Persamaan Linear\n",
    "Eliminasi Gauss, Dekomposisi LU, Metode Choleski"
   ]
  },
  {
   "cell_type": "code",
   "execution_count": 8,
   "metadata": {},
   "outputs": [],
   "source": [
    "import numpy as np\n",
    "\n",
    "size = int(input(\"size=?\"))\n",
    "\n",
    "A = np.zeros((size,size)).astype(float)\n",
    "B = np.zeros(size).astype(float)\n",
    "\n",
    "msg = \"input {} digits delim=space -> A\".format(size**2)\n",
    "raw_A = input(msg)\n",
    "split_A = raw_A.split()\n",
    "k = 0\n",
    "for i in range(size):\n",
    "    for j in range(size):\n",
    "        A[i,j]=split_A[k]\n",
    "        k+=1\n",
    "\n",
    "msg = \"input {} digits delim=space -> B\".format(size)\n",
    "raw_B = input(msg)\n",
    "split_B = raw_B.split()\n",
    "for i in range(size):\n",
    "    B[i] = split_B[i]\n",
    "\n",
    "# create copies\n",
    "D = np.zeros((size,size)).astype(float)\n",
    "E = np.zeros(size).astype(float)\n",
    "F = np.zeros((size,size)).astype(float)\n",
    "G = np.zeros(size).astype(float)\n",
    "\n",
    "for i in range(size):\n",
    "    for j in range(size):\n",
    "        D[i,j] = A[i,j]; F[i,j] = A[i,j]\n",
    "\n",
    "for i in range(size):\n",
    "    E[i] = B[i]; G[i] = B[i]"
   ]
  },
  {
   "cell_type": "markdown",
   "metadata": {},
   "source": [
    "Eliminasi Gauss"
   ]
  },
  {
   "cell_type": "code",
   "execution_count": 3,
   "metadata": {},
   "outputs": [],
   "source": [
    "def gauss_elimination(A, B):\n",
    "    n = len(B)\n",
    "    x = np.zeros(n).astype(float)\n",
    "\n",
    "    # OBE\n",
    "    # standard case\n",
    "    for i in range(n):\n",
    "        for j in range(i+1, n):\n",
    "            k = -1 * A[j,i] / A[i,i]\n",
    "            A[j,i:n] = k * A[i,i:n] + A[j,i:n]\n",
    "            B[j] = k * B[i] + B[j]\n",
    "    \n",
    "    # back-sub\n",
    "    for i in range(n-1,-1,-1):\n",
    "        x[i] = (B[i] - np.dot(A[i,i+1:n],x[i+1:n])) / A[i,i]\n",
    "    return x"
   ]
  },
  {
   "cell_type": "code",
   "execution_count": 4,
   "metadata": {},
   "outputs": [
    {
     "data": {
      "text/plain": [
       "array([1., 2., 3.])"
      ]
     },
     "execution_count": 4,
     "metadata": {},
     "output_type": "execute_result"
    }
   ],
   "source": [
    "alist = [[1, 1, 1], [1, 2, -1], [2, 1, 2]]\n",
    "blist = [6, 2, 10]\n",
    "a = np.array(alist)\n",
    "b = np.array(blist)\n",
    "\n",
    "gauss_elimination(a, b)"
   ]
  },
  {
   "cell_type": "markdown",
   "metadata": {},
   "source": [
    "Dekomposisi LU"
   ]
  },
  {
   "cell_type": "code",
   "execution_count": 11,
   "metadata": {},
   "outputs": [],
   "source": [
    "def lu(A, B):\n",
    "    n = len(A)\n",
    "    U = np.zeros((n,n)).astype(float)\n",
    "    L = np.eye(n).astype(float)\n",
    "\n",
    "    # U = A\n",
    "    for i in range(n):\n",
    "        for j in range(n):\n",
    "            U[i,j]=A[i,j]\n",
    "\n",
    "    # mencari U dengan OBE (standard case)\n",
    "    for i in range(n):\n",
    "        for j in range(i+1, n):\n",
    "            k = -1 * U[j,i] / U[i,i]\n",
    "            U[j,i:n] = k * U[i,i:n] + U[j,i:n]\n",
    "            print(U)\n",
    "\n",
    "    print(\"Looking for L\")\n",
    "    # mencari L dari A = LU\n",
    "    for i in range(1,n):\n",
    "        for j in range(0,i):\n",
    "            L[i,j] = (A[i,j] - np.dot(L[i,0:n], U[0:n,j])) / U[j,j]\n",
    "            print(L)\n",
    "\n",
    "    # mencari Ly = B --> y = L aug B\n",
    "    y = gauss_elimination(L,B)\n",
    "    \n",
    "    # mencari Ux = y --> x = U aug y\n",
    "    x = gauss_elimination(U,y)\n",
    "\n",
    "    return x"
   ]
  },
  {
   "cell_type": "code",
   "execution_count": 12,
   "metadata": {},
   "outputs": [
    {
     "name": "stdout",
     "output_type": "stream",
     "text": [
      "[[ 4.   3.  -1. ]\n",
      " [ 0.  -2.5  4.5]\n",
      " [ 1.   2.   6. ]]\n",
      "[[ 4.    3.   -1.  ]\n",
      " [ 0.   -2.5   4.5 ]\n",
      " [ 0.    1.25  6.25]]\n",
      "[[ 4.   3.  -1. ]\n",
      " [ 0.  -2.5  4.5]\n",
      " [ 0.   0.   8.5]]\n",
      "Looking for L\n",
      "[[ 1.   0.   0. ]\n",
      " [-0.5  1.   0. ]\n",
      " [ 0.   0.   1. ]]\n",
      "[[ 1.    0.    0.  ]\n",
      " [-0.5   1.    0.  ]\n",
      " [ 0.25  0.    1.  ]]\n",
      "[[ 1.    0.    0.  ]\n",
      " [-0.5   1.    0.  ]\n",
      " [ 0.25 -0.5   1.  ]]\n",
      "a = [[4, 3, -1], [-2, -4, 5], [1, 2, 6]]\n",
      "b = [9, 2, 16]\n",
      "x = [1.97941176 0.98823529 1.88235294]\n"
     ]
    }
   ],
   "source": [
    "# Nomor 1\n",
    "a3 = [[4, 3, -1], [-2, -4, 5], [1, 2, 6]]\n",
    "b3 = [9, 2, 16]\n",
    "\n",
    "x3 = lu(np.array(a3), np.array(b3))\n",
    "print(f\"a = {a3}\\nb = {b3}\\nx = {x3}\")"
   ]
  },
  {
   "cell_type": "markdown",
   "metadata": {},
   "source": [
    "Cholesky"
   ]
  },
  {
   "cell_type": "code",
   "execution_count": 6,
   "metadata": {},
   "outputs": [],
   "source": [
    "import math\n",
    "\n",
    "def cholesky(A, B):\n",
    "    L = choleskyInit(A)\n",
    "    return choleskySolve(L, B)\n",
    "\n",
    "def choleskyInit(A):\n",
    "    n = len(A)\n",
    "    print(\"A: \", a)\n",
    "    for k in range(n):\n",
    "        try:\n",
    "            A[k,k] = math.sqrt(A[k,k] - np.dot(A[k,0:k],A[k,0:k]))\n",
    "        except ValueError:\n",
    "            print(\"Matriks tidak dapat diselesaikan dengan metode ini\")\n",
    "            return A\n",
    "        for i in range(k+1,n):\n",
    "            if A[k,k] != 0.0:\n",
    "                A[i,k] = (A[i,k] - np.dot(A[i,0:k],A[k,0:k]))/A[k,k]\n",
    "    \n",
    "    for k in range(1,n): A[0:k,k] = 0.0\n",
    "\n",
    "    return A\n",
    "\n",
    "def choleskySolve(L, B):\n",
    "    n = len(B)\n",
    "\n",
    "    # Mencari Ly = B\n",
    "    for k in range(n):\n",
    "        if L[k,k] != 0.0:\n",
    "            B[k] = (B[k] - np.dot(L[k,0:k],B[0:k]))/L[k,k]\n",
    "\n",
    "    # Mencari Ux = y dengan U = L^T\n",
    "    for k in range(n-1,-1,-1):\n",
    "        if L[k,k] != 0.0:\n",
    "            B[k] = (B[k] - np.dot(L[k+1:n,k],B[k+1:n]))/L[k,k]\n",
    "    \n",
    "    return B"
   ]
  },
  {
   "cell_type": "code",
   "execution_count": 9,
   "metadata": {},
   "outputs": [
    {
     "name": "stdout",
     "output_type": "stream",
     "text": [
      "eliminiasi gauss = [nan nan nan]\n",
      "dekomposisi LU = [nan nan nan]\n",
      "Matriks tidak dapat diselesaikan dengan metode ini\n",
      "choleski = [ 2.81481481 -0.16049383 -0.02469136]\n",
      "[[1 0 0]\n",
      " [3 2 0]\n",
      " [5 4 1]]\n"
     ]
    },
    {
     "name": "stderr",
     "output_type": "stream",
     "text": [
      "C:\\Users\\RAYHAN EGAR\\AppData\\Local\\Temp\\ipykernel_4332\\1100457268.py:15: RuntimeWarning: invalid value encountered in double_scalars\n",
      "  x[i] = (B[i] - np.dot(A[i,i+1:n],x[i+1:n])) / A[i,i]\n"
     ]
    }
   ],
   "source": [
    "print(\"eliminiasi gauss =\",gauss_elimination(A, B))\n",
    "print(\"dekomposisi LU =\",lu(D, E))\n",
    "print(\"choleski =\",cholesky(F, G))\n",
    "a5 = [[1, 3, 5], [3, 13, 23], [5, 23, 42]]\n",
    "print(choleskyInit(np.array(a5)))"
   ]
  },
  {
   "cell_type": "code",
   "execution_count": null,
   "metadata": {},
   "outputs": [],
   "source": []
  }
 ],
 "metadata": {
  "kernelspec": {
   "display_name": "Python 3",
   "language": "python",
   "name": "python3"
  },
  "language_info": {
   "codemirror_mode": {
    "name": "ipython",
    "version": 3
   },
   "file_extension": ".py",
   "mimetype": "text/x-python",
   "name": "python",
   "nbconvert_exporter": "python",
   "pygments_lexer": "ipython3",
   "version": "3.10.9"
  },
  "orig_nbformat": 4
 },
 "nbformat": 4,
 "nbformat_minor": 2
}
