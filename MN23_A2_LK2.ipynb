{
 "cells": [
  {
   "cell_type": "markdown",
   "metadata": {},
   "source": [
    "MN2023_A2_LK2\n",
    "\n",
    "Ketua Kelompok:\n",
    "1. Rayhan Egar Sadtya Nugraha (225150201111014)\n",
    "\n",
    "Anggota kelompok: \n",
    "1. Hugo Alfedo Putra (225150201111013)\n",
    "2. Arion Syemael Siahaan (2251502071110060)"
   ]
  },
  {
   "cell_type": "markdown",
   "metadata": {},
   "source": [
    "Soal Latihan 2\n",
    "\n",
    "1. Solve for $x^2e^{-x/2} - 1 = 0$ for [0, 2] interval using bisection.\n",
    "2. Solve for $x^3 - 5x + 1 = 0$ for (0, 1) with 4 iterations using secant.\n",
    "\n",
    "* Soal latihan selanjutnya berada setelah latihan 2"
   ]
  },
  {
   "cell_type": "markdown",
   "metadata": {},
   "source": [
    "Jawaban nomor 1"
   ]
  },
  {
   "cell_type": "code",
   "execution_count": 3,
   "metadata": {},
   "outputs": [],
   "source": [
    "import matplotlib.pyplot as plt\n",
    "import numpy as np\n",
    "import math\n",
    "\n",
    "# soal 1\n",
    "\n",
    "def bisection(a, b, threshold, fx):\n",
    "\n",
    "    er = lambda cc, cp: abs((cc-cp)/cc) * 100\n",
    "    \n",
    "    # calculate initial c0\n",
    "    c0 = (a+b) / 2\n",
    "\n",
    "    print(\"Init: \", a, b, c0)\n",
    "    print(\"a\\tb\\tfx(a)\\tfx(b)\\tc0\\tfx(c0)\\tc1\\tfx(c1)\\ter\")\n",
    "\n",
    "    condition0 = fx(a) * fx(b)\n",
    "    \n",
    "    # first iteration outside loop to find c1\n",
    "    if (condition0 < 0):\n",
    "        if ((fx(a) * fx(c0)) > 0):\n",
    "            a = c0\n",
    "        elif ((fx(a) * fx(c0)) < 0):\n",
    "            b = c0\n",
    "        else:\n",
    "            return b\n",
    "    \n",
    "    # calculate c1\n",
    "    c1 = (a+b) / 2\n",
    "    \n",
    "    print(f'{a:.3f}\\t{b:.3f}\\t{fx(a):.3f}\\t{fx(b):.3f}\\t{c0:.3f}\\t{fx(c0):.3f}\\t{c1:.3f}\\t{fx(c1):.3f}\\t{er(c0, c1):.3f}')\n",
    "\n",
    "    while(er(c0, c1) > threshold):\n",
    "        \n",
    "        # calculate current condition\n",
    "        condition_current = fx(a) * fx(c1)\n",
    "\n",
    "        # update either a or b with c1\n",
    "        if(condition_current > 0):\n",
    "            a = c1\n",
    "        elif(condition_current < 0):\n",
    "            b = c1\n",
    "\n",
    "        # update c0 with c1\n",
    "        c0 = c1\n",
    "\n",
    "        # calculate new c1 using recently updated a and b\n",
    "        c1 = (a+b) / 2\n",
    "\n",
    "        print(f'{a:.3f}\\t{b:.3f}\\t{fx(a):.3f}\\t{fx(b):.3f}\\t{c0:.3f}\\t{fx(c0):.3f}\\t{c1:.3f}\\t{fx(c1):.3f}\\t{er(c0, c1):.3f}')\n",
    "    \n",
    "    return c1"
   ]
  },
  {
   "cell_type": "code",
   "execution_count": 4,
   "metadata": {},
   "outputs": [
    {
     "name": "stdout",
     "output_type": "stream",
     "text": [
      "Init:  0 2 1.0\n",
      "a\tb\tfx(a)\tfx(b)\tc0\tfx(c0)\tc1\tfx(c1)\ter\n",
      "1.000\t2.000\t-0.393\t0.472\t1.000\t-0.393\t1.500\t0.063\t50.000\n",
      "1.000\t1.500\t-0.393\t0.063\t1.500\t0.063\t1.250\t-0.164\t16.667\n",
      "1.250\t1.500\t-0.164\t0.063\t1.250\t-0.164\t1.375\t-0.049\t10.000\n",
      "1.375\t1.500\t-0.049\t0.063\t1.375\t-0.049\t1.438\t0.007\t4.545\n",
      "1.375\t1.438\t-0.049\t0.007\t1.438\t0.007\t1.406\t-0.021\t2.174\n",
      "1.406\t1.438\t-0.021\t0.007\t1.406\t-0.021\t1.422\t-0.007\t1.111\n",
      "1.422\t1.438\t-0.007\t0.007\t1.422\t-0.007\t1.430\t0.000\t0.549\n",
      "1.422\t1.430\t-0.007\t0.000\t1.430\t0.000\t1.426\t-0.003\t0.273\n",
      "1.426\t1.430\t-0.003\t0.000\t1.426\t-0.003\t1.428\t-0.002\t0.137\n",
      "1.428\t1.430\t-0.002\t0.000\t1.428\t-0.002\t1.429\t-0.001\t0.068\n",
      "1.429\t1.430\t-0.001\t0.000\t1.429\t-0.001\t1.429\t-0.000\t0.034\n",
      "1.429\t1.430\t-0.000\t0.000\t1.429\t-0.000\t1.429\t-0.000\t0.017\n",
      "1.429\t1.430\t-0.000\t0.000\t1.429\t-0.000\t1.430\t-0.000\t0.009\n",
      "1.430\t1.430\t-0.000\t0.000\t1.430\t-0.000\t1.430\t0.000\t0.004\n",
      "1.430\t1.430\t-0.000\t0.000\t1.430\t0.000\t1.430\t-0.000\t0.002\n",
      "1.430\t1.430\t-0.000\t0.000\t1.430\t-0.000\t1.430\t-0.000\t0.001\n",
      "1.430\t1.430\t-0.000\t0.000\t1.430\t-0.000\t1.430\t0.000\t0.001\n",
      "1.430\t1.430\t-0.000\t0.000\t1.430\t0.000\t1.430\t0.000\t0.000\n",
      "1.430\t1.430\t-0.000\t0.000\t1.430\t0.000\t1.430\t0.000\t0.000\n",
      "1.430\t1.430\t-0.000\t0.000\t1.430\t0.000\t1.430\t0.000\t0.000\n",
      "1.430\t1.430\t-0.000\t0.000\t1.430\t0.000\t1.430\t-0.000\t0.000\n",
      "1.430\t1.430\t-0.000\t0.000\t1.430\t-0.000\t1.430\t0.000\t0.000\n",
      "1.430\t1.430\t-0.000\t0.000\t1.430\t0.000\t1.430\t-0.000\t0.000\n",
      "\n",
      "Akar persamaan: 1.430\n"
     ]
    }
   ],
   "source": [
    "lk02_1 = lambda x : np.power(x, 2) * np.power(np.e, -(x/2)) - 1\n",
    "a_1 = 0; b_1 = 2\n",
    "answer_lk02_1 = bisection(a_1, b_1, 1e-5, lk02_1)\n",
    "\n",
    "print(f'\\nAkar persamaan: {answer_lk02_1:.3f}')"
   ]
  },
  {
   "cell_type": "markdown",
   "metadata": {},
   "source": [
    "Jawaban nomor 2"
   ]
  },
  {
   "cell_type": "code",
   "execution_count": 5,
   "metadata": {},
   "outputs": [],
   "source": [
    "def secant(a, b, threshold, fx, max_iter=20):\n",
    "    \n",
    "    diff = lambda a, b, fx: fx(b) * (b-a) / (fx(b) - fx(a))\n",
    "    next = lambda a, b, fx: b - (fx(b) * (b-a) / (fx(b) - fx(a))) \n",
    "\n",
    "    i = 1\n",
    "    er = abs(diff(a, b, fx))\n",
    "\n",
    "    print('i\\ta\\tb\\tfx(a)\\tfx(b)\\ter')\n",
    "\n",
    "    while (er >= threshold) & (i <= max_iter):\n",
    "\n",
    "        print(f'{i:d}\\t{a:.3f}\\t{b:.3f}\\t{fx(a):.3f}\\t{fx(b):.3f}\\t{er:.3f}')\n",
    "        \n",
    "        # calculate next b value\n",
    "        next_b = next(a, b, fx)\n",
    "\n",
    "        # update a and b values\n",
    "        a = b\n",
    "        b = next_b\n",
    "\n",
    "        # calculate error using recently updated a and b\n",
    "        er = abs(diff(a, b, fx))\n",
    "\n",
    "        i+=1\n",
    "    \n",
    "    return b"
   ]
  },
  {
   "cell_type": "code",
   "execution_count": 6,
   "metadata": {},
   "outputs": [
    {
     "name": "stdout",
     "output_type": "stream",
     "text": [
      "i\ta\tb\tfx(a)\tfx(b)\ter\n",
      "1\t0.000\t1.000\t1.000\t-3.000\t0.750\n",
      "2\t1.000\t0.250\t-3.000\t-0.234\t0.064\n",
      "3\t0.250\t0.186\t-0.234\t0.074\t0.015\n",
      "4\t0.186\t0.202\t0.074\t-0.000\t0.000\n",
      "\n",
      "Akar persamaan: 0.202\n"
     ]
    }
   ],
   "source": [
    "lk02_2 = lambda x: np.power(x, 3) - 5 * x + 1\n",
    "a_2 = 0\n",
    "b_2 = 1\n",
    "answer_lk02_2  = secant(a_2, b_2, 1e-5, lk02_2, 4)\n",
    "print(f'\\nAkar persamaan: {answer_lk02_2:.3f}')"
   ]
  },
  {
   "cell_type": "markdown",
   "metadata": {},
   "source": [
    "Soal Latihan 1.a - Metode Biseksi"
   ]
  },
  {
   "cell_type": "markdown",
   "metadata": {},
   "source": [
    "1. Diketahui f(x) = sin(10x) + cos(3x), interval [3, 6] dengan increment step 0.01.\n",
    "    - Buat program untuk menggambar fungsi f(x)\n",
    "    - Tentukan dua titik awal a dan b\n",
    "    - Cari nilai akar f(x)\n",
    "\n",
    "2. Ubah program untuk mengevaluasi threshold berdasarkan rumus berikut\n",
    "    $$ |E_r| = |\\frac{c_c - c_p}{c_c} \\times 100|$$"
   ]
  },
  {
   "cell_type": "code",
   "execution_count": 14,
   "metadata": {},
   "outputs": [
    {
     "data": {
      "image/png": "[encoded data removed]",
      "text/plain": [
       "<Figure size 640x480 with 1 Axes>"
      ]
     },
     "metadata": {},
     "output_type": "display_data"
    }
   ],
   "source": [
    "fx1a = lambda x: np.sin(10 * x) + np.cos(3 * x)\n",
    "lowerbound = 3\n",
    "upperbound = 6\n",
    "step = .01\n",
    "\n",
    "# fungsi untuk plot grafik\n",
    "def plot(fx, lowerbound, upperbound, step):\n",
    "    x = np.arange(lowerbound, upperbound, step)\n",
    "    fx = fx(x)\n",
    "    plt.plot(x, fx)\n",
    "    plt.xlabel('x')\n",
    "    plt.ylabel('f(x) = sin(10x) + cos(3x)')\n",
    "    plt.show()\n",
    "\n",
    "plot(fx1a, lowerbound, upperbound, step)"
   ]
  },
  {
   "cell_type": "code",
   "execution_count": 20,
   "metadata": {},
   "outputs": [
    {
     "name": "stdout",
     "output_type": "stream",
     "text": [
      "Init:  3.5 4.0 3.75\n",
      "a\tb\tfx(a)\tfx(b)\tc0\tfx(c0)\tc1\tfx(c1)\ter\n",
      "3.500\t3.750\t-0.904\t0.054\t3.750\t0.054\t3.625\t-1.113\t3.333\n",
      "3.625\t3.750\t-1.113\t0.054\t3.625\t-1.113\t3.688\t-0.667\t1.724\n",
      "3.688\t3.750\t-0.667\t0.054\t3.688\t-0.667\t3.719\t-0.330\t0.847\n",
      "3.719\t3.750\t-0.330\t0.054\t3.719\t-0.330\t3.734\t-0.142\t0.420\n",
      "\n",
      "Akar persamaan: 3.734\n"
     ]
    }
   ],
   "source": [
    "a = 3.5\n",
    "b = 4.0\n",
    "\n",
    "# Menggunakan metode biseksi, dengan titik a(3.5, f(a)) dan titik b(4.0, f(b))\n",
    "# Threshold error relatif sebesar 0.05%\n",
    "\n",
    "akar1a = bisection(a, b, .5, fx1a)\n",
    "print(f'\\nAkar persamaan: {akar1a:.3f}')"
   ]
  },
  {
   "cell_type": "markdown",
   "metadata": {},
   "source": [
    "Latihan 1.b - Metode Regula Falsi\n",
    "\n",
    "Mencari akar persamaan $x^3 - 2x^2 + 6x - 4 = 0$ dengan ketentuan:\n",
    "1. a = 0,\n",
    "2. b = 1,\n",
    "3. error threshold = 0.0001, \n",
    "4. dan iterasi maksimum 10 kali\n"
   ]
  },
  {
   "cell_type": "code",
   "execution_count": 21,
   "metadata": {},
   "outputs": [
    {
     "name": "stdout",
     "output_type": "stream",
     "text": [
      "Init:  0 1\n",
      "i\ta\tb\tfx(a)\tfx(b)\tc0\tfx(c0)\tc1\tfx(c1)\ter abs(fx(c0))\n",
      "1\t0.000\t0.800\t-4.000\t0.032\t0.800\t0.032\t0.800\t0.032\t0.032\n",
      "2\t0.000\t0.794\t-4.000\t0.002\t0.800\t0.032\t0.794\t0.002\t0.032\n",
      "3\t0.000\t0.793\t-4.000\t0.000\t0.794\t0.002\t0.793\t0.000\t0.002\n",
      "4\t0.000\t0.793\t-4.000\t0.000\t0.793\t0.000\t0.793\t0.000\t0.000\n",
      "\n",
      "Akar persamaan: 0.793\n"
     ]
    }
   ],
   "source": [
    "def regula_falsi(a, b, threshold, fx):\n",
    "\n",
    "    print(\"Init: \", a, b)\n",
    "    print(\"i\\ta\\tb\\tfx(a)\\tfx(b)\\tc0\\tfx(c0)\\tc1\\tfx(c1)\\ter abs(fx(c0))\")\n",
    "\n",
    "    if fx(a) * fx(b) < 0:\n",
    "\n",
    "        i = 1\n",
    "\n",
    "        # calculate c0\n",
    "        c0 = b - (fx(b) * (b - a) / (fx(b) - fx(a)))\n",
    "\n",
    "        while (abs(fx(c0)) > threshold) & (i <= 10):\n",
    "            \n",
    "            # calculate c1, first iteration result is identical with first c0\n",
    "            c1 = b - (fx(b) * (b - a)/(fx(b) - fx(a)))\n",
    "\n",
    "            # update a or b with c1\n",
    "            if fx(a) * fx(c1) > 0:\n",
    "                a = c1\n",
    "            elif fx(a) * fx(c1) < 0:\n",
    "                b = c1\n",
    "            \n",
    "            print(f'{i}\\t{a:.3f}\\t{b:.3f}\\t{fx(a):.3f}\\t{fx(b):.3f}\\t{c0:.3f}\\t{fx(c0):.3f}\\t{c1:.3f}\\t{fx(c1):.3f}\\t{abs(fx(c0)):.3f}')\n",
    "\n",
    "            # update c0 with c1\n",
    "            c0 = c1\n",
    "            i += 1\n",
    "            \n",
    "        return c1\n",
    "    \n",
    "fx2b = lambda x: np.power(x, 3) - 2 * np.power(x, 2) + 6 * x - 4\n",
    "a = 0\n",
    "b = 1\n",
    "threshold = 1e-4\n",
    "\n",
    "akar2a = regula_falsi(a, b, threshold, fx2b)\n",
    "print(f'\\nAkar persamaan: {akar2a:.3f}')"
   ]
  },
  {
   "cell_type": "markdown",
   "metadata": {},
   "source": [
    "Latihan Newton-Raphson\n",
    "\n",
    "Menghitung akar $f(x) = e^x - 5x^2$ dengan:\n",
    "1. Initial guess = 1\n",
    "2. Error threshold = 0.00001"
   ]
  },
  {
   "cell_type": "code",
   "execution_count": 25,
   "metadata": {},
   "outputs": [
    {
     "name": "stdout",
     "output_type": "stream",
     "text": [
      "Init:  1 Max-Iter:  10 Threshold:  1e-05\n",
      "\n",
      "i\tx0\tfx(0)\tf'x(x0)\tx1\ter\n",
      "0\t1.000\t-2.282\t-7.282\t0.687\t0.313\n",
      "1\t0.687\t-0.370\t-4.879\t0.611\t0.076\n",
      "2\t0.611\t-0.023\t-4.266\t0.605\t0.005\n",
      "3\t0.605\t-0.000\t-4.221\t0.605\t0.000\n",
      "\n",
      "Akar persamaan: 0.605\n"
     ]
    }
   ],
   "source": [
    "def newton_raphson(init_guess, fx, fprimex, max_iteration, threshold):\n",
    "    \n",
    "    next = lambda x0, fx, fprimex: x0 - (fx(x0) / fprimex(x0))\n",
    "    x0 = init_guess\n",
    "\n",
    "    print(\"Init: \", x0, \"Max-Iter: \", max_iteration, \"Threshold: \", threshold)\n",
    "    print(\"\\ni\\tx0\\tfx(0)\\tf'x(x0)\\tx1\\ter\")\n",
    "\n",
    "    for i in range(max_iteration):\n",
    "\n",
    "        # calculate value for initial guess\n",
    "        fx0 = fx(x0)\n",
    "\n",
    "        # calculate value for f'(x0)\n",
    "        fprimex0 = fprimex(x0)\n",
    "\n",
    "        # calculate next point, x1\n",
    "        x1 = next(x0, fx, fprimex)\n",
    "\n",
    "        # return x1 if less than threshold\n",
    "        if abs(x0 - x1) < threshold:\n",
    "            return x1\n",
    "        \n",
    "        print(f'{i}\\t{x0:.3f}\\t{fx0:.3f}\\t{fprimex0:.3f}\\t{x1:.3f}\\t{abs(x0-x1):.3f}')\n",
    "        \n",
    "        # update x0 to x1\n",
    "        x0 = x1\n",
    "\n",
    "fx1c = lambda x: np.power(np.e, x) - 5 * np.power(x, 2)\n",
    "fprimex1c = lambda x: np.power(np.e, x) - 10 * x\n",
    "init = 1\n",
    "threshold = 1e-5\n",
    "\n",
    "akar1c = newton_raphson(init, fx1c, fprimex1c, 10, threshold)\n",
    "print(f'\\nAkar persamaan: {akar1c:.3f}')"
   ]
  },
  {
   "cell_type": "markdown",
   "metadata": {},
   "source": [
    "Latihan Secant\n",
    "\n",
    "Menghitung akar $f(x) = e^x - 5x^2$ dengan:\n",
    "1. a = 0.5\n",
    "2. b = 1\n",
    "3. Error threshold = 0.00001"
   ]
  },
  {
   "cell_type": "code",
   "execution_count": 26,
   "metadata": {},
   "outputs": [
    {
     "name": "stdout",
     "output_type": "stream",
     "text": [
      "i\ta\tb\tfx(a)\tfx(b)\ter\n",
      "1\t0.500\t1.000\t0.399\t-2.282\t0.426\n",
      "2\t1.000\t0.574\t-2.282\t0.126\t0.022\n",
      "3\t0.574\t0.597\t0.126\t0.036\t0.009\n",
      "4\t0.597\t0.606\t0.036\t-0.001\t0.000\n",
      "\n",
      "Akar persamaan: 0.605\n"
     ]
    }
   ],
   "source": [
    "fx2a = lambda x: np.power(np.e, x) - 5 * np.power(x, 2)\n",
    "a = 0.5\n",
    "b = 1\n",
    "threshold = 1e-5\n",
    "\n",
    "akar2a = secant(a, b, threshold, fx2a, )\n",
    "print(f'\\nAkar persamaan: {akar2a:.3f}')"
   ]
  }
 ],
 "metadata": {
  "kernelspec": {
   "display_name": "myenv",
   "language": "python",
   "name": "python3"
  },
  "language_info": {
   "codemirror_mode": {
    "name": "ipython",
    "version": 3
   },
   "file_extension": ".py",
   "mimetype": "text/x-python",
   "name": "python",
   "nbconvert_exporter": "python",
   "pygments_lexer": "ipython3",
   "version": "3.10.9"
  },
  "orig_nbformat": 4
 },
 "nbformat": 4,
 "nbformat_minor": 2
}
