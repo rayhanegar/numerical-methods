{
 "cells": [
  {
   "cell_type": "markdown",
   "metadata": {},
   "source": [
    "# MN2023_A2: Eigenvalues #\n",
    "Outline\n",
    "1. Power method\n",
    "2. QR Decomposition method\n",
    "3. Singular value decomposition (SVD) method"
   ]
  },
  {
   "cell_type": "markdown",
   "metadata": {},
   "source": [
    "## Power Method ##\n",
    "Find dominant eigenvalues and its corresponding eigenvector of a matrix."
   ]
  },
  {
   "cell_type": "code",
   "execution_count": 17,
   "metadata": {},
   "outputs": [],
   "source": [
    "import numpy as np\n",
    "import math"
   ]
  },
  {
   "cell_type": "code",
   "execution_count": 18,
   "metadata": {},
   "outputs": [],
   "source": [
    "def matrix_vector_multiplication(a, x):\n",
    "    result = np.zeros_like(x)\n",
    "    for i in range(len(a)):\n",
    "        for j in range(len(a)):\n",
    "            result[i] += a[i,j] * x[j]\n",
    "    return result\n",
    "\n",
    "def norm(vector):\n",
    "    norm = 0\n",
    "    for x in vector:\n",
    "        norm += np.power(x, 2)\n",
    "    return np.power(norm, 0.5)"
   ]
  },
  {
   "cell_type": "code",
   "execution_count": 19,
   "metadata": {},
   "outputs": [],
   "source": [
    "def power_method(a, maxiter=100, init_vector=None):\n",
    "    if init_vector is None:\n",
    "        n = len(a)\n",
    "        init_vector = np.random.rand(n)\n",
    "    \n",
    "    for i in range(maxiter):\n",
    "        \n",
    "        # a.init_vector = res\n",
    "        res = matrix_vector_multiplication(a, init_vector)\n",
    "\n",
    "        # calculate norm for res\n",
    "        res_norm = norm(res)\n",
    "\n",
    "        # init_vector = normalized version of res\n",
    "        init_vector = [x / res_norm for x in res]\n",
    "\n",
    "        # max eigen = init_vector.res\n",
    "        eigenvalue = np.dot(init_vector, res)\n",
    "    \n",
    "    print(\"Maximum eigenvalue: \", eigenvalue)\n",
    "    print(\"Maximum eigenvector: \", init_vector)\n",
    "    return eigenvalue, init_vector\n"
   ]
  },
  {
   "cell_type": "code",
   "execution_count": 20,
   "metadata": {},
   "outputs": [
    {
     "name": "stdout",
     "output_type": "stream",
     "text": [
      "Maximum eigenvalue:  4.0\n",
      "Maximum eigenvector:  [0.447213595499958, 0.8944271909999159, 7.882823541404979e-13]\n"
     ]
    },
    {
     "data": {
      "text/plain": [
       "(4.0, [0.447213595499958, 0.8944271909999159, 7.882823541404979e-13])"
      ]
     },
     "execution_count": 20,
     "metadata": {},
     "output_type": "execute_result"
    }
   ],
   "source": [
    "powerTest = np.array([[2,-3,0],[2,-5,0],[0,0,3]])\n",
    "power_method(powerTest)"
   ]
  },
  {
   "cell_type": "markdown",
   "metadata": {},
   "source": [
    "## QR Decomposition Method ##\n",
    "The code below is done accordingly to Berkeley's Python Numerical Method"
   ]
  },
  {
   "cell_type": "code",
   "execution_count": 21,
   "metadata": {},
   "outputs": [
    {
     "name": "stdout",
     "output_type": "stream",
     "text": [
      "A: \n",
      "[[ 6.02911192e+00 -1.04289534e+00 -1.47753946e+00]\n",
      " [-1.65631866e-64 -4.62682475e-01 -9.16964963e-01]\n",
      " [-1.19106498e-64 -1.77092424e+00  4.33570555e-01]]\n",
      "Eigenvalues:  [ 6.02911192 -0.46268247  0.43357055]\n"
     ]
    }
   ],
   "source": [
    "def qr_decomposition_berkeley(A, max_iter = 100):\n",
    "    A = A.astype(float)\n",
    "    for i in range(max_iter):\n",
    "        Q, R = np.linalg.qr(A)\n",
    "        A = np.dot (R, Q)\n",
    "    \n",
    "    eigenvalues = np.diag(A)\n",
    "    print(\"A: \")\n",
    "    print(A)\n",
    "    print(\"Eigenvalues: \", eigenvalues)\n",
    "\n",
    "qr_decomposition_berkeley(np.array([\n",
    "        [2, 1, 2],\n",
    "        [1, 3, 4],\n",
    "        [2, 2, 1]\n",
    "    ]))"
   ]
  },
  {
   "cell_type": "markdown",
   "metadata": {},
   "source": [
    "The code below is done accordingly by using Gram-Schmidt process"
   ]
  },
  {
   "cell_type": "code",
   "execution_count": 1,
   "metadata": {},
   "outputs": [],
   "source": [
    "def norm(vec):\n",
    "    norm = 0\n",
    "    for i in range(len(vec)):\n",
    "        norm += math.pow(vec[i],2)\n",
    "    return norm\n",
    "\n",
    "def cur_vec(a, i):\n",
    "    vec = a[0:len(a),i]\n",
    "    return vec\n",
    "\n",
    "def gs(a):\n",
    "    n = len(a)\n",
    "    # initialise final e vector\n",
    "    e = np.zeros((n, n))\n",
    "\n",
    "    vec = cur_vec(a,0) \n",
    "    temp = norm(vec)\n",
    "    \n",
    "    for i in range(n):\n",
    "        e[i,0]=vec[i]/math.sqrt(temp)\n",
    "\n",
    "    for k in range(1, n):\n",
    "        vec = cur_vec(a,k)\n",
    "        temp_res = 0\n",
    "        for l in range(0,k):\n",
    "            vec_e = cur_vec(e,l)\n",
    "            temp_res += np.dot(vec,vec_e)*vec_e\n",
    "            \n",
    "        numerator = vec - temp_res\n",
    "        for m in range(n):\n",
    "            e[m,k]=numerator[m]/math.sqrt(norm(numerator))\n",
    "\n",
    "    return e\n",
    "\n",
    "def row_op(a):\n",
    "    A = np.copy(a)\n",
    "    n=len(A)\n",
    "    # OBE\n",
    "    # standard case\n",
    "    for i in range(n):\n",
    "        for j in range(i+1, n):\n",
    "            k = -1 * A[j,i] / A[i,i]\n",
    "            A[j,i:n] = k * A[i,i:n] + A[j,i:n]\n",
    "    return A\n",
    "\n",
    "def qr_decomp(a, max_iter=100):\n",
    "\n",
    "    A = np.copy(a)\n",
    "    n=len(A)\n",
    "\n",
    "    for i in range(max_iter):\n",
    "        Q = gs(A)\n",
    "        R = np.matmul(Q.T, A)\n",
    "        A = np.matmul(R,Q)\n",
    "\n",
    "    res = np.zeros(n)\n",
    "    for i in range(n):\n",
    "        res[i] = A[i,i]\n",
    "\n",
    "    return res"
   ]
  },
  {
   "cell_type": "markdown",
   "metadata": {},
   "source": [
    "## SVD method\n",
    "Singular Value Decomposition"
   ]
  },
  {
   "cell_type": "code",
   "execution_count": 24,
   "metadata": {},
   "outputs": [],
   "source": [
    "def gs2(a):\n",
    "    # initialise final e vector\n",
    "    SIZE = len(a)\n",
    "    e = np.zeros((SIZE, SIZE))\n",
    "\n",
    "    # k = 1\n",
    "    # grab current vector\n",
    "    vec = cur_vec(a, 0)\n",
    "\n",
    "    # calculate norm\n",
    "    temp = norm(vec)\n",
    "\n",
    "    # find e_1\n",
    "    for i in range(SIZE):\n",
    "        e[i, 0] = vec[i] / np.sqrt(temp)\n",
    "\n",
    "    # k > 1\n",
    "    for k in range(1, SIZE):\n",
    "        vec = cur_vec(a, k)\n",
    "        temp_res = 0\n",
    "\n",
    "        for l in range(0, k):\n",
    "            vec_e = cur_vec(e, l)\n",
    "            temp_res += np.dot(vec, vec_e) * vec_e\n",
    "        numerator = vec - temp_res\n",
    "\n",
    "        for m in range(SIZE):\n",
    "            e[m, k] = numerator[m] / np.sqrt(norm(numerator))\n",
    "\n",
    "    return e\n",
    "\n",
    "def qr(a, iteration=16):\n",
    "    # this function uses QR decomposition\n",
    "    a = np.copy(a)\n",
    "    n = len(a)\n",
    "    val = np.zeros((n, n))\n",
    "\n",
    "    # inject 1 to columns without a leading 1\n",
    "    for k in range(n):\n",
    "        cvc = a[:, k]\n",
    "        sum = 0\n",
    "        for i in range(len(cvc)):\n",
    "            sum += cvc[i]\n",
    "        if sum > 0:\n",
    "            val[k] = cvc\n",
    "        elif sum == 0:\n",
    "            cvc[k] = 1\n",
    "            val[k] = cvc\n",
    "    val = val.T\n",
    "    # print(\"val=\", val)\n",
    "\n",
    "    vec = np.eye(n)\n",
    "\n",
    "    for _ in range(iteration):\n",
    "        Q = gs2(val)\n",
    "        vec = vec @ np.copy(Q)\n",
    "        R = Q.T @ val  # A_k = Q_k * R_k\n",
    "        val = R @ Q  # A_(k+1) = R_k * Q_k\n",
    "\n",
    "    return val.diagonal(), vec\n",
    "\n",
    "\n",
    "def svd_method(a):\n",
    "    A = np.copy(a)\n",
    "\n",
    "    SL = A @ A.T\n",
    "    SR = A.T @ A\n",
    "\n",
    "    val_L, vec_L = qr(SL)\n",
    "    val_R, vec_R = qr(SR)\n",
    "\n",
    "    U = np.zeros((len(SL), len(SL)))\n",
    "    for k in range(len(SL)):\n",
    "        cvc = vec_L[:, k]\n",
    "\n",
    "        norm = 0\n",
    "        for i in range(len(cvc)):\n",
    "            norm += cvc[i] ** 2\n",
    "        norm = np.sqrt(norm)\n",
    "\n",
    "        ncvc = np.zeros(len(SL))\n",
    "        for i in range(len(SL)):\n",
    "            ncvc[i] = cvc[i] / norm\n",
    "\n",
    "        U[k] = ncvc\n",
    "    U = U.T \n",
    "\n",
    "    V = np.zeros((len(SR), len(SR)))\n",
    "    for k in range(len(SR)):\n",
    "        cvc = vec_R[:, k]\n",
    "\n",
    "        norm = 0\n",
    "        for i in range(len(cvc)):\n",
    "            norm += cvc[i] ** 2\n",
    "        norm = np.sqrt(norm)\n",
    "\n",
    "        ncvc = np.zeros(len(SR))\n",
    "        for i in range(len(SR)):\n",
    "            ncvc[i] = cvc[i] / norm\n",
    "\n",
    "        V[k] = ncvc\n",
    "\n",
    "    size = np.shape(A)\n",
    "    S = np.zeros(size)\n",
    "\n",
    "    for i in range(min(size[0], size[1])):\n",
    "        S[i, i] = np.sqrt(val_L[i])\n",
    "\n",
    "    return U, S, V"
   ]
  }
 ],
 "metadata": {
  "kernelspec": {
   "display_name": "myenv",
   "language": "python",
   "name": "python3"
  },
  "language_info": {
   "codemirror_mode": {
    "name": "ipython",
    "version": 3
   },
   "file_extension": ".py",
   "mimetype": "text/x-python",
   "name": "python",
   "nbconvert_exporter": "python",
   "pygments_lexer": "ipython3",
   "version": "3.10.9"
  }
 },
 "nbformat": 4,
 "nbformat_minor": 2
}
