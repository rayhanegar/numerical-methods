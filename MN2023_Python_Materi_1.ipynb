{
  "cells": [
    {
      "cell_type": "markdown",
      "metadata": {
        "id": "ERCwokk4i61R"
      },
      "source": [
        "Ini teks"
      ]
    },
    {
      "cell_type": "code",
      "execution_count": 2,
      "metadata": {
        "colab": {
          "base_uri": "https://localhost:8080/"
        },
        "id": "Fs6bhnCjj4nz",
        "outputId": "964f0abb-3e04-4408-ae81-529340dcb66e"
      },
      "outputs": [
        {
          "name": "stdout",
          "output_type": "stream",
          "text": [
            "halo\n"
          ]
        }
      ],
      "source": [
        "print ('halo')"
      ]
    },
    {
      "cell_type": "code",
      "execution_count": 3,
      "metadata": {
        "colab": {
          "base_uri": "https://localhost:8080/"
        },
        "id": "3qNBE_dJixIs",
        "outputId": "d834cba6-00b0-493b-d669-c2cf9c8b3691"
      },
      "outputs": [
        {
          "name": "stdout",
          "output_type": "stream",
          "text": [
            "3\n"
          ]
        }
      ],
      "source": [
        "p = 1\n",
        "q = 2\n",
        "r = p+q\n",
        "print (r)"
      ]
    },
    {
      "cell_type": "code",
      "execution_count": 4,
      "metadata": {
        "colab": {
          "base_uri": "https://localhost:8080/"
        },
        "id": "a_-WmHXGF46E",
        "outputId": "57007bd9-4ad0-4b41-a010-346b61d502b4"
      },
      "outputs": [
        {
          "name": "stdout",
          "output_type": "stream",
          "text": [
            "3.3\n"
          ]
        }
      ],
      "source": [
        "a = 1\n",
        "b = 2.3\n",
        "c = a + b\n",
        "print (c)"
      ]
    },
    {
      "cell_type": "markdown",
      "metadata": {
        "id": "tRZ3JopplkLA"
      },
      "source": [
        "# A. Struktur data\n",
        "\n",
        "\n",
        "1.   List\n",
        "      - mutable\n",
        "      - their elements are usually homogeneous and are accessed by iterating over the list.\n",
        "2.   Tuple\n",
        "      -  immutable\n",
        "      - usually contain a heterogeneous sequence of elements\n",
        "\n",
        "1.   Set\n",
        "      - store an unordered collection with no duplicate elements\n",
        "      - upport the mathematical operations like union, intersection, difference, and symmetric difference\n",
        "\n",
        "2.   Dictionaries\n",
        "    \n",
        "    - elements are stored without order\n",
        "    - To get access to a dictionary, we need to use the key of the element - dictionary[key]\n",
        "\n",
        "\n",
        "\n",
        "\n",
        "\n"
      ]
    },
    {
      "cell_type": "code",
      "execution_count": 5,
      "metadata": {
        "colab": {
          "base_uri": "https://localhost:8080/"
        },
        "id": "nn5c-lporOKO",
        "outputId": "1dc9c7d3-1c8a-41a6-f8a7-5e9395b8b7a9"
      },
      "outputs": [
        {
          "data": {
            "text/plain": [
              "[1, 2, 3]"
            ]
          },
          "execution_count": 5,
          "metadata": {},
          "output_type": "execute_result"
        }
      ],
      "source": [
        "#1. List\n",
        "\n",
        "list_1 = [1, 2, 3]\n",
        "list_1"
      ]
    },
    {
      "cell_type": "code",
      "execution_count": 6,
      "metadata": {
        "colab": {
          "base_uri": "https://localhost:8080/"
        },
        "id": "T1rhLl8Nrg1h",
        "outputId": "678cfe05-cb54-46fd-b29d-0debb40ac9ca"
      },
      "outputs": [
        {
          "data": {
            "text/plain": [
              "['Hello', 'World']"
            ]
          },
          "execution_count": 6,
          "metadata": {},
          "output_type": "execute_result"
        }
      ],
      "source": [
        "list_2 = ['Hello', 'World']\n",
        "list_2"
      ]
    },
    {
      "cell_type": "code",
      "execution_count": 7,
      "metadata": {
        "colab": {
          "base_uri": "https://localhost:8080/"
        },
        "id": "bwf15-iorVz2",
        "outputId": "ed17543c-502c-4c53-ab06-ca361eb4fc30"
      },
      "outputs": [
        {
          "data": {
            "text/plain": [
              "[1, 2, 3, 'Apple', 'orange']"
            ]
          },
          "execution_count": 7,
          "metadata": {},
          "output_type": "execute_result"
        }
      ],
      "source": [
        "list_3 = [1, 2, 3, 'Apple', 'orange']\n",
        "list_3"
      ]
    },
    {
      "cell_type": "code",
      "execution_count": 8,
      "metadata": {
        "colab": {
          "base_uri": "https://localhost:8080/"
        },
        "id": "NiE8Ju_yraQe",
        "outputId": "f6c63374-3c77-4916-c0a5-e061cada0142"
      },
      "outputs": [
        {
          "data": {
            "text/plain": [
              "[[1, 2, 3], ['Hello', 'World'], [1, 2, 3, 'Apple', 'orange']]"
            ]
          },
          "execution_count": 8,
          "metadata": {},
          "output_type": "execute_result"
        }
      ],
      "source": [
        "list_4 = [list_1, list_2, list_3]\n",
        "list_4"
      ]
    },
    {
      "cell_type": "code",
      "execution_count": 9,
      "metadata": {
        "colab": {
          "base_uri": "https://localhost:8080/",
          "height": 35
        },
        "id": "ZBlhAjUorq5K",
        "outputId": "32355ffb-e1b3-48dd-f6c8-e08771dd6b17"
      },
      "outputs": [
        {
          "data": {
            "text/plain": [
              "'orange'"
            ]
          },
          "execution_count": 9,
          "metadata": {},
          "output_type": "execute_result"
        }
      ],
      "source": [
        "list_3[2] #Get the 3rd element in list_3\n",
        "list_3[4]\n"
      ]
    },
    {
      "cell_type": "code",
      "execution_count": 10,
      "metadata": {
        "colab": {
          "base_uri": "https://localhost:8080/"
        },
        "id": "PBYWwadir5yO",
        "outputId": "ac768eab-7798-4228-9701-423ec1560ac3"
      },
      "outputs": [
        {
          "data": {
            "text/plain": [
              "[1, 2, 3, 'Apple']"
            ]
          },
          "execution_count": 10,
          "metadata": {},
          "output_type": "execute_result"
        }
      ],
      "source": [
        "list_3[:4] # Get the first 3 elements in list_3"
      ]
    },
    {
      "cell_type": "code",
      "execution_count": 11,
      "metadata": {
        "colab": {
          "base_uri": "https://localhost:8080/",
          "height": 35
        },
        "id": "k8EFGDi5sDMN",
        "outputId": "ce84f537-969d-4c18-c8cc-4e47f8a23f74"
      },
      "outputs": [
        {
          "data": {
            "text/plain": [
              "'orange'"
            ]
          },
          "execution_count": 11,
          "metadata": {},
          "output_type": "execute_result"
        }
      ],
      "source": [
        "list_3[-1] #Get the last element in list_3"
      ]
    },
    {
      "cell_type": "code",
      "execution_count": 12,
      "metadata": {
        "colab": {
          "base_uri": "https://localhost:8080/"
        },
        "id": "eYZSKsPksNhC",
        "outputId": "e3702690-2f41-437d-ee5d-2e6af048c43a"
      },
      "outputs": [
        {
          "data": {
            "text/plain": [
              "5"
            ]
          },
          "execution_count": 12,
          "metadata": {},
          "output_type": "execute_result"
        }
      ],
      "source": [
        "len(list_3)"
      ]
    },
    {
      "cell_type": "code",
      "execution_count": 13,
      "metadata": {
        "colab": {
          "base_uri": "https://localhost:8080/"
        },
        "id": "cUic8-ScsQ9s",
        "outputId": "5f648e9a-c489-46aa-d6b5-3f4bf1436557"
      },
      "outputs": [
        {
          "data": {
            "text/plain": [
              "[1, 2, 3, 'Hello', 'World']"
            ]
          },
          "execution_count": 13,
          "metadata": {},
          "output_type": "execute_result"
        }
      ],
      "source": [
        "listx = list_1 + list_2  # Add list_1 and list_2 to one list.\n",
        "listx"
      ]
    },
    {
      "cell_type": "code",
      "execution_count": 14,
      "metadata": {
        "colab": {
          "base_uri": "https://localhost:8080/"
        },
        "id": "vXd49pDYsaNa",
        "outputId": "b1b88e04-f4a1-4c7a-dfb4-014f7c0852eb"
      },
      "outputs": [
        {
          "data": {
            "text/plain": [
              "[1, 2, 3, 4]"
            ]
          },
          "execution_count": 14,
          "metadata": {},
          "output_type": "execute_result"
        }
      ],
      "source": [
        "list_1.append(4)\n",
        "list_1"
      ]
    },
    {
      "cell_type": "code",
      "execution_count": 15,
      "metadata": {
        "colab": {
          "base_uri": "https://localhost:8080/"
        },
        "id": "EUP6Iy-hsr3q",
        "outputId": "a80d27ef-319f-42a4-c4a1-d0c133513bb9"
      },
      "outputs": [
        {
          "data": {
            "text/plain": [
              "[1, 2, 'center', 3, 4]"
            ]
          },
          "execution_count": 15,
          "metadata": {},
          "output_type": "execute_result"
        }
      ],
      "source": [
        "list_1.insert(2,'center')\n",
        "list_1"
      ]
    },
    {
      "cell_type": "code",
      "execution_count": 16,
      "metadata": {
        "colab": {
          "base_uri": "https://localhost:8080/"
        },
        "id": "CyPTqZ7npWkv",
        "outputId": "c6702970-26ec-417c-cf6a-7aba1697b1cd"
      },
      "outputs": [
        {
          "data": {
            "text/plain": [
              "(1, 2, 3, 2)"
            ]
          },
          "execution_count": 16,
          "metadata": {},
          "output_type": "execute_result"
        }
      ],
      "source": [
        "#2. Tuples\n",
        "\n",
        "tuple_1 = (1, 2, 3, 2)\n",
        "tuple_1"
      ]
    },
    {
      "cell_type": "code",
      "execution_count": 17,
      "metadata": {
        "colab": {
          "base_uri": "https://localhost:8080/"
        },
        "id": "bXXy7urup0qa",
        "outputId": "2edaf8de-3c6a-4d8a-d695-e1dbd988b2f0"
      },
      "outputs": [
        {
          "data": {
            "text/plain": [
              "4"
            ]
          },
          "execution_count": 17,
          "metadata": {},
          "output_type": "execute_result"
        }
      ],
      "source": [
        "len(tuple_1)"
      ]
    },
    {
      "cell_type": "code",
      "execution_count": 18,
      "metadata": {
        "colab": {
          "base_uri": "https://localhost:8080/"
        },
        "id": "TQkcPt1dp7es",
        "outputId": "cd44d761-a64e-45f1-807b-6feba191e890"
      },
      "outputs": [
        {
          "data": {
            "text/plain": [
              "2"
            ]
          },
          "execution_count": 18,
          "metadata": {},
          "output_type": "execute_result"
        }
      ],
      "source": [
        "tuple_1.count(2)"
      ]
    },
    {
      "cell_type": "code",
      "execution_count": 19,
      "metadata": {
        "colab": {
          "base_uri": "https://localhost:8080/"
        },
        "id": "JdqCrP8roiKp",
        "outputId": "46b04d78-c92b-498e-eecd-ce6fabf1ee01"
      },
      "outputs": [
        {
          "data": {
            "text/plain": [
              "{1, 2, 3}"
            ]
          },
          "execution_count": 19,
          "metadata": {},
          "output_type": "execute_result"
        }
      ],
      "source": [
        "#3. Sets\n",
        "\n",
        "set_1 = set([1, 2, 2, 3, 2, 1, 2])\n",
        "set_1"
      ]
    },
    {
      "cell_type": "code",
      "execution_count": 20,
      "metadata": {
        "colab": {
          "base_uri": "https://localhost:8080/"
        },
        "id": "bBfTntqgoyPH",
        "outputId": "1c05a7b7-c02e-4ef3-9779-133c255e89bb"
      },
      "outputs": [
        {
          "data": {
            "text/plain": [
              "{2, 4, 5, 6}"
            ]
          },
          "execution_count": 20,
          "metadata": {},
          "output_type": "execute_result"
        }
      ],
      "source": [
        "set_2 = set((2, 4, 6, 5, 2))\n",
        "set_2"
      ]
    },
    {
      "cell_type": "code",
      "execution_count": 21,
      "metadata": {
        "colab": {
          "base_uri": "https://localhost:8080/"
        },
        "id": "11ibhRKuo58i",
        "outputId": "1765f9ec-8fe3-45f0-f8d0-baad048aa6a3"
      },
      "outputs": [
        {
          "name": "stdout",
          "output_type": "stream",
          "text": [
            "{1, 2, 3}\n",
            "{2, 4, 5, 6}\n"
          ]
        }
      ],
      "source": [
        "print(set_1)\n",
        "print(set_2)"
      ]
    },
    {
      "cell_type": "code",
      "execution_count": 22,
      "metadata": {
        "colab": {
          "base_uri": "https://localhost:8080/"
        },
        "id": "Y6YQEUTeo_BG",
        "outputId": "5891d72c-e5e9-4878-ea16-fc0dbda133dc"
      },
      "outputs": [
        {
          "data": {
            "text/plain": [
              "{1, 2, 3, 4, 5, 6}"
            ]
          },
          "execution_count": 22,
          "metadata": {},
          "output_type": "execute_result"
        }
      ],
      "source": [
        "set_1.union(set_2)"
      ]
    },
    {
      "cell_type": "code",
      "execution_count": 23,
      "metadata": {
        "colab": {
          "base_uri": "https://localhost:8080/"
        },
        "id": "uWbqpQ3spDro",
        "outputId": "255ad0c7-aab9-4c92-8a47-6d47859033c9"
      },
      "outputs": [
        {
          "data": {
            "text/plain": [
              "{2}"
            ]
          },
          "execution_count": 23,
          "metadata": {},
          "output_type": "execute_result"
        }
      ],
      "source": [
        "set_1.intersection(set_2)"
      ]
    },
    {
      "cell_type": "code",
      "execution_count": 24,
      "metadata": {
        "colab": {
          "base_uri": "https://localhost:8080/"
        },
        "id": "WuNejMORpIet",
        "outputId": "3e2cddee-eab9-4f95-fdc0-a16ea385c028"
      },
      "outputs": [
        {
          "data": {
            "text/plain": [
              "True"
            ]
          },
          "execution_count": 24,
          "metadata": {},
          "output_type": "execute_result"
        }
      ],
      "source": [
        "set_1.issubset({1, 2, 3, 3, 4, 5})"
      ]
    },
    {
      "cell_type": "code",
      "execution_count": 25,
      "metadata": {
        "colab": {
          "base_uri": "https://localhost:8080/"
        },
        "id": "Y2uwIIVGlawT",
        "outputId": "54479e3e-be9a-4316-be39-02389699128f"
      },
      "outputs": [
        {
          "data": {
            "text/plain": [
              "{'apple': 3, 'oragne': 4, 'pear': 2}"
            ]
          },
          "execution_count": 25,
          "metadata": {},
          "output_type": "execute_result"
        }
      ],
      "source": [
        "#4. Dictionaries\n",
        "\n",
        "dict_1 = {'apple':3, 'oragne':4, 'pear':2}\n",
        "dict_1"
      ]
    },
    {
      "cell_type": "code",
      "execution_count": 26,
      "metadata": {
        "colab": {
          "base_uri": "https://localhost:8080/"
        },
        "id": "4N7dZKjinFwj",
        "outputId": "84622d79-cb1a-4f99-b623-330773741db5"
      },
      "outputs": [
        {
          "data": {
            "text/plain": [
              "3"
            ]
          },
          "execution_count": 26,
          "metadata": {},
          "output_type": "execute_result"
        }
      ],
      "source": [
        "dict_1['apple']"
      ]
    },
    {
      "cell_type": "code",
      "execution_count": 27,
      "metadata": {
        "colab": {
          "base_uri": "https://localhost:8080/"
        },
        "id": "ORUjHfIHnylN",
        "outputId": "0a432598-cd4a-4a1b-adbd-4650eca1571d"
      },
      "outputs": [
        {
          "data": {
            "text/plain": [
              "dict_keys(['apple', 'oragne', 'pear'])"
            ]
          },
          "execution_count": 27,
          "metadata": {},
          "output_type": "execute_result"
        }
      ],
      "source": [
        "dict_1.keys()"
      ]
    },
    {
      "cell_type": "code",
      "execution_count": 28,
      "metadata": {
        "colab": {
          "base_uri": "https://localhost:8080/"
        },
        "id": "xjRsPdrDn1sh",
        "outputId": "b686ddfc-7e19-4b2e-8e88-003bdaeba8dd"
      },
      "outputs": [
        {
          "data": {
            "text/plain": [
              "dict_values([3, 4, 2])"
            ]
          },
          "execution_count": 28,
          "metadata": {},
          "output_type": "execute_result"
        }
      ],
      "source": [
        "dict_1.values()"
      ]
    },
    {
      "cell_type": "code",
      "execution_count": 29,
      "metadata": {
        "colab": {
          "base_uri": "https://localhost:8080/"
        },
        "id": "7wU_XjfAn56H",
        "outputId": "13f1a64e-6035-47a5-9ee5-395685ecc169"
      },
      "outputs": [
        {
          "data": {
            "text/plain": [
              "3"
            ]
          },
          "execution_count": 29,
          "metadata": {},
          "output_type": "execute_result"
        }
      ],
      "source": [
        "len(dict_1)"
      ]
    },
    {
      "cell_type": "markdown",
      "metadata": {
        "id": "7qzL5WhQlips"
      },
      "source": [
        "# 2. Numpy Arrays\n",
        "\n",
        "Numpy is the most fundamental numerical computing module in Python.\n",
        "\n",
        "##Few important features for Numpy :\n",
        "\n",
        "\n",
        "*   a powerful N-dimensional array object\n",
        "*   sophisticated (broadcasting) functions\n",
        "\n",
        "\n",
        "*   tools for integrating C/C++ and Fortran code\n",
        "*   useful linear algebra, Fourier transform, and random number capabilities\n",
        "\n",
        "c:> pip install numpy\n",
        "\n",
        "\n",
        "\n",
        "\n",
        "\n",
        "\n",
        "\n",
        "\n"
      ]
    },
    {
      "cell_type": "code",
      "execution_count": 1,
      "metadata": {
        "id": "MNEnUsnut3iy"
      },
      "outputs": [],
      "source": [
        "import numpy as np"
      ]
    },
    {
      "cell_type": "markdown",
      "metadata": {
        "id": "jISHpjI5uA9f"
      },
      "source": [
        "Create the following arrays:\n",
        "\n",
        "$$ x = \\begin{pmatrix}\n",
        "       1 & 4 & 3\n",
        "       \\end{pmatrix}\n",
        "$$\n",
        "\n",
        "$$\n",
        "y  = \\begin{pmatrix}\n",
        "      1 & 4 & 3\\\\\n",
        "      9 & 2 & 7\n",
        "      \\end{pmatrix}\n",
        "$$\n"
      ]
    },
    {
      "cell_type": "code",
      "execution_count": 31,
      "metadata": {
        "colab": {
          "base_uri": "https://localhost:8080/"
        },
        "id": "ESlfwdq-yHFn",
        "outputId": "05fef5e1-d7b0-4708-fedf-c9013aee402d"
      },
      "outputs": [
        {
          "data": {
            "text/plain": [
              "array([1, 4, 3])"
            ]
          },
          "execution_count": 31,
          "metadata": {},
          "output_type": "execute_result"
        }
      ],
      "source": [
        "x = np.array([1,4,3])\n",
        "x"
      ]
    },
    {
      "cell_type": "code",
      "execution_count": 32,
      "metadata": {
        "colab": {
          "base_uri": "https://localhost:8080/"
        },
        "id": "C2c9kDl-yiia",
        "outputId": "24afdd64-000e-42c5-fd63-cf0108de9d00"
      },
      "outputs": [
        {
          "data": {
            "text/plain": [
              "array([[1, 4, 3],\n",
              "       [9, 2, 7]])"
            ]
          },
          "execution_count": 32,
          "metadata": {},
          "output_type": "execute_result"
        }
      ],
      "source": [
        "y = np.array([[1,4,3],[9,2,7]])\n",
        "y"
      ]
    },
    {
      "cell_type": "code",
      "execution_count": 33,
      "metadata": {
        "colab": {
          "base_uri": "https://localhost:8080/"
        },
        "id": "_XKgZvaoy2lp",
        "outputId": "99314692-30e8-4e4e-9272-0b7fa7da9e54"
      },
      "outputs": [
        {
          "data": {
            "text/plain": [
              "(2, 3)"
            ]
          },
          "execution_count": 33,
          "metadata": {},
          "output_type": "execute_result"
        }
      ],
      "source": [
        "y.shape  # Find the rows and, columns"
      ]
    },
    {
      "cell_type": "code",
      "execution_count": 34,
      "metadata": {
        "colab": {
          "base_uri": "https://localhost:8080/"
        },
        "id": "lJDoI1yDzIWX",
        "outputId": "3651e703-2479-4067-b16c-991906d831a0"
      },
      "outputs": [
        {
          "data": {
            "text/plain": [
              "6"
            ]
          },
          "execution_count": 34,
          "metadata": {},
          "output_type": "execute_result"
        }
      ],
      "source": [
        "y.size # total size for array y"
      ]
    },
    {
      "cell_type": "code",
      "execution_count": 35,
      "metadata": {
        "colab": {
          "base_uri": "https://localhost:8080/"
        },
        "id": "H08yH9AXzRNT",
        "outputId": "ef303efc-55f3-409e-a297-f8f0ebefa7ac"
      },
      "outputs": [
        {
          "data": {
            "text/plain": [
              "array([   1,    4,    7,   10,   13,   16,   19,   22,   25,   28,   31,\n",
              "         34,   37,   40,   43,   46,   49,   52,   55,   58,   61,   64,\n",
              "         67,   70,   73,   76,   79,   82,   85,   88,   91,   94,   97,\n",
              "        100,  103,  106,  109,  112,  115,  118,  121,  124,  127,  130,\n",
              "        133,  136,  139,  142,  145,  148,  151,  154,  157,  160,  163,\n",
              "        166,  169,  172,  175,  178,  181,  184,  187,  190,  193,  196,\n",
              "        199,  202,  205,  208,  211,  214,  217,  220,  223,  226,  229,\n",
              "        232,  235,  238,  241,  244,  247,  250,  253,  256,  259,  262,\n",
              "        265,  268,  271,  274,  277,  280,  283,  286,  289,  292,  295,\n",
              "        298,  301,  304,  307,  310,  313,  316,  319,  322,  325,  328,\n",
              "        331,  334,  337,  340,  343,  346,  349,  352,  355,  358,  361,\n",
              "        364,  367,  370,  373,  376,  379,  382,  385,  388,  391,  394,\n",
              "        397,  400,  403,  406,  409,  412,  415,  418,  421,  424,  427,\n",
              "        430,  433,  436,  439,  442,  445,  448,  451,  454,  457,  460,\n",
              "        463,  466,  469,  472,  475,  478,  481,  484,  487,  490,  493,\n",
              "        496,  499,  502,  505,  508,  511,  514,  517,  520,  523,  526,\n",
              "        529,  532,  535,  538,  541,  544,  547,  550,  553,  556,  559,\n",
              "        562,  565,  568,  571,  574,  577,  580,  583,  586,  589,  592,\n",
              "        595,  598,  601,  604,  607,  610,  613,  616,  619,  622,  625,\n",
              "        628,  631,  634,  637,  640,  643,  646,  649,  652,  655,  658,\n",
              "        661,  664,  667,  670,  673,  676,  679,  682,  685,  688,  691,\n",
              "        694,  697,  700,  703,  706,  709,  712,  715,  718,  721,  724,\n",
              "        727,  730,  733,  736,  739,  742,  745,  748,  751,  754,  757,\n",
              "        760,  763,  766,  769,  772,  775,  778,  781,  784,  787,  790,\n",
              "        793,  796,  799,  802,  805,  808,  811,  814,  817,  820,  823,\n",
              "        826,  829,  832,  835,  838,  841,  844,  847,  850,  853,  856,\n",
              "        859,  862,  865,  868,  871,  874,  877,  880,  883,  886,  889,\n",
              "        892,  895,  898,  901,  904,  907,  910,  913,  916,  919,  922,\n",
              "        925,  928,  931,  934,  937,  940,  943,  946,  949,  952,  955,\n",
              "        958,  961,  964,  967,  970,  973,  976,  979,  982,  985,  988,\n",
              "        991,  994,  997, 1000, 1003, 1006, 1009, 1012, 1015, 1018, 1021,\n",
              "       1024, 1027, 1030, 1033, 1036, 1039, 1042, 1045, 1048, 1051, 1054,\n",
              "       1057, 1060, 1063, 1066, 1069, 1072, 1075, 1078, 1081, 1084, 1087,\n",
              "       1090, 1093, 1096, 1099, 1102, 1105, 1108, 1111, 1114, 1117, 1120,\n",
              "       1123, 1126, 1129, 1132, 1135, 1138, 1141, 1144, 1147, 1150, 1153,\n",
              "       1156, 1159, 1162, 1165, 1168, 1171, 1174, 1177, 1180, 1183, 1186,\n",
              "       1189, 1192, 1195, 1198, 1201, 1204, 1207, 1210, 1213, 1216, 1219,\n",
              "       1222, 1225, 1228, 1231, 1234, 1237, 1240, 1243, 1246, 1249, 1252,\n",
              "       1255, 1258, 1261, 1264, 1267, 1270, 1273, 1276, 1279, 1282, 1285,\n",
              "       1288, 1291, 1294, 1297, 1300, 1303, 1306, 1309, 1312, 1315, 1318,\n",
              "       1321, 1324, 1327, 1330, 1333, 1336, 1339, 1342, 1345, 1348, 1351,\n",
              "       1354, 1357, 1360, 1363, 1366, 1369, 1372, 1375, 1378, 1381, 1384,\n",
              "       1387, 1390, 1393, 1396, 1399, 1402, 1405, 1408, 1411, 1414, 1417,\n",
              "       1420, 1423, 1426, 1429, 1432, 1435, 1438, 1441, 1444, 1447, 1450,\n",
              "       1453, 1456, 1459, 1462, 1465, 1468, 1471, 1474, 1477, 1480, 1483,\n",
              "       1486, 1489, 1492, 1495, 1498, 1501, 1504, 1507, 1510, 1513, 1516,\n",
              "       1519, 1522, 1525, 1528, 1531, 1534, 1537, 1540, 1543, 1546, 1549,\n",
              "       1552, 1555, 1558, 1561, 1564, 1567, 1570, 1573, 1576, 1579, 1582,\n",
              "       1585, 1588, 1591, 1594, 1597, 1600, 1603, 1606, 1609, 1612, 1615,\n",
              "       1618, 1621, 1624, 1627, 1630, 1633, 1636, 1639, 1642, 1645, 1648,\n",
              "       1651, 1654, 1657, 1660, 1663, 1666, 1669, 1672, 1675, 1678, 1681,\n",
              "       1684, 1687, 1690, 1693, 1696, 1699, 1702, 1705, 1708, 1711, 1714,\n",
              "       1717, 1720, 1723, 1726, 1729, 1732, 1735, 1738, 1741, 1744, 1747,\n",
              "       1750, 1753, 1756, 1759, 1762, 1765, 1768, 1771, 1774, 1777, 1780,\n",
              "       1783, 1786, 1789, 1792, 1795, 1798, 1801, 1804, 1807, 1810, 1813,\n",
              "       1816, 1819, 1822, 1825, 1828, 1831, 1834, 1837, 1840, 1843, 1846,\n",
              "       1849, 1852, 1855, 1858, 1861, 1864, 1867, 1870, 1873, 1876, 1879,\n",
              "       1882, 1885, 1888, 1891, 1894, 1897, 1900, 1903, 1906, 1909, 1912,\n",
              "       1915, 1918, 1921, 1924, 1927, 1930, 1933, 1936, 1939, 1942, 1945,\n",
              "       1948, 1951, 1954, 1957, 1960, 1963, 1966, 1969, 1972, 1975, 1978,\n",
              "       1981, 1984, 1987, 1990, 1993, 1996, 1999])"
            ]
          },
          "execution_count": 35,
          "metadata": {},
          "output_type": "execute_result"
        }
      ],
      "source": [
        "z = np.arange(1, 2000, 3) # Create an array z from 1 to 2000 with an increment 2.\n",
        "z"
      ]
    },
    {
      "cell_type": "code",
      "execution_count": 36,
      "metadata": {
        "colab": {
          "base_uri": "https://localhost:8080/"
        },
        "id": "pBFdpRc6z4d5",
        "outputId": "14779213-26bd-4254-fa7f-f8bc128c729a"
      },
      "outputs": [
        {
          "data": {
            "text/plain": [
              "array([0.5, 0.6, 0.7, 0.8, 0.9, 1. , 1.1, 1.2, 1.3, 1.4, 1.5, 1.6, 1.7,\n",
              "       1.8, 1.9, 2. , 2.1, 2.2, 2.3, 2.4, 2.5, 2.6, 2.7, 2.8, 2.9])"
            ]
          },
          "execution_count": 36,
          "metadata": {},
          "output_type": "execute_result"
        }
      ],
      "source": [
        "p = np.arange(0.5, 3, 0.1) # Generate an array with [0.5, 1, 1.5, 2, 2.5]\n",
        "p"
      ]
    },
    {
      "cell_type": "code",
      "execution_count": 37,
      "metadata": {
        "colab": {
          "base_uri": "https://localhost:8080/"
        },
        "id": "tA5O3ecY0aH5",
        "outputId": "730d3cec-f4cb-4598-a831-a6c5b72b6579"
      },
      "outputs": [
        {
          "data": {
            "text/plain": [
              "array([3.        , 3.66666667, 4.33333333, 5.        , 5.66666667,\n",
              "       6.33333333, 7.        , 7.66666667, 8.33333333, 9.        ])"
            ]
          },
          "execution_count": 37,
          "metadata": {},
          "output_type": "execute_result"
        }
      ],
      "source": [
        "q = np.linspace(3, 9, 10) # generate an array starting at 3, ending at 9, and containing 10 elements\n",
        "q"
      ]
    },
    {
      "cell_type": "code",
      "execution_count": 38,
      "metadata": {
        "colab": {
          "base_uri": "https://localhost:8080/"
        },
        "id": "1ok2L8pD0n5z",
        "outputId": "8f8c3feb-f530-4224-cfa5-d752b18e2f83"
      },
      "outputs": [
        {
          "data": {
            "text/plain": [
              "3.6666666666666665"
            ]
          },
          "execution_count": 38,
          "metadata": {},
          "output_type": "execute_result"
        }
      ],
      "source": [
        "q[1] # get the 2nd element of q\n"
      ]
    },
    {
      "cell_type": "code",
      "execution_count": 39,
      "metadata": {
        "colab": {
          "base_uri": "https://localhost:8080/"
        },
        "id": "ZDnAQOlO0z_e",
        "outputId": "060377be-3491-4b29-859d-ca6939822e61"
      },
      "outputs": [
        {
          "data": {
            "text/plain": [
              "array([6.33333333, 7.        , 7.66666667, 8.33333333, 9.        ])"
            ]
          },
          "execution_count": 39,
          "metadata": {},
          "output_type": "execute_result"
        }
      ],
      "source": [
        "q[5:] # get all the element after the 5nd element of q"
      ]
    },
    {
      "cell_type": "code",
      "execution_count": 40,
      "metadata": {
        "colab": {
          "base_uri": "https://localhost:8080/"
        },
        "id": "uGOfebRzny3A",
        "outputId": "ed613605-b510-4a60-dc64-656bd99eab7b"
      },
      "outputs": [
        {
          "data": {
            "text/plain": [
              "array([3.        , 3.66666667, 4.33333333])"
            ]
          },
          "execution_count": 40,
          "metadata": {},
          "output_type": "execute_result"
        }
      ],
      "source": [
        "q[:3]"
      ]
    },
    {
      "cell_type": "code",
      "execution_count": 41,
      "metadata": {
        "colab": {
          "base_uri": "https://localhost:8080/"
        },
        "id": "ZWsKEtMj1I73",
        "outputId": "cd990a8d-d3d9-418a-bd16-d4437597e537"
      },
      "outputs": [
        {
          "data": {
            "text/plain": [
              "9.0"
            ]
          },
          "execution_count": 41,
          "metadata": {},
          "output_type": "execute_result"
        }
      ],
      "source": [
        "q[-1] # get the last element of x"
      ]
    },
    {
      "cell_type": "code",
      "execution_count": 42,
      "metadata": {
        "colab": {
          "base_uri": "https://localhost:8080/"
        },
        "id": "VVU6R0sI2lTX",
        "outputId": "f7960c22-3b8d-451b-fb23-f995ee0fc52d"
      },
      "outputs": [
        {
          "data": {
            "text/plain": [
              "array([[1, 4, 3],\n",
              "       [9, 2, 7]])"
            ]
          },
          "execution_count": 42,
          "metadata": {},
          "output_type": "execute_result"
        }
      ],
      "source": [
        "y"
      ]
    },
    {
      "cell_type": "code",
      "execution_count": 43,
      "metadata": {
        "colab": {
          "base_uri": "https://localhost:8080/"
        },
        "id": "HXQuVh4G2DYa",
        "outputId": "80513fc4-9d9a-447e-eda5-0be8ce5377a9"
      },
      "outputs": [
        {
          "data": {
            "text/plain": [
              "array([1, 4, 3])"
            ]
          },
          "execution_count": 43,
          "metadata": {},
          "output_type": "execute_result"
        }
      ],
      "source": [
        "y[0, :] # Get the second row of array y."
      ]
    },
    {
      "cell_type": "code",
      "execution_count": 44,
      "metadata": {
        "colab": {
          "base_uri": "https://localhost:8080/"
        },
        "id": "xNsgn2XP2YMh",
        "outputId": "ae7360b3-5c01-4180-b6ce-c24ef0aac4ed"
      },
      "outputs": [
        {
          "data": {
            "text/plain": [
              "array([3, 7])"
            ]
          },
          "execution_count": 44,
          "metadata": {},
          "output_type": "execute_result"
        }
      ],
      "source": [
        "y[:, -1] # Get the last column of array y."
      ]
    },
    {
      "cell_type": "code",
      "execution_count": 45,
      "metadata": {
        "colab": {
          "base_uri": "https://localhost:8080/"
        },
        "id": "cuV8Zus-sWlQ",
        "outputId": "6aa726d3-23e5-4824-c628-7b48dc78db63"
      },
      "outputs": [
        {
          "data": {
            "text/plain": [
              "array([4, 2])"
            ]
          },
          "execution_count": 45,
          "metadata": {},
          "output_type": "execute_result"
        }
      ],
      "source": [
        "y[:,1]"
      ]
    },
    {
      "cell_type": "code",
      "execution_count": 46,
      "metadata": {
        "colab": {
          "base_uri": "https://localhost:8080/"
        },
        "id": "JTxhQ_eq2f8V",
        "outputId": "1ae533b2-7ca1-4ce1-b662-8535733cbe10"
      },
      "outputs": [
        {
          "data": {
            "text/plain": [
              "array([4, 2])"
            ]
          },
          "execution_count": 46,
          "metadata": {},
          "output_type": "execute_result"
        }
      ],
      "source": [
        "y[:, 1] # Get the second column of array y."
      ]
    },
    {
      "cell_type": "code",
      "execution_count": 47,
      "metadata": {
        "colab": {
          "base_uri": "https://localhost:8080/"
        },
        "id": "NIh11M482wHp",
        "outputId": "28f4e6b7-7023-4084-f8c0-a28676d53b96"
      },
      "outputs": [
        {
          "data": {
            "text/plain": [
              "array([[1, 3],\n",
              "       [9, 7]])"
            ]
          },
          "execution_count": 47,
          "metadata": {},
          "output_type": "execute_result"
        }
      ],
      "source": [
        "y[:, [0, 2]]  #Get the first and third column of array y"
      ]
    },
    {
      "cell_type": "code",
      "execution_count": 48,
      "metadata": {
        "colab": {
          "base_uri": "https://localhost:8080/"
        },
        "id": "GH-9ohgJ271V",
        "outputId": "87d8e2bf-b526-4809-8296-0574354b9362"
      },
      "outputs": [
        {
          "data": {
            "text/plain": [
              "array([[0., 0., 0., 0., 0.],\n",
              "       [0., 0., 0., 0., 0.],\n",
              "       [0., 0., 0., 0., 0.]])"
            ]
          },
          "execution_count": 48,
          "metadata": {},
          "output_type": "execute_result"
        }
      ],
      "source": [
        "np.zeros((3, 5)) # Generate a 3 by 5 array with all the as 0.\n"
      ]
    },
    {
      "cell_type": "code",
      "execution_count": 49,
      "metadata": {
        "colab": {
          "base_uri": "https://localhost:8080/"
        },
        "id": "aw7AQPJO2dVJ",
        "outputId": "7dbb88a4-9927-48e3-f168-9075c84dc74e"
      },
      "outputs": [
        {
          "data": {
            "text/plain": [
              "array([[1., 1., 1.],\n",
              "       [1., 1., 1.],\n",
              "       [1., 1., 1.],\n",
              "       [1., 1., 1.],\n",
              "       [1., 1., 1.]])"
            ]
          },
          "execution_count": 49,
          "metadata": {},
          "output_type": "execute_result"
        }
      ],
      "source": [
        "np.ones((5, 3)) #Generate a 5 by 3 array with all the element as 1"
      ]
    },
    {
      "cell_type": "markdown",
      "metadata": {
        "id": "MCQQeYa93YNw"
      },
      "source": [
        "###Excercise :\n",
        "Make array\n",
        "\n",
        "$$\n",
        "  a = \\begin{pmatrix}  \n",
        "      1&2&3&4&5&6\n",
        "      \\end{pmatrix}\n",
        "$$\n",
        "\n"
      ]
    },
    {
      "cell_type": "code",
      "execution_count": 50,
      "metadata": {
        "colab": {
          "base_uri": "https://localhost:8080/"
        },
        "id": "MkdiAw2k4fYD",
        "outputId": "969d79af-0bcd-42b6-c6d0-6169e2fc355e"
      },
      "outputs": [
        {
          "data": {
            "text/plain": [
              "array([1, 2, 3, 4, 5, 6])"
            ]
          },
          "execution_count": 50,
          "metadata": {},
          "output_type": "execute_result"
        }
      ],
      "source": [
        "import numpy as np\n",
        "a = np.array([1,2,3,4,5,6])\n",
        "a"
      ]
    },
    {
      "cell_type": "code",
      "execution_count": 51,
      "metadata": {
        "colab": {
          "base_uri": "https://localhost:8080/"
        },
        "id": "FnleWzW_4pnN",
        "outputId": "8d141076-f740-406b-8385-efe88a4d199f"
      },
      "outputs": [
        {
          "data": {
            "text/plain": [
              "array([1, 2, 3, 4, 5, 6])"
            ]
          },
          "execution_count": 51,
          "metadata": {},
          "output_type": "execute_result"
        }
      ],
      "source": [
        "a = np.arange(1, 7)\n",
        "a"
      ]
    },
    {
      "cell_type": "code",
      "execution_count": 52,
      "metadata": {
        "colab": {
          "base_uri": "https://localhost:8080/"
        },
        "id": "CC1tVsi6477N",
        "outputId": "804c79ed-c567-4cc1-bbdf-8e7b63afe74c"
      },
      "outputs": [
        {
          "data": {
            "text/plain": [
              "array([1, 2, 3, 7, 5, 6])"
            ]
          },
          "execution_count": 52,
          "metadata": {},
          "output_type": "execute_result"
        }
      ],
      "source": [
        "a[3] = 7 # eassign the fourth element of a to 7\n",
        "a"
      ]
    },
    {
      "cell_type": "code",
      "execution_count": 53,
      "metadata": {
        "colab": {
          "base_uri": "https://localhost:8080/"
        },
        "id": "u1glQBDd5KvI",
        "outputId": "ccf9bc2e-1e34-4b29-ab1e-a76f2346c83e"
      },
      "outputs": [
        {
          "data": {
            "text/plain": [
              "array([1, 1, 1, 7, 5, 6])"
            ]
          },
          "execution_count": 53,
          "metadata": {},
          "output_type": "execute_result"
        }
      ],
      "source": [
        "a[:3] = 1 #Reassign the first, second, and thrid elements to 1\n",
        "a"
      ]
    },
    {
      "cell_type": "code",
      "execution_count": 54,
      "metadata": {
        "colab": {
          "base_uri": "https://localhost:8080/"
        },
        "id": "muH18RE75lrG",
        "outputId": "3eda971d-fa2a-4bcb-ff9d-71b3bb233d56"
      },
      "outputs": [
        {
          "data": {
            "text/plain": [
              "array([1, 1, 5, 5, 5, 5])"
            ]
          },
          "execution_count": 54,
          "metadata": {},
          "output_type": "execute_result"
        }
      ],
      "source": [
        "a[2:] = 5\n",
        "a"
      ]
    },
    {
      "cell_type": "code",
      "execution_count": 55,
      "metadata": {
        "colab": {
          "base_uri": "https://localhost:8080/"
        },
        "id": "6yNsLVhO638P",
        "outputId": "707bb986-4d8f-47bc-e455-62f5d8e1051c"
      },
      "outputs": [
        {
          "data": {
            "text/plain": [
              "array([1, 9, 8, 7, 5, 5])"
            ]
          },
          "execution_count": 55,
          "metadata": {},
          "output_type": "execute_result"
        }
      ],
      "source": [
        "a[1:4] = [9, 8, 7] #Reassign the second, third, and fourth elements to 9, 8, and 7.\n",
        "a"
      ]
    },
    {
      "cell_type": "markdown",
      "metadata": {
        "id": "hWdPFn6h7w3q"
      },
      "source": [
        "## Operational pada Matrix\n",
        "\n",
        "$$\n",
        "  A = \\begin{pmatrix}\n",
        "      2&-4\\\\\n",
        "      -2&10       \n",
        "      \\end{pmatrix}\n",
        "$$\n",
        "\n",
        "$$\n",
        "  B = \\begin{pmatrix}\n",
        "  1&2\\\\\n",
        "  3&4\n",
        "  \\end{pmatrix}\n",
        "$$"
      ]
    },
    {
      "cell_type": "code",
      "execution_count": 56,
      "metadata": {
        "colab": {
          "base_uri": "https://localhost:8080/"
        },
        "id": "PKC7cQfY9b7p",
        "outputId": "9bcde1aa-173e-45e4-aa4e-78eff6924ff0"
      },
      "outputs": [
        {
          "data": {
            "text/plain": [
              "array([[ 2, -4],\n",
              "       [-2, 10]])"
            ]
          },
          "execution_count": 56,
          "metadata": {},
          "output_type": "execute_result"
        }
      ],
      "source": [
        "A = np.array([[2,-4],[-2,10]])\n",
        "A\n"
      ]
    },
    {
      "cell_type": "code",
      "execution_count": 57,
      "metadata": {
        "colab": {
          "base_uri": "https://localhost:8080/"
        },
        "id": "_DJldseeGG4b",
        "outputId": "7fd02ee0-0022-47f7-f994-5ef7372a08e0"
      },
      "outputs": [
        {
          "data": {
            "text/plain": [
              "array([[1, 2],\n",
              "       [3, 4]])"
            ]
          },
          "execution_count": 57,
          "metadata": {},
          "output_type": "execute_result"
        }
      ],
      "source": [
        "B = np.array([[1,2],[3,4]])\n",
        "B"
      ]
    },
    {
      "cell_type": "code",
      "execution_count": 58,
      "metadata": {
        "colab": {
          "base_uri": "https://localhost:8080/"
        },
        "id": "CcQvCwjbGdBk",
        "outputId": "aa0c0303-4ee9-4379-a5b4-09f00bb73861"
      },
      "outputs": [
        {
          "data": {
            "text/plain": [
              "array([[ 3, -2],\n",
              "       [ 1, 14]])"
            ]
          },
          "execution_count": 58,
          "metadata": {},
          "output_type": "execute_result"
        }
      ],
      "source": [
        "C = A+B\n",
        "C"
      ]
    },
    {
      "cell_type": "code",
      "execution_count": 59,
      "metadata": {
        "colab": {
          "base_uri": "https://localhost:8080/"
        },
        "id": "_psEjg5cGr5X",
        "outputId": "309952ef-e2ab-417b-dfe5-a10e8f546bb3"
      },
      "outputs": [
        {
          "data": {
            "text/plain": [
              "array([[ 1, -6],\n",
              "       [-5,  6]])"
            ]
          },
          "execution_count": 59,
          "metadata": {},
          "output_type": "execute_result"
        }
      ],
      "source": [
        "C = A-B\n",
        "C"
      ]
    },
    {
      "cell_type": "code",
      "execution_count": 60,
      "metadata": {
        "colab": {
          "base_uri": "https://localhost:8080/"
        },
        "id": "MRkWAGp8GxG-",
        "outputId": "eee36f45-8882-4f57-f533-85f9704ff17f"
      },
      "outputs": [
        {
          "data": {
            "text/plain": [
              "array([[    2,    16],\n",
              "       [   -8, 10000]])"
            ]
          },
          "execution_count": 60,
          "metadata": {},
          "output_type": "execute_result"
        }
      ],
      "source": [
        "C = A**B\n",
        "C"
      ]
    },
    {
      "cell_type": "code",
      "execution_count": 61,
      "metadata": {
        "colab": {
          "base_uri": "https://localhost:8080/"
        },
        "id": "nEQY6WA8G9ve",
        "outputId": "1933a631-c882-4b25-e113-65a14c4526d7"
      },
      "outputs": [
        {
          "data": {
            "text/plain": [
              "array([[ 2, -8],\n",
              "       [-6, 40]])"
            ]
          },
          "execution_count": 61,
          "metadata": {},
          "output_type": "execute_result"
        }
      ],
      "source": [
        "C = A*B\n",
        "C"
      ]
    },
    {
      "cell_type": "code",
      "execution_count": 62,
      "metadata": {
        "colab": {
          "base_uri": "https://localhost:8080/"
        },
        "id": "Pp8P5P5y9y6s",
        "outputId": "a8ff1b55-fbd4-46f9-be45-ed7e30a1397c"
      },
      "outputs": [
        {
          "data": {
            "text/plain": [
              "array([[ 4, -2],\n",
              "       [ 0, 12]])"
            ]
          },
          "execution_count": 62,
          "metadata": {},
          "output_type": "execute_result"
        }
      ],
      "source": [
        "A+2"
      ]
    },
    {
      "cell_type": "code",
      "execution_count": 63,
      "metadata": {
        "colab": {
          "base_uri": "https://localhost:8080/"
        },
        "id": "fqKBp9h892oK",
        "outputId": "513fc369-af2c-4c75-bb68-2d62ab91a349"
      },
      "outputs": [
        {
          "data": {
            "text/plain": [
              "array([[  4,  16],\n",
              "       [  4, 100]])"
            ]
          },
          "execution_count": 63,
          "metadata": {},
          "output_type": "execute_result"
        }
      ],
      "source": [
        "A**2"
      ]
    },
    {
      "cell_type": "code",
      "execution_count": 64,
      "metadata": {
        "colab": {
          "base_uri": "https://localhost:8080/"
        },
        "id": "yNOoecHI96mE",
        "outputId": "57be2fad-1390-48ce-8372-e1b7a29acdc0"
      },
      "outputs": [
        {
          "data": {
            "text/plain": [
              "array([[ 1., -2.],\n",
              "       [-1.,  5.]])"
            ]
          },
          "execution_count": 64,
          "metadata": {},
          "output_type": "execute_result"
        }
      ],
      "source": [
        "A/2"
      ]
    },
    {
      "cell_type": "markdown",
      "metadata": {
        "id": "nlDRHVFgHtli"
      },
      "source": [
        "#3. Multiplication in NumPy\n"
      ]
    },
    {
      "cell_type": "code",
      "execution_count": 65,
      "metadata": {
        "colab": {
          "base_uri": "https://localhost:8080/"
        },
        "id": "XITRjvusIqcz",
        "outputId": "7fdf048d-031c-4ec2-f47f-f90adadec1b6"
      },
      "outputs": [
        {
          "name": "stdout",
          "output_type": "stream",
          "text": [
            "Matrix A is:\n",
            " [[1 2 3]\n",
            " [4 5 6]]\n",
            "Matrix A is:\n",
            " [[1 1 1]\n",
            " [0 1 0]\n",
            " [1 1 1]]\n",
            "Matrix multiplication of matrix A and B is:\n",
            " [[ 4  6  4]\n",
            " [10 15 10]]\n",
            "Matrix multiplication of matrix A and B is:\n",
            " [[ 4  6  4]\n",
            " [10 15 10]]\n"
          ]
        }
      ],
      "source": [
        "import numpy as np\n",
        "A = np.array([[1,2,3], [4,5,6]])\n",
        "B = np.array([[1,1,1], [0,1,0], [1,1,1]])\n",
        "print(\"Matrix A is:\\n\",A)\n",
        "print(\"Matrix A is:\\n\",B)\n",
        "C = np.matmul(A,B)\n",
        "print(\"Matrix multiplication of matrix A and B is:\\n\",C)\n",
        "D = np.dot(A,B)\n",
        "print(\"Matrix multiplication of matrix A and B is:\\n\",D)"
      ]
    },
    {
      "cell_type": "markdown",
      "metadata": {
        "id": "wzDGuLPNK8RV"
      },
      "source": [
        "#4. Function\n",
        "\n",
        "def function_name(argument_1, argument_2, ...):\n",
        "    '''\n",
        "    Descriptive String\n",
        "    '''\n",
        "    # comments about the statements\n",
        "    function_statements\n",
        "    \n",
        "    return output_parameters (optional)\n",
        "\n"
      ]
    },
    {
      "cell_type": "code",
      "execution_count": 66,
      "metadata": {
        "colab": {
          "base_uri": "https://localhost:8080/"
        },
        "id": "WZGsQRDtuyJr",
        "outputId": "d631ed06-0dce-441c-9849-7e7932b6b119"
      },
      "outputs": [
        {
          "name": "stdout",
          "output_type": "stream",
          "text": [
            "11\n"
          ]
        }
      ],
      "source": [
        "def tambah(a,b):\n",
        "  return a+b\n",
        "\n",
        "a = 5\n",
        "b = 6\n",
        "c = tambah(a,b)\n",
        "print (c)"
      ]
    },
    {
      "cell_type": "code",
      "execution_count": 67,
      "metadata": {
        "colab": {
          "base_uri": "https://localhost:8080/"
        },
        "id": "5C_hnrDILSwq",
        "outputId": "e1f4ef26-f5b9-411a-e331-4fd50abb770b"
      },
      "outputs": [
        {
          "name": "stdout",
          "output_type": "stream",
          "text": [
            "5 + 6 = 11\n",
            "5 - 6 = -1\n",
            "5 * 6 = 30\n"
          ]
        }
      ],
      "source": [
        "def fungsi1(a,b) :\n",
        "  return a+b, a-b, a*b\n",
        "\n",
        "a1 = 5\n",
        "a2 = 6\n",
        "b1,b2,b3 = fungsi1(a1,a2)\n",
        "print (\"%d + %d = %d\" %(a1,a2,b1) )\n",
        "print (\"%d - %d = %d\" %(a1,a2,b2) )\n",
        "print (\"%d * %d = %d\" %(a1,a2,b3) )"
      ]
    },
    {
      "cell_type": "code",
      "execution_count": 68,
      "metadata": {
        "colab": {
          "base_uri": "https://localhost:8080/"
        },
        "id": "0nRCvPPpN2dX",
        "outputId": "5014400f-4e93-46ba-f01b-fa8aa5f948f1"
      },
      "outputs": [
        {
          "name": "stdout",
          "output_type": "stream",
          "text": [
            "c =-0.0806950697747637, d=-0.2750268284872752, e=[-0.0806950697747637, -0.2750268284872752]\n"
          ]
        }
      ],
      "source": [
        "def my_trig_sum(a, b):\n",
        "    \"\"\"\n",
        "    function to demo return multiple\n",
        "    author\n",
        "    date\n",
        "    \"\"\"\n",
        "    out1 = np.sin(a) + np.cos(b)\n",
        "    out2 = np.sin(b) + np.cos(a)\n",
        "    return out1, out2, [out1, out2]\n",
        "\n",
        "c, d, e = my_trig_sum(2, 3)\n",
        "print(f\"c ={c}, d={d}, e={e}\")"
      ]
    },
    {
      "cell_type": "markdown",
      "metadata": {
        "id": "51ZM2zMVONgX"
      },
      "source": [
        "## Nested function"
      ]
    },
    {
      "cell_type": "code",
      "execution_count": 69,
      "metadata": {
        "colab": {
          "base_uri": "https://localhost:8080/"
        },
        "id": "O8kzTf6GOQrG",
        "outputId": "a750df5a-8eab-4ad8-94d5-25b59558c210"
      },
      "outputs": [
        {
          "name": "stdout",
          "output_type": "stream",
          "text": [
            "[1.0, 1.4142135623730951, 1.0]\n"
          ]
        }
      ],
      "source": [
        "import numpy as np\n",
        "\n",
        "def my_dist_xyz(x, y, z):\n",
        "    \"\"\"\n",
        "    x, y, z are 2D coordinates contained in a tuple\n",
        "    output:\n",
        "    d - list, where\n",
        "        d[0] is the distance between x and y\n",
        "        d[1] is the distance between x and z\n",
        "        d[2] is the distance between y and z\n",
        "    \"\"\"\n",
        "\n",
        "    def my_dist(x, y):\n",
        "        \"\"\"\n",
        "        subfunction for my_dist_xyz\n",
        "        Output is the distance between x and y,\n",
        "        computed using the distance formula\n",
        "        \"\"\"\n",
        "        out = np.sqrt((x[0]-y[0])**2+(x[1]-y[1])**2)\n",
        "        return out\n",
        "\n",
        "    d0 = my_dist(x, y)\n",
        "    d1 = my_dist(x, z)\n",
        "    d2 = my_dist(y, z)\n",
        "\n",
        "    return [d0, d1, d2]\n",
        "\n",
        "\n",
        "d = my_dist_xyz((0, 0), (0, 1), (1, 1))\n",
        "print(d)\n"
      ]
    },
    {
      "cell_type": "markdown",
      "metadata": {
        "id": "SZhbVSqPOxmA"
      },
      "source": [
        "# Lambda Functions\n",
        "\n",
        "   - function is just one line\n",
        "   - a function that is defined without a name\n",
        "\n",
        "   ***lambda arguments: expression***"
      ]
    },
    {
      "cell_type": "code",
      "execution_count": 70,
      "metadata": {
        "colab": {
          "base_uri": "https://localhost:8080/"
        },
        "id": "R-ipI2M6OmgM",
        "outputId": "6e736b54-4b1b-47e9-e27f-06a48fa5dac3"
      },
      "outputs": [
        {
          "name": "stdout",
          "output_type": "stream",
          "text": [
            "4\n",
            "25\n"
          ]
        }
      ],
      "source": [
        "square = lambda x: x**2\n",
        "\n",
        "print(square(2))\n",
        "print(square(5))"
      ]
    },
    {
      "cell_type": "code",
      "execution_count": 71,
      "metadata": {
        "colab": {
          "base_uri": "https://localhost:8080/"
        },
        "id": "DComYpN5Pbaw",
        "outputId": "151b18b6-a756-4e0d-dbc3-7147da88169f"
      },
      "outputs": [
        {
          "name": "stdout",
          "output_type": "stream",
          "text": [
            "6\n"
          ]
        }
      ],
      "source": [
        "my_adder = lambda x, y: x + y\n",
        "\n",
        "print(my_adder(2, 4))"
      ]
    },
    {
      "cell_type": "code",
      "execution_count": 72,
      "metadata": {
        "colab": {
          "base_uri": "https://localhost:8080/"
        },
        "id": "mn5qAtw5PhM7",
        "outputId": "659d1941-23d9-4a3d-f3cb-09db25adae6c"
      },
      "outputs": [
        {
          "data": {
            "text/plain": [
              "[(2, 0, 2), (1, 2, 4), (4, 1, 5)]"
            ]
          },
          "execution_count": 72,
          "metadata": {},
          "output_type": "execute_result"
        }
      ],
      "source": [
        "sorted([(1, 2, 4), (2, 0, 2), (4, 1, 5)], key=lambda x: x[2])  # Sort [(1, 2, 4), (2, 0, 2), (4, 1, 5)] based on the 3nd item in the tuple"
      ]
    },
    {
      "cell_type": "markdown",
      "metadata": {
        "id": "B-KjP-ivcOZf"
      },
      "source": [
        "$$\n",
        "    f(x,y,z) = x^y - z\n",
        "$$"
      ]
    },
    {
      "cell_type": "code",
      "execution_count": 73,
      "metadata": {
        "id": "8o6BscT7cEAq"
      },
      "outputs": [],
      "source": [
        "fn = lambda x,y, z: x**y - z\n",
        "\n"
      ]
    },
    {
      "cell_type": "code",
      "execution_count": 74,
      "metadata": {
        "colab": {
          "base_uri": "https://localhost:8080/"
        },
        "id": "1Xs3mPn3dyUD",
        "outputId": "96295b6f-4f59-437d-9eb5-abf22784a58c"
      },
      "outputs": [
        {
          "name": "stdout",
          "output_type": "stream",
          "text": [
            "2^3 - 6 = 2\n"
          ]
        }
      ],
      "source": [
        "print (\"%d^%d - %d = %d\" %(2,3,6,fn(2,3,6)))"
      ]
    },
    {
      "cell_type": "markdown",
      "metadata": {
        "id": "z29BnvYxQXVw"
      },
      "source": [
        "## Functions as Arguments to Functions"
      ]
    },
    {
      "cell_type": "code",
      "execution_count": 75,
      "metadata": {
        "colab": {
          "base_uri": "https://localhost:8080/"
        },
        "id": "avTc0tQjQUgk",
        "outputId": "62e649a7-4200-4f05-aa5f-e9b997a5c91a"
      },
      "outputs": [
        {
          "name": "stdout",
          "output_type": "stream",
          "text": [
            "2.0\n",
            "1.0\n",
            "6.0\n"
          ]
        }
      ],
      "source": [
        "import numpy as np\n",
        "\n",
        "def my_fun_plus_one(f, x):\n",
        "    return f(x) + 1\n",
        "\n",
        "print(my_fun_plus_one(np.sin, np.pi/2))\n",
        "print(my_fun_plus_one(np.cos, np.pi/2))\n",
        "print(my_fun_plus_one(np.sqrt, 25))"
      ]
    },
    {
      "cell_type": "markdown",
      "metadata": {
        "id": "oeC4TjsLeR2Y"
      },
      "source": [
        "#5. Branching Statements"
      ]
    },
    {
      "cell_type": "code",
      "execution_count": 76,
      "metadata": {
        "colab": {
          "base_uri": "https://localhost:8080/"
        },
        "id": "Q1zO6Ds0eetf",
        "outputId": "b07a71b1-bad0-42c1-fb09-83a5cf774578"
      },
      "outputs": [
        {
          "name": "stdout",
          "output_type": "stream",
          "text": [
            "Nilai 81.50 = LULUS\n"
          ]
        }
      ],
      "source": [
        "def assesment(score):\n",
        "  if score >= 80:\n",
        "    return \"LULUS\"\n",
        "  else:\n",
        "    return \"GAGAL\"\n",
        "\n",
        "nilai1 = 81.5\n",
        "print (\"Nilai %.2f = %s\" %(nilai1, assesment(nilai1)))"
      ]
    },
    {
      "cell_type": "markdown",
      "metadata": {
        "id": "jFu2VzBsgLSF"
      },
      "source": [
        "## Ternary Operators\n",
        "\n",
        "***expression_if_true if condition else expression_if_false***"
      ]
    },
    {
      "cell_type": "code",
      "execution_count": 77,
      "metadata": {
        "colab": {
          "base_uri": "https://localhost:8080/"
        },
        "id": "wPqluwKAgT6b",
        "outputId": "4b6e9713-e7ff-4fb7-973e-c092d7596540"
      },
      "outputs": [
        {
          "name": "stdout",
          "output_type": "stream",
          "text": [
            "student\n"
          ]
        }
      ],
      "source": [
        "is_student = True\n",
        "person = 'student' if is_student else 'not student'\n",
        "print(person)"
      ]
    },
    {
      "cell_type": "code",
      "execution_count": 78,
      "metadata": {
        "colab": {
          "base_uri": "https://localhost:8080/"
        },
        "id": "heAuD3i1ga4i",
        "outputId": "144274e7-cc32-4d14-e1af-7ec3f6b32ae5"
      },
      "outputs": [
        {
          "name": "stdout",
          "output_type": "stream",
          "text": [
            "karena 10 > 3 maka hasil hitungnya 10\n",
            "karena 10 > 3 maka hasil hitungnya 1000\n"
          ]
        }
      ],
      "source": [
        "hitung1 = lambda x, y : x**y\n",
        "hitung2 = lambda x, y : y**x\n",
        "hasil1 = lambda x, y : x if x > y else y\n",
        "x = 10\n",
        "y = 3\n",
        "hasil2 = lambda x,y : hitung1(x,y) if x > y else hitung2(x,y)\n",
        "print (\"karena %d > %d maka hasil hitungnya %d\" %(x, y, hasil1(x,y)))\n",
        "print (\"karena %d > %d maka hasil hitungnya %d\" %(x, y, hasil2(x,y)))"
      ]
    },
    {
      "cell_type": "markdown",
      "metadata": {
        "id": "1QVsbCtjjbI9"
      },
      "source": [
        "# Iteration"
      ]
    },
    {
      "cell_type": "code",
      "execution_count": 79,
      "metadata": {
        "colab": {
          "base_uri": "https://localhost:8080/"
        },
        "id": "rVdKEinPjjsG",
        "outputId": "c8730c5e-e3ca-49f1-8075-57cc50a0bb51"
      },
      "outputs": [
        {
          "name": "stdout",
          "output_type": "stream",
          "text": [
            "1\n",
            "2\n",
            "3\n",
            "6\n"
          ]
        }
      ],
      "source": [
        "n = 0\n",
        "for i in range(1, 4):\n",
        "    print(i)\n",
        "    n = n + i\n",
        "\n",
        "print(n)"
      ]
    },
    {
      "cell_type": "code",
      "execution_count": 80,
      "metadata": {
        "colab": {
          "base_uri": "https://localhost:8080/"
        },
        "id": "BbXmnLrEjuk7",
        "outputId": "99212949-77dd-40e8-bb09-553ac77e357f"
      },
      "outputs": [
        {
          "name": "stdout",
          "output_type": "stream",
          "text": [
            "n = 0.5, i = 4\n"
          ]
        }
      ],
      "source": [
        "i = 0\n",
        "n = 8\n",
        "\n",
        "while n >= 1:\n",
        "    n /= 2\n",
        "    i += 1\n",
        "\n",
        "print(f'n = {n}, i = {i}')"
      ]
    },
    {
      "cell_type": "markdown",
      "metadata": {
        "id": "31WjV2fKj8jo"
      },
      "source": [
        "## Comprehensions\n",
        "\n",
        "***[Output Input_sequence Conditions]***"
      ]
    },
    {
      "cell_type": "code",
      "execution_count": 81,
      "metadata": {
        "colab": {
          "base_uri": "https://localhost:8080/"
        },
        "id": "wkSkcO1tkFrc",
        "outputId": "34af0c70-613b-48a8-94fa-3d1507571ca6"
      },
      "outputs": [
        {
          "name": "stdout",
          "output_type": "stream",
          "text": [
            "[0, 1, 4, 9, 16]\n"
          ]
        }
      ],
      "source": [
        "x = range(5)\n",
        "y = []\n",
        "\n",
        "for i in x:\n",
        "    y.append(i**2)\n",
        "print(y)\n"
      ]
    },
    {
      "cell_type": "code",
      "execution_count": 82,
      "metadata": {
        "colab": {
          "base_uri": "https://localhost:8080/"
        },
        "id": "lX6LsxYzkOHL",
        "outputId": "c0ce5809-9b05-48dd-a1bc-ddb6e0495e62"
      },
      "outputs": [
        {
          "name": "stdout",
          "output_type": "stream",
          "text": [
            "[0, 1, 4, 9, 16]\n"
          ]
        }
      ],
      "source": [
        "y = [i**2 for i in x]\n",
        "print(y)"
      ]
    },
    {
      "cell_type": "code",
      "execution_count": 83,
      "metadata": {
        "colab": {
          "base_uri": "https://localhost:8080/"
        },
        "id": "rwS06bzckVbL",
        "outputId": "4913d5e0-7a5b-4619-87ce-6a564a16c4e5"
      },
      "outputs": [
        {
          "name": "stdout",
          "output_type": "stream",
          "text": [
            "[0, 4, 16]\n"
          ]
        }
      ],
      "source": [
        "y = [i**2 for i in x if i%2 == 0]\n",
        "print(y)"
      ]
    },
    {
      "cell_type": "code",
      "execution_count": 84,
      "metadata": {
        "colab": {
          "base_uri": "https://localhost:8080/"
        },
        "id": "qW4LQWUTkZNe",
        "outputId": "db714a29-4809-45aa-e08d-35b4c809ac25"
      },
      "outputs": [
        {
          "name": "stdout",
          "output_type": "stream",
          "text": [
            "[0, 1, 1, 2, 2, 3, 3, 4, 4, 5]\n"
          ]
        }
      ],
      "source": [
        "y = [i + j for i in range(5) for j in range(2)]\n",
        "print(y)"
      ]
    }
  ],
  "metadata": {
    "colab": {
      "provenance": []
    },
    "kernelspec": {
      "display_name": "Python 3",
      "name": "python3"
    },
    "language_info": {
      "codemirror_mode": {
        "name": "ipython",
        "version": 3
      },
      "file_extension": ".py",
      "mimetype": "text/x-python",
      "name": "python",
      "nbconvert_exporter": "python",
      "pygments_lexer": "ipython3",
      "version": "3.10.9"
    }
  },
  "nbformat": 4,
  "nbformat_minor": 0
}
